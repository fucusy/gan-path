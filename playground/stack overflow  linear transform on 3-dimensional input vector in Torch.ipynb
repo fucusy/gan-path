{
 "cells": [
  {
   "cell_type": "code",
   "execution_count": null,
   "metadata": {
    "collapsed": true
   },
   "outputs": [],
   "source": [
    "-- torch.Tensor(2, 3, 4)　--> torch.Tensor(2, 3, 2)   multipled by torch.Tensor(4, 2)"
   ]
  },
  {
   "cell_type": "code",
   "execution_count": 22,
   "metadata": {
    "collapsed": false
   },
   "outputs": [
    {
     "data": {
      "text/plain": [
       "    5\n",
       "   32\n",
       " 1000\n",
       "[torch.LongStorage of size 3]\n",
       "\n"
      ]
     },
     "execution_count": 22,
     "metadata": {},
     "output_type": "execute_result"
    }
   ],
   "source": [
    "data = torch.Tensor(5, 32, 3000)\n",
    "mul = torch.Tensor(3000, 1000)\n",
    "res = torch.mm(data:view(5*32, 3000), mul):view(5, 32, 1000)\n",
    "print(res:size())"
   ]
  },
  {
   "cell_type": "code",
   "execution_count": 20,
   "metadata": {
    "collapsed": false
   },
   "outputs": [],
   "source": []
  },
  {
   "cell_type": "code",
   "execution_count": 21,
   "metadata": {
    "collapsed": false
   },
   "outputs": [
    {
     "data": {
      "text/plain": [
       "    5\n",
       "   32\n",
       " 1000\n",
       "[torch.LongStorage of size 3]\n",
       "\n"
      ]
     },
     "execution_count": 21,
     "metadata": {},
     "output_type": "execute_result"
    }
   ],
   "source": []
  },
  {
   "cell_type": "code",
   "execution_count": 25,
   "metadata": {
    "collapsed": false
   },
   "outputs": [],
   "source": [
    "local aaa = {1, 2, 3, 4}\n",
    "local bbb = {0, 0, 0, 1}\n",
    "local max= (#aaa>#bbb) and #aaa or #bbb\n",
    "local merged = {}\n",
    "for i=1,max do\n",
    "   if aaa[i] then table.insert(merged, aaa[i]) end\n",
    "   if bbb[i] then table.insert(merged, bbb[i]) end\n",
    "end\n"
   ]
  },
  {
   "cell_type": "code",
   "execution_count": null,
   "metadata": {
    "collapsed": true
   },
   "outputs": [],
   "source": []
  }
 ],
 "metadata": {
  "kernelspec": {
   "display_name": "iTorch",
   "language": "lua",
   "name": "itorch"
  },
  "language_info": {
   "name": "lua",
   "version": "5.1"
  }
 },
 "nbformat": 4,
 "nbformat_minor": 2
}
