{
 "cells": [
  {
   "cell_type": "code",
   "execution_count": null,
   "metadata": {
    "collapsed": true
   },
   "outputs": [],
   "source": []
  },
  {
   "cell_type": "markdown",
   "metadata": {},
   "source": [
    "## addmm"
   ]
  },
  {
   "cell_type": "code",
   "execution_count": 10,
   "metadata": {
    "collapsed": true
   },
   "outputs": [],
   "source": [
    "mat1 = torch.randn(4, 5)\n",
    "mat2 = torch.randn(5, 6)\n",
    "M = torch.randn(4, 6)\n",
    "res = torch.randn(4, 6)"
   ]
  },
  {
   "cell_type": "code",
   "execution_count": 11,
   "metadata": {
    "collapsed": false
   },
   "outputs": [
    {
     "data": {
      "text/plain": [
       "-0.7674 -1.8863 -6.2313  2.3271  0.6220  3.5500\n",
       " 0.3526 -0.3430 -0.7733  0.2058  2.5975  0.8315\n",
       "-0.3047 -3.9167  3.5484 -2.5815  3.0797 -0.1248\n",
       "-0.5258 -0.5618 -2.1986 -0.7256 -1.5201  4.5401\n",
       "[torch.DoubleTensor of size 4x6]\n",
       "\n"
      ]
     },
     "execution_count": 11,
     "metadata": {},
     "output_type": "execute_result"
    }
   ],
   "source": [
    "torch.addmm(res, M, mat1, mat2)"
   ]
  },
  {
   "cell_type": "code",
   "execution_count": 12,
   "metadata": {
    "collapsed": false
   },
   "outputs": [
    {
     "data": {
      "text/plain": [
       "-0.7674 -1.8863 -6.2313  2.3271  0.6220  3.5500\n",
       " 0.3526 -0.3430 -0.7733  0.2058  2.5975  0.8315\n",
       "-0.3047 -3.9167  3.5484 -2.5815  3.0797 -0.1248\n",
       "-0.5258 -0.5618 -2.1986 -0.7256 -1.5201  4.5401\n",
       "[torch.DoubleTensor of size 4x6]\n",
       "\n"
      ]
     },
     "execution_count": 12,
     "metadata": {},
     "output_type": "execute_result"
    }
   ],
   "source": [
    "print(res)"
   ]
  },
  {
   "cell_type": "markdown",
   "metadata": {},
   "source": [
    "## addmv"
   ]
  },
  {
   "cell_type": "code",
   "execution_count": 15,
   "metadata": {
    "collapsed": false
   },
   "outputs": [
    {
     "data": {
      "text/plain": [
       " 6.5282\n",
       " 2.0751\n",
       " 2.5236\n",
       "-0.2866\n",
       "[torch.DoubleTensor of size 4]\n",
       "\n"
      ]
     },
     "execution_count": 15,
     "metadata": {},
     "output_type": "execute_result"
    }
   ],
   "source": [
    "mat = torch.randn(4, 5)\n",
    "vec = torch.randn(5)\n",
    "print(torch.mv(mat, vec))"
   ]
  },
  {
   "cell_type": "code",
   "execution_count": null,
   "metadata": {
    "collapsed": true
   },
   "outputs": [],
   "source": []
  },
  {
   "cell_type": "markdown",
   "metadata": {},
   "source": [
    "## addr"
   ]
  },
  {
   "cell_type": "code",
   "execution_count": 19,
   "metadata": {
    "collapsed": true
   },
   "outputs": [],
   "source": [
    "v1 = torch.randn(5)\n",
    "v2 = torch.randn(6)\n",
    "res = torch.randn(5, 6)"
   ]
  },
  {
   "cell_type": "code",
   "execution_count": 20,
   "metadata": {
    "collapsed": false
   },
   "outputs": [
    {
     "data": {
      "text/plain": [
       " 1.6137 -3.0087 -0.2966 -0.9798  0.9683 -0.4441\n",
       " 1.0648 -5.8346 -1.1880  0.5376  3.1538 -6.0875\n",
       " 1.4091 -2.3172 -1.1430  1.4930  0.0568 -1.9527\n",
       "-0.2052  2.5646  1.5096 -0.1220 -0.8254  4.4867\n",
       " 1.7446 -0.0776  0.7327  2.0975 -0.0453  2.2410\n",
       "[torch.DoubleTensor of size 5x6]\n",
       "\n"
      ]
     },
     "execution_count": 20,
     "metadata": {},
     "output_type": "execute_result"
    }
   ],
   "source": [
    "torch.addr(res, v1, v2)"
   ]
  },
  {
   "cell_type": "code",
   "execution_count": null,
   "metadata": {
    "collapsed": true
   },
   "outputs": [],
   "source": []
  }
 ],
 "metadata": {
  "kernelspec": {
   "display_name": "iTorch",
   "language": "lua",
   "name": "itorch"
  },
  "language_info": {
   "name": "lua",
   "version": "5.1"
  }
 },
 "nbformat": 4,
 "nbformat_minor": 2
}
