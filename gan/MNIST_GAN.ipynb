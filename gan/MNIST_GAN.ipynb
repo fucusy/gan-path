{
 "cells": [
  {
   "cell_type": "code",
   "execution_count": 49,
   "metadata": {},
   "outputs": [],
   "source": [
    "require 'nn';\n",
    "require 'image';\n",
    "require 'mnist_loader';"
   ]
  },
  {
   "cell_type": "code",
   "execution_count": 50,
   "metadata": {
    "collapsed": true
   },
   "outputs": [],
   "source": [
    "generator = nn.Sequential()\n",
    "generator:add(nn.Linear(100, 1200))\n",
    "generator:add(nn.ReLU())\n",
    "generator:add(nn.Linear(1200, 1200))\n",
    "generator:add(nn.ReLU())\n",
    "generator:add(nn.Linear(1200, 32*32))\n",
    "generator:add(nn.Tanh())\n",
    "generator:add(nn.Reshape(32, 32))"
   ]
  },
  {
   "cell_type": "code",
   "execution_count": 54,
   "metadata": {},
   "outputs": [],
   "source": [
    "output = generator:forward(torch.randn(100))"
   ]
  },
  {
   "cell_type": "code",
   "execution_count": 55,
   "metadata": {},
   "outputs": [
    {
     "data": {
      "image/png": "[encoded data removed]",
      "text/plain": [
       "Console does not support images"
      ]
     },
     "metadata": {
      "image/png": {
       "height": 32,
       "width": 32
      }
     },
     "output_type": "display_data"
    },
    {
     "data": {
      "text/plain": [
       "\n"
      ]
     },
     "execution_count": 55,
     "metadata": {},
     "output_type": "execute_result"
    }
   ],
   "source": [
    "itorch.image(output)"
   ]
  },
  {
   "cell_type": "code",
   "execution_count": 56,
   "metadata": {
    "collapsed": true
   },
   "outputs": [],
   "source": [
    "discriminator = nn.Sequential()\n",
    "discriminator:add(nn.Reshape(1, 32*32))\n",
    "discriminator:add(nn.Linear(32*32, 240))\n",
    "discriminator:add(nn.ReLU())\n",
    "discriminator:add(nn.Linear(240, 240))\n",
    "discriminator:add(nn.ReLU())\n",
    "discriminator:add(nn.Linear(240, 2))\n",
    "discriminator:add(nn.LogSoftMax())"
   ]
  },
  {
   "cell_type": "code",
   "execution_count": 57,
   "metadata": {},
   "outputs": [
    {
     "data": {
      "text/plain": [
       "<mnist> done\t\n"
      ]
     },
     "execution_count": 57,
     "metadata": {},
     "output_type": "execute_result"
    }
   ],
   "source": [
    "trainSet = mnist.loadTrainSet()"
   ]
  },
  {
   "cell_type": "code",
   "execution_count": 58,
   "metadata": {},
   "outputs": [
    {
     "data": {
      "text/plain": [
       " 32\n",
       " 32\n",
       "[torch.LongStorage of size 2]\n",
       "\n"
      ]
     },
     "execution_count": 58,
     "metadata": {},
     "output_type": "execute_result"
    }
   ],
   "source": [
    "print(trainSet[1][1]:view(32, 32):size())"
   ]
  },
  {
   "cell_type": "code",
   "execution_count": 59,
   "metadata": {},
   "outputs": [
    {
     "data": {
      "text/plain": [
       "-2.1127 -0.1289\n",
       "[torch.DoubleTensor of size 1x2]\n",
       "\n",
       "\n"
      ]
     },
     "execution_count": 59,
     "metadata": {},
     "output_type": "execute_result"
    }
   ],
   "source": [
    "res = discriminator:forward(trainSet[1][1]:view(32, 32))\n",
    "print(print(res))"
   ]
  },
  {
   "cell_type": "code",
   "execution_count": null,
   "metadata": {
    "collapsed": true
   },
   "outputs": [],
   "source": []
  }
 ],
 "metadata": {
  "kernelspec": {
   "display_name": "iTorch",
   "language": "lua",
   "name": "itorch"
  },
  "language_info": {
   "name": "lua",
   "version": "5.1"
  }
 },
 "nbformat": 4,
 "nbformat_minor": 2
}
