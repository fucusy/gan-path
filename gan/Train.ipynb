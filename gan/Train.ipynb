{
 "cells": [
  {
   "cell_type": "code",
   "execution_count": 13,
   "metadata": {
    "collapsed": true
   },
   "outputs": [],
   "source": [
    "require 'nn';\n",
    "require 'model';\n",
    "require 'mnist_loader';"
   ]
  },
  {
   "cell_type": "code",
   "execution_count": 14,
   "metadata": {
    "collapsed": true
   },
   "outputs": [],
   "source": [
    "learningRate = 1e-3"
   ]
  },
  {
   "cell_type": "code",
   "execution_count": 15,
   "metadata": {
    "collapsed": true
   },
   "outputs": [],
   "source": [
    "G, D = get_model()"
   ]
  },
  {
   "cell_type": "code",
   "execution_count": 16,
   "metadata": {},
   "outputs": [
    {
     "data": {
      "text/plain": [
       "<mnist> done\t\n"
      ]
     },
     "execution_count": 16,
     "metadata": {},
     "output_type": "execute_result"
    }
   ],
   "source": [
    "train_set = mnist.loadTrainSet()"
   ]
  },
  {
   "cell_type": "code",
   "execution_count": 17,
   "metadata": {
    "collapsed": true
   },
   "outputs": [],
   "source": [
    "criterion = nn.ClassNLLCriterion()"
   ]
  },
  {
   "cell_type": "code",
   "execution_count": 18,
   "metadata": {},
   "outputs": [
    {
     "data": {
      "image/png": "[encoded data removed]",
      "text/plain": [
       "Console does not support images"
      ]
     },
     "metadata": {
      "image/png": {
       "height": 32,
       "width": 32
      }
     },
     "output_type": "display_data"
    },
    {
     "data": {
      "text/plain": [
       "0\t\n"
      ]
     },
     "execution_count": 18,
     "metadata": {},
     "output_type": "execute_result"
    }
   ],
   "source": [
    "itorch.image(train_set[1][1])\n",
    "print(train_set[1][2][9])"
   ]
  },
  {
   "cell_type": "code",
   "execution_count": null,
   "metadata": {},
   "outputs": [
    {
     "data": {
      "text/plain": [
       "500\t\n",
       "real D:0.001443575925884\t\n",
       "real D:0.023699226892469\t\n",
       "fake D:0.53525294671692\t\n",
       "fake D:0.5342965272318\t\n",
       "G make loss: 0.53523814467239\t\n"
      ]
     },
     "execution_count": 19,
     "metadata": {},
     "output_type": "execute_result"
    },
    {
     "data": {
      "image/png": "[encoded data removed]",
      "text/plain": [
       "Console does not support images"
      ]
     },
     "metadata": {
      "image/png": {
       "height": 32,
       "width": 32
      }
     },
     "output_type": "display_data"
    },
    {
     "data": {
      "text/plain": [
       "1000\t\n",
       "real D:0.0084692461845775\t\n",
       "real D:0.021712260787486\t\n",
       "fake D:0.40002248198695\t\n",
       "fake D:0.39897051850091\t\n",
       "G make loss: 0.40035210763126\t\n"
      ]
     },
     "execution_count": 19,
     "metadata": {},
     "output_type": "execute_result"
    },
    {
     "data": {
      "image/png": "[encoded data removed]",
      "text/plain": [
       "Console does not support images"
      ]
     },
     "metadata": {
      "image/png": {
       "height": 32,
       "width": 32
      }
     },
     "output_type": "display_data"
    },
    {
     "data": {
      "text/plain": [
       "1500\t\n",
       "real D:0.0062653632877794\t\n",
       "real D:0.045656475834044\t\n",
       "fake D:0.28425319770734\t\n",
       "fake D:0.28329977739215\t\n",
       "G make loss: 0.28421350954995\t\n"
      ]
     },
     "execution_count": 19,
     "metadata": {},
     "output_type": "execute_result"
    },
    {
     "data": {
      "image/png": "[encoded data removed]",
      "text/plain": [
       "Console does not support images"
      ]
     },
     "metadata": {
      "image/png": {
       "height": 32,
       "width": 32
      }
     },
     "output_type": "display_data"
    },
    {
     "data": {
      "text/plain": [
       "2000\t\n",
       "real D:0.0063851669917692\t\n",
       "real D:0.10000205465067\t\n",
       "fake D:0.24781705842757\t\n",
       "fake D:0.24609216794683\t\n",
       "G make loss: 0.24723772991048\t\n"
      ]
     },
     "execution_count": 19,
     "metadata": {},
     "output_type": "execute_result"
    },
    {
     "data": {
      "image/png": "[encoded data removed]",
      "text/plain": [
       "Console does not support images"
      ]
     },
     "metadata": {
      "image/png": {
       "height": 32,
       "width": 32
      }
     },
     "output_type": "display_data"
    },
    {
     "data": {
      "text/plain": [
       "2500\t\n",
       "real D:0.039094018768449\t\n",
       "real D:0.20078216210924\t\n",
       "fake D:0.21015859488538\t\n",
       "fake D:0.20753322159775\t\n",
       "G make loss: 0.20905578324034\t\n"
      ]
     },
     "execution_count": 19,
     "metadata": {},
     "output_type": "execute_result"
    },
    {
     "data": {
      "image/png": "[encoded data removed]",
      "text/plain": [
       "Console does not support images"
      ]
     },
     "metadata": {
      "image/png": {
       "height": 32,
       "width": 32
      }
     },
     "output_type": "display_data"
    },
    {
     "data": {
      "text/plain": [
       "3000\t\n",
       "real D:0.15494003553352\t\n",
       "real D:0.44271534331403\t\n",
       "fake D:0.24961442417915\t\n",
       "fake D:0.24256308402105\t\n",
       "G make loss: 0.24547037295943\t\n"
      ]
     },
     "execution_count": 19,
     "metadata": {},
     "output_type": "execute_result"
    },
    {
     "data": {
      "image/png": "[encoded data removed]",
      "text/plain": [
       "Console does not support images"
      ]
     },
     "metadata": {
      "image/png": {
       "height": 32,
       "width": 32
      }
     },
     "output_type": "display_data"
    },
    {
     "data": {
      "text/plain": [
       "3500\t\n",
       "real D:0.01518508679199\t\n",
       "real D:0.26662016981512\t\n",
       "fake D:0.14533168823855\t\n",
       "fake D:0.14217246347158\t\n",
       "G make loss: 0.14309303269668\t\n"
      ]
     },
     "execution_count": 19,
     "metadata": {},
     "output_type": "execute_result"
    },
    {
     "data": {
      "image/png": "[encoded data removed]",
      "text/plain": [
       "Console does not support images"
      ]
     },
     "metadata": {
      "image/png": {
       "height": 32,
       "width": 32
      }
     },
     "output_type": "display_data"
    },
    {
     "data": {
      "text/plain": [
       "4000\t\n",
       "real D:0.055020132069397\t\n",
       "real D:0.11937461122283\t\n",
       "fake D:0.11326780336223\t\n",
       "fake D:0.11016151994786\t\n",
       "G make loss: 0.11102636499586\t\n"
      ]
     },
     "execution_count": 19,
     "metadata": {},
     "output_type": "execute_result"
    },
    {
     "data": {
      "image/png": "[encoded data removed]",
      "text/plain": [
       "Console does not support images"
      ]
     },
     "metadata": {
      "image/png": {
       "height": 32,
       "width": 32
      }
     },
     "output_type": "display_data"
    },
    {
     "data": {
      "text/plain": [
       "4500\t\n",
       "real D:0.0062179053970621\t\n",
       "real D:0.11469914196016\t\n",
       "fake D:0.088154480239625\t\n",
       "fake D:0.085879591320722\t\n",
       "G make loss: 0.086464695653982\t\n"
      ]
     },
     "execution_count": 19,
     "metadata": {},
     "output_type": "execute_result"
    },
    {
     "data": {
      "image/png": "[encoded data removed]",
      "text/plain": [
       "Console does not support images"
      ]
     },
     "metadata": {
      "image/png": {
       "height": 32,
       "width": 32
      }
     },
     "output_type": "display_data"
    },
    {
     "data": {
      "text/plain": [
       "5000\t\n",
       "real D:0.01080774419037\t\n",
       "real D:0.12771327280577\t\n",
       "fake D:0.067226523809008\t\n",
       "fake D:0.065016973033801\t\n",
       "G make loss: 0.065532741025397\t\n"
      ]
     },
     "execution_count": 19,
     "metadata": {},
     "output_type": "execute_result"
    },
    {
     "data": {
      "image/png": "[encoded data removed]",
      "text/plain": [
       "Console does not support images"
      ]
     },
     "metadata": {
      "image/png": {
       "height": 32,
       "width": 32
      }
     },
     "output_type": "display_data"
    },
    {
     "data": {
      "text/plain": [
       "5500\t\n",
       "real D:0.028074408372992\t\n",
       "real D:0.11835438023415\t\n",
       "fake D:0.046595208258485\t\n",
       "fake D:0.045246981544031\t\n",
       "G make loss: 0.045577605482227\t\n"
      ]
     },
     "execution_count": 19,
     "metadata": {},
     "output_type": "execute_result"
    },
    {
     "data": {
      "image/png": "[encoded data removed]",
      "text/plain": [
       "Console does not support images"
      ]
     },
     "metadata": {
      "image/png": {
       "height": 32,
       "width": 32
      }
     },
     "output_type": "display_data"
    },
    {
     "data": {
      "text/plain": [
       "6000\t\n",
       "real D:0.00097803508878158\t\n",
       "real D:0.086752438859644\t\n",
       "fake D:0.03167121894876\t\n",
       "fake D:0.031039656565986\t\n",
       "G make loss: 0.031202063528479\t\n"
      ]
     },
     "execution_count": 19,
     "metadata": {},
     "output_type": "execute_result"
    },
    {
     "data": {
      "image/png": "[encoded data removed]",
      "text/plain": [
       "Console does not support images"
      ]
     },
     "metadata": {
      "image/png": {
       "height": 32,
       "width": 32
      }
     },
     "output_type": "display_data"
    },
    {
     "data": {
      "text/plain": [
       "6500\t\n",
       "real D:0.1050054178202\t\n",
       "real D:0.047550594327489\t\n",
       "fake D:0.03096609395556\t\n",
       "fake D:0.030308306804823\t\n",
       "G make loss: 0.030471824425938\t\n"
      ]
     },
     "execution_count": 19,
     "metadata": {},
     "output_type": "execute_result"
    },
    {
     "data": {
      "image/png": "[encoded data removed]",
      "text/plain": [
       "Console does not support images"
      ]
     },
     "metadata": {
      "image/png": {
       "height": 32,
       "width": 32
      }
     },
     "output_type": "display_data"
    },
    {
     "data": {
      "text/plain": [
       "7000\t\n",
       "real D:0.0033669241051433\t\n",
       "real D:0.065273287790181\t\n",
       "fake D:0.018266266018373\t\n",
       "fake D:0.018067826262047\t\n",
       "G make loss: 0.018114143368496\t\n"
      ]
     },
     "execution_count": 19,
     "metadata": {},
     "output_type": "execute_result"
    },
    {
     "data": {
      "image/png": "[encoded data removed]",
      "text/plain": [
       "Console does not support images"
      ]
     },
     "metadata": {
      "image/png": {
       "height": 32,
       "width": 32
      }
     },
     "output_type": "display_data"
    },
    {
     "data": {
      "text/plain": [
       "7500\t\n",
       "real D:0.0035301230745874\t\n",
       "real D:0.040259562339213\t\n",
       "fake D:0.020209182849384\t\n",
       "fake D:0.019773637398118\t\n",
       "G make loss: 0.019892492473799\t\n"
      ]
     },
     "execution_count": 19,
     "metadata": {},
     "output_type": "execute_result"
    },
    {
     "data": {
      "image/png": "[encoded data removed]",
      "text/plain": [
       "Console does not support images"
      ]
     },
     "metadata": {
      "image/png": {
       "height": 32,
       "width": 32
      }
     },
     "output_type": "display_data"
    },
    {
     "data": {
      "text/plain": [
       "8000\t\n",
       "real D:0.00059762901500671\t\n",
       "real D:0.044224477239312\t\n",
       "fake D:0.015256836410969\t\n",
       "fake D:0.015081857754188\t\n",
       "G make loss: 0.015128717120073\t\n"
      ]
     },
     "execution_count": 19,
     "metadata": {},
     "output_type": "execute_result"
    },
    {
     "data": {
      "image/png": "[encoded data removed]",
      "text/plain": [
       "Console does not support images"
      ]
     },
     "metadata": {
      "image/png": {
       "height": 32,
       "width": 32
      }
     },
     "output_type": "display_data"
    },
    {
     "data": {
      "text/plain": [
       "8500\t\n",
       "real D:0.006114984773812\t\n",
       "real D:0.043690045036556\t\n",
       "fake D:0.01186066435369\t\n",
       "fake D:0.01169086757155\t\n",
       "G make loss: 0.011736871954776\t\n"
      ]
     },
     "execution_count": 19,
     "metadata": {},
     "output_type": "execute_result"
    },
    {
     "data": {
      "image/png": "[encoded data removed]",
      "text/plain": [
       "Console does not support images"
      ]
     },
     "metadata": {
      "image/png": {
       "height": 32,
       "width": 32
      }
     },
     "output_type": "display_data"
    },
    {
     "data": {
      "text/plain": [
       "9000\t\n",
       "real D:0.011571109196347\t\n",
       "real D:0.037438205664737\t\n",
       "fake D:0.015368010557977\t\n",
       "fake D:0.015141753454583\t\n",
       "G make loss: 0.015199312270786\t\n"
      ]
     },
     "execution_count": 19,
     "metadata": {},
     "output_type": "execute_result"
    },
    {
     "data": {
      "image/png": "[encoded data removed]",
      "text/plain": [
       "Console does not support images"
      ]
     },
     "metadata": {
      "image/png": {
       "height": 32,
       "width": 32
      }
     },
     "output_type": "display_data"
    },
    {
     "data": {
      "text/plain": [
       "9500\t\n",
       "real D:0.031973517760418\t\n",
       "real D:0.036904582638968\t\n",
       "fake D:0.012762040003081\t\n",
       "fake D:0.012576661247703\t\n",
       "G make loss: 0.012625662737734\t\n"
      ]
     },
     "execution_count": 19,
     "metadata": {},
     "output_type": "execute_result"
    },
    {
     "data": {
      "image/png": "[encoded data removed]",
      "text/plain": [
       "Console does not support images"
      ]
     },
     "metadata": {
      "image/png": {
       "height": 32,
       "width": 32
      }
     },
     "output_type": "display_data"
    },
    {
     "data": {
      "text/plain": [
       "10000\t\n",
       "real D:7.3321808935489e-05\t\n",
       "real D:0.03856098789621\t\n",
       "fake D:0.011395494717634\t\n",
       "fake D:0.011254017379142\t\n",
       "G make loss: 0.011290912294099\t"
      ]
     },
     "execution_count": 19,
     "metadata": {},
     "output_type": "execute_result"
    },
    {
     "data": {
      "text/plain": [
       "\n"
      ]
     },
     "execution_count": 19,
     "metadata": {},
     "output_type": "execute_result"
    },
    {
     "data": {
      "image/png": "[encoded data removed]",
      "text/plain": [
       "Console does not support images"
      ]
     },
     "metadata": {
      "image/png": {
       "height": 32,
       "width": 32
      }
     },
     "output_type": "display_data"
    },
    {
     "data": {
      "text/plain": [
       "10500\t\n",
       "real D:0.028711132610604\t\n",
       "real D:0.033605014804514\t\n",
       "fake D:0.011375976970454\t\n",
       "fake D:0.011243693320097\t\n",
       "G make loss: 0.011280292861093\t\n"
      ]
     },
     "execution_count": 19,
     "metadata": {},
     "output_type": "execute_result"
    },
    {
     "data": {
      "image/png": "[encoded data removed]",
      "text/plain": [
       "Console does not support images"
      ]
     },
     "metadata": {
      "image/png": {
       "height": 32,
       "width": 32
      }
     },
     "output_type": "display_data"
    },
    {
     "data": {
      "text/plain": [
       "11000\t\n",
       "real D:7.5076120791273e-05\t\n",
       "real D:0.024014095937307\t\n",
       "fake D:0.011421081842962\t\n",
       "fake D:0.01123803380066\t\n",
       "G make loss: 0.011290744088717\t\n"
      ]
     },
     "execution_count": 19,
     "metadata": {},
     "output_type": "execute_result"
    },
    {
     "data": {
      "image/png": "[encoded data removed]",
      "text/plain": [
       "Console does not support images"
      ]
     },
     "metadata": {
      "image/png": {
       "height": 32,
       "width": 32
      }
     },
     "output_type": "display_data"
    },
    {
     "data": {
      "text/plain": [
       "11500\t\n",
       "real D:6.4266491341058e-05\t\n",
       "real D:0.021706777314198\t\n",
       "fake D:0.010027755553529\t\n",
       "fake D:0.0099218154071989\t\n",
       "G make loss: 0.0099526668146974\t\n"
      ]
     },
     "execution_count": 19,
     "metadata": {},
     "output_type": "execute_result"
    },
    {
     "data": {
      "image/png": "[encoded data removed]",
      "text/plain": [
       "Console does not support images"
      ]
     },
     "metadata": {
      "image/png": {
       "height": 32,
       "width": 32
      }
     },
     "output_type": "display_data"
    },
    {
     "data": {
      "text/plain": [
       "12000\t\n",
       "real D:0.00032704269794781\t\n",
       "real D:0.027493510165989\t\n",
       "fake D:0.0082942709445835\t\n",
       "fake D:0.0082066897140685\t\n",
       "G make loss: 0.0082332752871612\t\n"
      ]
     },
     "execution_count": 19,
     "metadata": {},
     "output_type": "execute_result"
    },
    {
     "data": {
      "image/png": "[encoded data removed]",
      "text/plain": [
       "Console does not support images"
      ]
     },
     "metadata": {
      "image/png": {
       "height": 32,
       "width": 32
      }
     },
     "output_type": "display_data"
    },
    {
     "data": {
      "text/plain": [
       "12500\t\n",
       "real D:0.00028636750790989\t\n",
       "real D:0.027695481115346\t\n",
       "fake D:0.00789252614479\t\n",
       "fake D:0.0078257859698119\t\n",
       "G make loss: 0.0078448214352531\t\n"
      ]
     },
     "execution_count": 19,
     "metadata": {},
     "output_type": "execute_result"
    },
    {
     "data": {
      "image/png": "[encoded data removed]",
      "text/plain": [
       "Console does not support images"
      ]
     },
     "metadata": {
      "image/png": {
       "height": 32,
       "width": 32
      }
     },
     "output_type": "display_data"
    },
    {
     "data": {
      "text/plain": [
       "13000\t\n",
       "real D:0.02586018680211\t\n",
       "real D:0.022833172708031\t\n",
       "fake D:0.0066023559345343\t\n",
       "fake D:0.0065526271155094\t\n",
       "G make loss: 0.0065674744299313\t\n"
      ]
     },
     "execution_count": 19,
     "metadata": {},
     "output_type": "execute_result"
    },
    {
     "data": {
      "image/png": "[encoded data removed]",
      "text/plain": [
       "Console does not support images"
      ]
     },
     "metadata": {
      "image/png": {
       "height": 32,
       "width": 32
      }
     },
     "output_type": "display_data"
    },
    {
     "data": {
      "text/plain": [
       "13500\t\n",
       "real D:1.2539087553165e-05\t\n",
       "real D:0.021349561286439\t\n",
       "fake D:0.0062752171076164\t\n",
       "fake D:0.0062336864546744\t\n",
       "G make loss: 0.0062453081409073\t\n"
      ]
     },
     "execution_count": 19,
     "metadata": {},
     "output_type": "execute_result"
    },
    {
     "data": {
      "image/png": "[encoded data removed]",
      "text/plain": [
       "Console does not support images"
      ]
     },
     "metadata": {
      "image/png": {
       "height": 32,
       "width": 32
      }
     },
     "output_type": "display_data"
    },
    {
     "data": {
      "text/plain": [
       "14000\t\n",
       "real D:3.1181999509577e-05\t\n",
       "real D:0.016548606680896\t\n",
       "fake D:0.0070858481271681\t\n",
       "fake D:0.0070244104759429\t\n",
       "G make loss: 0.0070431854901054\t\n"
      ]
     },
     "execution_count": 19,
     "metadata": {},
     "output_type": "execute_result"
    },
    {
     "data": {
      "image/png": "[encoded data removed]",
      "text/plain": [
       "Console does not support images"
      ]
     },
     "metadata": {
      "image/png": {
       "height": 32,
       "width": 32
      }
     },
     "output_type": "display_data"
    },
    {
     "data": {
      "text/plain": [
       "14500\t\n",
       "real D:0.00010818099878129\t\n",
       "real D:0.017164498463808\t\n",
       "fake D:0.0061039972259809\t\n",
       "fake D:0.0060436605481464\t\n",
       "G make loss: 0.0060615377707074\t\n"
      ]
     },
     "execution_count": 19,
     "metadata": {},
     "output_type": "execute_result"
    },
    {
     "data": {
      "image/png": "[encoded data removed]",
      "text/plain": [
       "Console does not support images"
      ]
     },
     "metadata": {
      "image/png": {
       "height": 32,
       "width": 32
      }
     },
     "output_type": "display_data"
    },
    {
     "data": {
      "text/plain": [
       "15000\t\n",
       "real D:0.000728252969179\t\n",
       "real D:0.018618896029528\t\n",
       "fake D:0.0053978271775557\t\n",
       "fake D:0.0053783558993103\t\n",
       "G make loss: 0.0053838905324377\t\n"
      ]
     },
     "execution_count": 19,
     "metadata": {},
     "output_type": "execute_result"
    },
    {
     "data": {
      "image/png": "[encoded data removed]",
      "text/plain": [
       "Console does not support images"
      ]
     },
     "metadata": {
      "image/png": {
       "height": 32,
       "width": 32
      }
     },
     "output_type": "display_data"
    },
    {
     "data": {
      "text/plain": [
       "15500\t\n",
       "real D:0.00018543440259133\t\n",
       "real D:0.011550780893872\t\n",
       "fake D:0.005891754357946\t\n",
       "fake D:0.0058476600798278\t\n",
       "G make loss: 0.0058607111359366\t\n"
      ]
     },
     "execution_count": 19,
     "metadata": {},
     "output_type": "execute_result"
    },
    {
     "data": {
      "image/png": "[encoded data removed]",
      "text/plain": [
       "Console does not support images"
      ]
     },
     "metadata": {
      "image/png": {
       "height": 32,
       "width": 32
      }
     },
     "output_type": "display_data"
    },
    {
     "data": {
      "text/plain": [
       "16000\t\n",
       "real D:0.006978388350888\t\n",
       "real D:0.012157714999272\t\n",
       "fake D:0.0051339719557473\t\n",
       "fake D:0.0051099699060941\t\n",
       "G make loss: 0.005116824329499\t\n"
      ]
     },
     "execution_count": 19,
     "metadata": {},
     "output_type": "execute_result"
    },
    {
     "data": {
      "image/png": "[encoded data removed]",
      "text/plain": [
       "Console does not support images"
      ]
     },
     "metadata": {
      "image/png": {
       "height": 32,
       "width": 32
      }
     },
     "output_type": "display_data"
    },
    {
     "data": {
      "text/plain": [
       "16500\t\n",
       "real D:0.0032767342608038\t\n",
       "real D:0.011483315243765\t\n",
       "fake D:0.0048067570367722\t\n",
       "fake D:0.0047854535521457\t\n",
       "G make loss: 0.0047916627205247\t\n"
      ]
     },
     "execution_count": 19,
     "metadata": {},
     "output_type": "execute_result"
    },
    {
     "data": {
      "image/png": "[encoded data removed]",
      "text/plain": [
       "Console does not support images"
      ]
     },
     "metadata": {
      "image/png": {
       "height": 32,
       "width": 32
      }
     },
     "output_type": "display_data"
    },
    {
     "data": {
      "text/plain": [
       "17000\t\n",
       "real D:0.018140127636535\t\n",
       "real D:0.0067744698394683\t\n",
       "fake D:0.0053489737017878\t\n",
       "fake D:0.0053154997788956\t\n",
       "G make loss: 0.0053253925874261\t\n"
      ]
     },
     "execution_count": 19,
     "metadata": {},
     "output_type": "execute_result"
    },
    {
     "data": {
      "image/png": "[encoded data removed]",
      "text/plain": [
       "Console does not support images"
      ]
     },
     "metadata": {
      "image/png": {
       "height": 32,
       "width": 32
      }
     },
     "output_type": "display_data"
    },
    {
     "data": {
      "text/plain": [
       "17500\t\n",
       "real D:3.0880819368306e-06\t\n",
       "real D:0.010444254600895\t\n",
       "fake D:0.0036287044048797\t\n",
       "fake D:0.0036131849627195\t\n",
       "G make loss: 0.0036175809198973\t\n"
      ]
     },
     "execution_count": 19,
     "metadata": {},
     "output_type": "execute_result"
    },
    {
     "data": {
      "image/png": "[encoded data removed]",
      "text/plain": [
       "Console does not support images"
      ]
     },
     "metadata": {
      "image/png": {
       "height": 32,
       "width": 32
      }
     },
     "output_type": "display_data"
    },
    {
     "data": {
      "text/plain": [
       "18000\t\n",
       "real D:0.00016057915409906\t\n",
       "real D:0.006480660389395\t\n",
       "fake D:0.0060433645637974\t\n",
       "fake D:0.0059975273466493\t\n",
       "G make loss: 0.0060117263490764\t\n"
      ]
     },
     "execution_count": 19,
     "metadata": {},
     "output_type": "execute_result"
    },
    {
     "data": {
      "image/png": "[encoded data removed]",
      "text/plain": [
       "Console does not support images"
      ]
     },
     "metadata": {
      "image/png": {
       "height": 32,
       "width": 32
      }
     },
     "output_type": "display_data"
    },
    {
     "data": {
      "text/plain": [
       "18500\t\n",
       "real D:1.0772415410365e-05\t\n",
       "real D:0.0045566439562368\t\n",
       "fake D:0.0044471498230902\t\n",
       "fake D:0.004415854666501\t\n",
       "G make loss: 0.0044243419396737\t\n"
      ]
     },
     "execution_count": 19,
     "metadata": {},
     "output_type": "execute_result"
    },
    {
     "data": {
      "image/png": "[encoded data removed]",
      "text/plain": [
       "Console does not support images"
      ]
     },
     "metadata": {
      "image/png": {
       "height": 32,
       "width": 32
      }
     },
     "output_type": "display_data"
    },
    {
     "data": {
      "text/plain": [
       "19000\t\n",
       "real D:0.0015675072341432\t\n",
       "real D:0.0066813625004891\t\n",
       "fake D:0.0038403444878332\t\n",
       "fake D:0.0038224029789307\t\n",
       "G make loss: 0.0038276376379041\t\n"
      ]
     },
     "execution_count": 19,
     "metadata": {},
     "output_type": "execute_result"
    },
    {
     "data": {
      "image/png": "[encoded data removed]",
      "text/plain": [
       "Console does not support images"
      ]
     },
     "metadata": {
      "image/png": {
       "height": 32,
       "width": 32
      }
     },
     "output_type": "display_data"
    },
    {
     "data": {
      "text/plain": [
       "19500\t\n",
       "real D:1.6426530605074e-05\t\n",
       "real D:0.0063589733003977\t\n",
       "fake D:0.0036007616879017\t\n",
       "fake D:0.0035850471409078\t\n",
       "G make loss: 0.0035899801270451\t\n"
      ]
     },
     "execution_count": 19,
     "metadata": {},
     "output_type": "execute_result"
    },
    {
     "data": {
      "image/png": "[encoded data removed]",
      "text/plain": [
       "Console does not support images"
      ]
     },
     "metadata": {
      "image/png": {
       "height": 32,
       "width": 32
      }
     },
     "output_type": "display_data"
    },
    {
     "data": {
      "text/plain": [
       "20000\t\n",
       "real D:0.00031957604008737\t\n",
       "real D:0.0056210760526807\t\n",
       "fake D:0.003309715656485\t\n",
       "fake D:0.0032974645885595\t\n",
       "G make loss: 0.003301020299936\t\n"
      ]
     },
     "execution_count": 19,
     "metadata": {},
     "output_type": "execute_result"
    },
    {
     "data": {
      "image/png": "[encoded data removed]",
      "text/plain": [
       "Console does not support images"
      ]
     },
     "metadata": {
      "image/png": {
       "height": 32,
       "width": 32
      }
     },
     "output_type": "display_data"
    },
    {
     "data": {
      "text/plain": [
       "20500\t\n",
       "real D:0.00023115260490059\t\n",
       "real D:0.0041858066337745\t\n",
       "fake D:0.0039811775212435\t\n",
       "fake D:0.0039537197404185\t\n",
       "G make loss: 0.0039625994764032\t\n"
      ]
     },
     "execution_count": 19,
     "metadata": {},
     "output_type": "execute_result"
    },
    {
     "data": {
      "image/png": "[encoded data removed]",
      "text/plain": [
       "Console does not support images"
      ]
     },
     "metadata": {
      "image/png": {
       "height": 32,
       "width": 32
      }
     },
     "output_type": "display_data"
    },
    {
     "data": {
      "text/plain": [
       "21000\t\n",
       "real D:1.5233530685776e-06\t\n",
       "real D:0.0043420334288755\t\n",
       "fake D:0.0027623142780033\t\n",
       "fake D:0.0027505533229717\t\n",
       "G make loss: 0.0027535932606852\t\n"
      ]
     },
     "execution_count": 19,
     "metadata": {},
     "output_type": "execute_result"
    },
    {
     "data": {
      "image/png": "[encoded data removed]",
      "text/plain": [
       "Console does not support images"
      ]
     },
     "metadata": {
      "image/png": {
       "height": 32,
       "width": 32
      }
     },
     "output_type": "display_data"
    },
    {
     "data": {
      "text/plain": [
       "21500\t\n",
       "real D:0.0010060362618152\t\n",
       "real D:0.0035778726752906\t\n",
       "fake D:0.0025999179472858\t\n",
       "fake D:0.0025908989073842\t\n",
       "G make loss: 0.002593739058697\t\n"
      ]
     },
     "execution_count": 19,
     "metadata": {},
     "output_type": "execute_result"
    },
    {
     "data": {
      "image/png": "[encoded data removed]",
      "text/plain": [
       "Console does not support images"
      ]
     },
     "metadata": {
      "image/png": {
       "height": 32,
       "width": 32
      }
     },
     "output_type": "display_data"
    },
    {
     "data": {
      "text/plain": [
       "22000\t\n",
       "real D:0.00076532307156718\t\n",
       "real D:0.0027163087957143\t\n",
       "fake D:0.002973260444421\t\n",
       "fake D:0.0029599575787356\t\n",
       "G make loss: 0.0029637599603674\t\n"
      ]
     },
     "execution_count": 19,
     "metadata": {},
     "output_type": "execute_result"
    },
    {
     "data": {
      "image/png": "[encoded data removed]",
      "text/plain": [
       "Console does not support images"
      ]
     },
     "metadata": {
      "image/png": {
       "height": 32,
       "width": 32
      }
     },
     "output_type": "display_data"
    },
    {
     "data": {
      "text/plain": [
       "22500\t\n",
       "real D:1.9510006348256e-06\t\n",
       "real D:0.0026701284481567\t\n",
       "fake D:0.0024074428119136\t\n",
       "fake D:0.0024010631184668\t\n",
       "G make loss: 0.0024028629435073\t\n"
      ]
     },
     "execution_count": 19,
     "metadata": {},
     "output_type": "execute_result"
    },
    {
     "data": {
      "image/png": "[encoded data removed]",
      "text/plain": [
       "Console does not support images"
      ]
     },
     "metadata": {
      "image/png": {
       "height": 32,
       "width": 32
      }
     },
     "output_type": "display_data"
    },
    {
     "data": {
      "text/plain": [
       "23000\t\n",
       "real D:4.4903893003934e-06\t\n",
       "real D:0.0024665251017577\t\n",
       "fake D:0.0025255841917051\t\n",
       "fake D:0.0025154956283484\t\n",
       "G make loss: 0.0025185132050067\t\n"
      ]
     },
     "execution_count": 19,
     "metadata": {},
     "output_type": "execute_result"
    },
    {
     "data": {
      "image/png": "[encoded data removed]",
      "text/plain": [
       "Console does not support images"
      ]
     },
     "metadata": {
      "image/png": {
       "height": 32,
       "width": 32
      }
     },
     "output_type": "display_data"
    }
   ],
   "source": [
    "-- update D\n",
    "counter = 0\n",
    "for j=1, 5 do\n",
    "    for i=1, train_set:size() do\n",
    "        if train_set[i][2][9] == 1 then\n",
    "            real_pred = D:forward(train_set[i][1]:view(32, 32))\n",
    "            real_target = 1\n",
    "            local real_D_loss_1 = criterion:forward(real_pred, real_target)\n",
    "\n",
    "\n",
    "\n",
    "            D:zeroGradParameters()\n",
    "            local t = criterion:backward(real_pred, real_target)\n",
    "            D:backward(train_set[i][1]:view(32, 32), t)\n",
    "            D:updateParameters(learningRate)\n",
    "            real_pred = D:forward(train_set[1][1]:view(32, 32))\n",
    "            local real_D_loss_2 = criterion:forward(real_pred, real_target)\n",
    "\n",
    "\n",
    "\n",
    "\n",
    "            -- fake image\n",
    "\n",
    "            noise = torch.randn(100)\n",
    "            fake_img = G:forward(noise)\n",
    "            fake_pred = D:forward(fake_img)\n",
    "            fake_target = 2\n",
    "\n",
    "            local fake_D_loss_1 = criterion:forward(fake_pred, fake_target)\n",
    "\n",
    "\n",
    "\n",
    "            D:zeroGradParameters()\n",
    "\n",
    "            local t = criterion:backward(fake_pred, fake_target)\n",
    "            local fake_img_prime = D:backward(fake_img, t)\n",
    "\n",
    "            D:updateParameters(learningRate)\n",
    "            fake_pred = D:forward(fake_img)\n",
    "            local fake_D_loss_2 = criterion:forward(fake_pred, fake_target)\n",
    "\n",
    "\n",
    "\n",
    "            -- for generator\n",
    "            G:zeroGradParameters()\n",
    "            G:backward(noise, fake_img_prime)\n",
    "            G:updateParameters(-learningRate)\n",
    "\n",
    "            new_fake_img = G:forward(noise)\n",
    "            new_fake_pred = D:forward(new_fake_img)\n",
    "            local G_D_loss = criterion:forward(new_fake_pred, fake_target)\n",
    "\n",
    "            counter = counter + 1\n",
    "            if counter % 500 == 0 then\n",
    "                print(counter)\n",
    "                print(\"real D:\" .. real_D_loss_1)\n",
    "                print(\"real D:\" .. real_D_loss_2)\n",
    "                print(\"fake D:\" .. fake_D_loss_1)    \n",
    "                print(\"fake D:\" .. fake_D_loss_2)\n",
    "                print(\"G make loss: \" .. G_D_loss)    \n",
    "                itorch.image(G:forward(torch.randn(100)))\n",
    "            end   \n",
    "        end   \n",
    "    end\n",
    "end"
   ]
  },
  {
   "cell_type": "code",
   "execution_count": null,
   "metadata": {
    "collapsed": true
   },
   "outputs": [],
   "source": []
  }
 ],
 "metadata": {
  "kernelspec": {
   "display_name": "iTorch",
   "language": "lua",
   "name": "itorch"
  },
  "language_info": {
   "name": "lua",
   "version": "5.1"
  }
 },
 "nbformat": 4,
 "nbformat_minor": 2
}
