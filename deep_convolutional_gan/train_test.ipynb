{
 "cells": [
  {
   "cell_type": "code",
   "execution_count": 1,
   "metadata": {
    "collapsed": false,
    "deletable": true,
    "editable": true
   },
   "outputs": [],
   "source": [
    "require 'cutorch';\n",
    "require 'cunn';\n",
    "require 'nn';\n",
    "require 'model';\n",
    "require 'mnist_loader';\n",
    "Plot = require 'itorch.Plot';"
   ]
  },
  {
   "cell_type": "code",
   "execution_count": 2,
   "metadata": {
    "collapsed": false,
    "deletable": true,
    "editable": true
   },
   "outputs": [],
   "source": [
    "cutorch.setDevice(1)\n",
    "\n",
    "G, D = get_model()\n",
    "G:cuda()\n",
    "D:cuda()\n",
    "\n",
    "criterion = nn.ClassNLLCriterion()\n",
    "criterion = criterion:cuda()"
   ]
  },
  {
   "cell_type": "code",
   "execution_count": 3,
   "metadata": {
    "collapsed": false,
    "deletable": true,
    "editable": true
   },
   "outputs": [
    {
     "data": {
      "text/plain": [
       "<mnist> done\t\n"
      ]
     },
     "execution_count": 3,
     "metadata": {},
     "output_type": "execute_result"
    },
    {
     "data": {
      "text/plain": [
       "-0.79992614568285\t\n"
      ]
     },
     "execution_count": 3,
     "metadata": {},
     "output_type": "execute_result"
    },
    {
     "data": {
      "text/plain": [
       "0.55043469725165\t\n"
      ]
     },
     "execution_count": 3,
     "metadata": {},
     "output_type": "execute_result"
    },
    {
     "data": {
      "image/png": "[encoded data removed]",
      "text/plain": [
       "Console does not support images"
      ]
     },
     "metadata": {
      "image/png": {
       "height": 32,
       "width": 32
      }
     },
     "output_type": "display_data"
    },
    {
     "data": {
      "text/plain": [
       "0\t\n"
      ]
     },
     "execution_count": 3,
     "metadata": {},
     "output_type": "execute_result"
    }
   ],
   "source": [
    "train_set = mnist.loadTrainSet()\n",
    "print(train_set.data:mean())\n",
    "print(train_set.data:std())\n",
    "displayData = train_set[1][1]\n",
    "itorch.image(displayData)\n",
    "print(train_set[1][2][9])"
   ]
  },
  {
   "cell_type": "code",
   "execution_count": 4,
   "metadata": {
    "collapsed": false,
    "deletable": true,
    "editable": true
   },
   "outputs": [],
   "source": [
    "fixedLabelVector = torch.zeros(10, 10):cuda()\n",
    "for m=1, 10 do\n",
    "    fixedLabelVector[{m, m}] = 1\n",
    "end\n",
    "fixedNoise = torch.randn(10, 100):cuda()"
   ]
  },
  {
   "cell_type": "code",
   "execution_count": 5,
   "metadata": {
    "collapsed": false,
    "deletable": true,
    "editable": true
   },
   "outputs": [
    {
     "data": {
      "text/plain": [
       "1.3014690011914e-05\t\n"
      ]
     },
     "execution_count": 5,
     "metadata": {},
     "output_type": "execute_result"
    },
    {
     "data": {
      "text/plain": [
       "0.012994674034417\t\n"
      ]
     },
     "execution_count": 5,
     "metadata": {},
     "output_type": "execute_result"
    },
    {
     "data": {
      "text/plain": [
       "0.00016719524865039\t\n"
      ]
     },
     "execution_count": 5,
     "metadata": {},
     "output_type": "execute_result"
    },
    {
     "data": {
      "text/plain": [
       "0.02336697280407\t\n"
      ]
     },
     "execution_count": 5,
     "metadata": {},
     "output_type": "execute_result"
    }
   ],
   "source": [
    "G_parameters, G_gradParameters = G:getParameters()\n",
    "D_parameters, D_gradParameters = D:getParameters()\n",
    "\n",
    "print(G_parameters:mean())\n",
    "print(G_parameters:std())\n",
    "print(D_parameters:mean())\n",
    "print(D_parameters:std())"
   ]
  },
  {
   "cell_type": "markdown",
   "metadata": {
    "deletable": true,
    "editable": true
   },
   "source": [
    "## arguments for adam optimizer"
   ]
  },
  {
   "cell_type": "code",
   "execution_count": 6,
   "metadata": {
    "collapsed": false,
    "deletable": true,
    "editable": true
   },
   "outputs": [],
   "source": [
    "-- gradclip = 5\n",
    "lr = 2e-4\n",
    "beta1 = 0.5\n",
    "beta2 = 0.999\n",
    "eps = 10e-8\n",
    "batchsize = 128\n",
    "epochsize = 10\n",
    "counter = 1\n",
    "\n",
    "counter_tb = {}\n",
    "D_fake_loss_tb = {}\n",
    "D_real_loss_tb = {}\n",
    "G_loss_tb = {}\n",
    "D_loss_tb = {}\n",
    "\n",
    "G_m = torch.zeros(G_parameters:size()):cuda()\n",
    "G_mt = torch.zeros(G_parameters:size()):cuda()\n",
    "G_v = torch.zeros(G_parameters:size()):cuda()\n",
    "G_vt = torch.zeros(G_parameters:size()):cuda()\n",
    "\n",
    "D_m = torch.zeros(D_parameters:size()):cuda()\n",
    "D_mt = torch.zeros(D_parameters:size()):cuda()\n",
    "D_v = torch.zeros(D_parameters:size()):cuda()\n",
    "D_vt = torch.zeros(D_parameters:size()):cuda()"
   ]
  },
  {
   "cell_type": "code",
   "execution_count": 7,
   "metadata": {
    "collapsed": false,
    "deletable": true,
    "editable": true
   },
   "outputs": [
    {
     "data": {
      "text/plain": [
       "100\t\n"
      ]
     },
     "execution_count": 7,
     "metadata": {},
     "output_type": "execute_result"
    },
    {
     "data": {
      "text/plain": [
       "200\t\n"
      ]
     },
     "execution_count": 7,
     "metadata": {},
     "output_type": "execute_result"
    },
    {
     "data": {
      "text/plain": [
       "300\t\n"
      ]
     },
     "execution_count": 7,
     "metadata": {},
     "output_type": "execute_result"
    },
    {
     "data": {
      "text/plain": [
       "400\t\n"
      ]
     },
     "execution_count": 7,
     "metadata": {},
     "output_type": "execute_result"
    },
    {
     "data": {
      "image/png": "[encoded data removed]",
      "text/plain": [
       "Console does not support images"
      ]
     },
     "metadata": {
      "image/png": {
       "height": 68,
       "width": 204
      }
     },
     "output_type": "display_data"
    },
    {
     "data": {
      "text/plain": [
       "500\t\n"
      ]
     },
     "execution_count": 7,
     "metadata": {},
     "output_type": "execute_result"
    },
    {
     "data": {
      "text/plain": [
       "600\t\n"
      ]
     },
     "execution_count": 7,
     "metadata": {},
     "output_type": "execute_result"
    },
    {
     "data": {
      "text/plain": [
       "700\t\n"
      ]
     },
     "execution_count": 7,
     "metadata": {},
     "output_type": "execute_result"
    },
    {
     "data": {
      "text/plain": [
       "800\t\n"
      ]
     },
     "execution_count": 7,
     "metadata": {},
     "output_type": "execute_result"
    },
    {
     "data": {
      "text/plain": [
       "900\t\n"
      ]
     },
     "execution_count": 7,
     "metadata": {},
     "output_type": "execute_result"
    },
    {
     "data": {
      "image/png": "[encoded data removed]",
      "text/plain": [
       "Console does not support images"
      ]
     },
     "metadata": {
      "image/png": {
       "height": 68,
       "width": 204
      }
     },
     "output_type": "display_data"
    },
    {
     "data": {
      "text/plain": [
       "1000\t\n"
      ]
     },
     "execution_count": 7,
     "metadata": {},
     "output_type": "execute_result"
    },
    {
     "data": {
      "text/plain": [
       "1100\t\n"
      ]
     },
     "execution_count": 7,
     "metadata": {},
     "output_type": "execute_result"
    },
    {
     "data": {
      "text/plain": [
       "1200\t\n"
      ]
     },
     "execution_count": 7,
     "metadata": {},
     "output_type": "execute_result"
    },
    {
     "data": {
      "text/plain": [
       "1300\t\n"
      ]
     },
     "execution_count": 7,
     "metadata": {},
     "output_type": "execute_result"
    },
    {
     "data": {
      "text/plain": [
       "1400\t\n"
      ]
     },
     "execution_count": 7,
     "metadata": {},
     "output_type": "execute_result"
    },
    {
     "data": {
      "image/png": "[encoded data removed]",
      "text/plain": [
       "Console does not support images"
      ]
     },
     "metadata": {
      "image/png": {
       "height": 68,
       "width": 204
      }
     },
     "output_type": "display_data"
    },
    {
     "data": {
      "text/plain": [
       "1500\t\n"
      ]
     },
     "execution_count": 7,
     "metadata": {},
     "output_type": "execute_result"
    },
    {
     "data": {
      "text/plain": [
       "1600\t\n"
      ]
     },
     "execution_count": 7,
     "metadata": {},
     "output_type": "execute_result"
    },
    {
     "data": {
      "text/plain": [
       "1700\t\n"
      ]
     },
     "execution_count": 7,
     "metadata": {},
     "output_type": "execute_result"
    },
    {
     "data": {
      "text/plain": [
       "1800\t\n"
      ]
     },
     "execution_count": 7,
     "metadata": {},
     "output_type": "execute_result"
    },
    {
     "data": {
      "image/png": "[encoded data removed]",
      "text/plain": [
       "Console does not support images"
      ]
     },
     "metadata": {
      "image/png": {
       "height": 68,
       "width": 204
      }
     },
     "output_type": "display_data"
    },
    {
     "data": {
      "text/plain": [
       "1900\t\n"
      ]
     },
     "execution_count": 7,
     "metadata": {},
     "output_type": "execute_result"
    },
    {
     "data": {
      "text/plain": [
       "2000\t\n"
      ]
     },
     "execution_count": 7,
     "metadata": {},
     "output_type": "execute_result"
    },
    {
     "data": {
      "text/plain": [
       "2100\t\n"
      ]
     },
     "execution_count": 7,
     "metadata": {},
     "output_type": "execute_result"
    },
    {
     "data": {
      "text/plain": [
       "2200\t\n"
      ]
     },
     "execution_count": 7,
     "metadata": {},
     "output_type": "execute_result"
    },
    {
     "data": {
      "text/plain": [
       "2300\t\n"
      ]
     },
     "execution_count": 7,
     "metadata": {},
     "output_type": "execute_result"
    },
    {
     "data": {
      "image/png": "[encoded data removed]",
      "text/plain": [
       "Console does not support images"
      ]
     },
     "metadata": {
      "image/png": {
       "height": 68,
       "width": 204
      }
     },
     "output_type": "display_data"
    },
    {
     "data": {
      "text/plain": [
       "2400\t\n"
      ]
     },
     "execution_count": 7,
     "metadata": {},
     "output_type": "execute_result"
    },
    {
     "data": {
      "text/plain": [
       "2500\t\n"
      ]
     },
     "execution_count": 7,
     "metadata": {},
     "output_type": "execute_result"
    },
    {
     "data": {
      "text/plain": [
       "2600\t\n"
      ]
     },
     "execution_count": 7,
     "metadata": {},
     "output_type": "execute_result"
    },
    {
     "data": {
      "text/plain": [
       "2700\t\n"
      ]
     },
     "execution_count": 7,
     "metadata": {},
     "output_type": "execute_result"
    },
    {
     "data": {
      "text/plain": [
       "2800\t\n"
      ]
     },
     "execution_count": 7,
     "metadata": {},
     "output_type": "execute_result"
    },
    {
     "data": {
      "image/png": "[encoded data removed]",
      "text/plain": [
       "Console does not support images"
      ]
     },
     "metadata": {
      "image/png": {
       "height": 68,
       "width": 204
      }
     },
     "output_type": "display_data"
    },
    {
     "data": {
      "text/plain": [
       "2900\t\n"
      ]
     },
     "execution_count": 7,
     "metadata": {},
     "output_type": "execute_result"
    },
    {
     "data": {
      "text/plain": [
       "3000\t\n"
      ]
     },
     "execution_count": 7,
     "metadata": {},
     "output_type": "execute_result"
    },
    {
     "data": {
      "text/plain": [
       "3100\t\n"
      ]
     },
     "execution_count": 7,
     "metadata": {},
     "output_type": "execute_result"
    },
    {
     "data": {
      "text/plain": [
       "3200\t\n"
      ]
     },
     "execution_count": 7,
     "metadata": {},
     "output_type": "execute_result"
    },
    {
     "data": {
      "image/png": "[encoded data removed]",
      "text/plain": [
       "Console does not support images"
      ]
     },
     "metadata": {
      "image/png": {
       "height": 68,
       "width": 204
      }
     },
     "output_type": "display_data"
    },
    {
     "data": {
      "text/plain": [
       "3300\t\n"
      ]
     },
     "execution_count": 7,
     "metadata": {},
     "output_type": "execute_result"
    },
    {
     "data": {
      "text/plain": [
       "3400\t\n"
      ]
     },
     "execution_count": 7,
     "metadata": {},
     "output_type": "execute_result"
    },
    {
     "data": {
      "text/plain": [
       "3500\t\n"
      ]
     },
     "execution_count": 7,
     "metadata": {},
     "output_type": "execute_result"
    },
    {
     "data": {
      "text/plain": [
       "3600\t\n"
      ]
     },
     "execution_count": 7,
     "metadata": {},
     "output_type": "execute_result"
    },
    {
     "data": {
      "text/plain": [
       "3700\t\n"
      ]
     },
     "execution_count": 7,
     "metadata": {},
     "output_type": "execute_result"
    },
    {
     "data": {
      "image/png": "[encoded data removed]",
      "text/plain": [
       "Console does not support images"
      ]
     },
     "metadata": {
      "image/png": {
       "height": 68,
       "width": 204
      }
     },
     "output_type": "display_data"
    },
    {
     "data": {
      "text/plain": [
       "3800\t\n"
      ]
     },
     "execution_count": 7,
     "metadata": {},
     "output_type": "execute_result"
    },
    {
     "data": {
      "text/plain": [
       "3900\t\n"
      ]
     },
     "execution_count": 7,
     "metadata": {},
     "output_type": "execute_result"
    },
    {
     "data": {
      "text/plain": [
       "4000\t\n"
      ]
     },
     "execution_count": 7,
     "metadata": {},
     "output_type": "execute_result"
    },
    {
     "data": {
      "text/plain": [
       "4100\t\n"
      ]
     },
     "execution_count": 7,
     "metadata": {},
     "output_type": "execute_result"
    },
    {
     "data": {
      "text/plain": [
       "4200\t\n"
      ]
     },
     "execution_count": 7,
     "metadata": {},
     "output_type": "execute_result"
    },
    {
     "data": {
      "image/png": "[encoded data removed]",
      "text/plain": [
       "Console does not support images"
      ]
     },
     "metadata": {
      "image/png": {
       "height": 68,
       "width": 204
      }
     },
     "output_type": "display_data"
    },
    {
     "data": {
      "text/plain": [
       "4300\t\n"
      ]
     },
     "execution_count": 7,
     "metadata": {},
     "output_type": "execute_result"
    },
    {
     "data": {
      "text/plain": [
       "4400\t\n"
      ]
     },
     "execution_count": 7,
     "metadata": {},
     "output_type": "execute_result"
    },
    {
     "data": {
      "text/plain": [
       "4500\t\n"
      ]
     },
     "execution_count": 7,
     "metadata": {},
     "output_type": "execute_result"
    },
    {
     "data": {
      "text/plain": [
       "4600\t\n"
      ]
     },
     "execution_count": 7,
     "metadata": {},
     "output_type": "execute_result"
    },
    {
     "data": {
      "image/png": "[encoded data removed]",
      "text/plain": [
       "Console does not support images"
      ]
     },
     "metadata": {
      "image/png": {
       "height": 68,
       "width": 204
      }
     },
     "output_type": "display_data"
    }
   ],
   "source": [
    "inputImgInputBatch = torch.zeros(batchsize, 32, 32):cuda()        \n",
    "inputVectorInputBatch = torch.zeros(batchsize, 10):cuda()\n",
    "inputVectorInputBatchRand = torch.zeros(batchsize, 10):cuda()\n",
    "\n",
    "for epoch=1, epochsize do\n",
    "    train_set:shuffle()\n",
    "    \n",
    "    if epoch == 30 then\n",
    "        lr = lr / 10\n",
    "    end\n",
    "    if epoch == 40 then\n",
    "        lr = lr / 10\n",
    "    end\n",
    "    \n",
    "    for batch_count = 1, train_set:size() / batchsize do        \n",
    "        inputImgInputBatch:zero()\n",
    "        inputVectorInputBatch:zero()\n",
    "        for batch_count_idx = 1, batchsize do\n",
    "            i = (batch_count - 1) * batchsize + batch_count_idx\n",
    "            inputImgInput = train_set[i][1]:view(32, 32):cuda()\n",
    "            inputVectorInput = train_set[i][2]:cuda()\n",
    "            inputVectorInputBatch[batch_count_idx] = inputVectorInput\n",
    "            inputImgInputBatch[batch_count_idx] = inputImgInput\n",
    "        end    \n",
    "        \n",
    "        \n",
    "        -- backward discriminator with real image\n",
    "        realPredBatch = D:forward({inputImgInputBatch, inputVectorInputBatch})\n",
    "        real_target = 1\n",
    "        D_backward = torch.zeros(batchsize, 2):cuda()        \n",
    "        D_real_loss_total = 0\n",
    "        for batch_count_idx = 1, batchsize do\n",
    "            D_real_loss = criterion:forward(realPredBatch[batch_count_idx], real_target)            \n",
    "            D_real_loss_total = D_real_loss_total + D_real_loss            \n",
    "            D_criterion = criterion:backward(realPredBatch[batch_count_idx], real_target)                       \n",
    "            D_backward[batch_count_idx] = D_criterion                        \n",
    "        end        \n",
    "        D_real_loss_total = D_real_loss_total / batchsize\n",
    "        D:zeroGradParameters()\n",
    "        D:backward({inputImgInputBatch, inputVectorInputBatch}, D_backward)        \n",
    "        D_gradParameters:div(batchsize)\n",
    "\n",
    "        -- remember grad parameters\n",
    "        D_gradParametersReal = D_gradParameters:clone()        \n",
    "            \n",
    "        -- backward discriminator with fake image\n",
    "        inputVectorInputBatchRand:zero()\n",
    "        for i = 1, batchsize do\n",
    "            inputVectorInputBatchRand[i][torch.random(1,10)] = 1\n",
    "        end\n",
    "        noiseBatch = torch.randn(batchsize, 100):cuda()\n",
    "        fakeImgBatch = G:forward({noiseBatch, inputVectorInputBatchRand})                \n",
    "        fakePredBatch = D:forward({fakeImgBatch, inputVectorInputBatchRand})\n",
    "        fake_target = 2\n",
    "        D_backward = torch.zeros(batchsize, 2):cuda()\n",
    "        D_fake_loss_total = 0\n",
    "        for batch_count_idx = 1, batchsize do\n",
    "            D_fake_loss = criterion:forward(fakePredBatch[batch_count_idx], fake_target)\n",
    "            D_fake_loss_total = D_fake_loss_total + D_fake_loss\n",
    "            D_criterion = criterion:backward(fakePredBatch[batch_count_idx], fake_target)\n",
    "            D_backward[{{batch_count_idx}, {}}] = D_criterion:clone()\n",
    "        end\n",
    "        D_fake_loss_total = D_fake_loss_total / batchsize\n",
    "        D:zeroGradParameters()\n",
    "        fakeImgPrime = D:backward({fakeImgBatch, inputVectorInputBatchRand}, D_backward)        \n",
    "        \n",
    "        D_gradParameters:div(batchsize)\n",
    "        \n",
    "        -- add grad parameter from real image backward\n",
    "        D_gradParameters:add(D_gradParametersReal)\n",
    "        \n",
    "        \n",
    "        -- update D parameters with Adam optimizer\n",
    "        D_m:mul(beta1):add(torch.mul(D_gradParameters, 1-beta1))\n",
    "        D_v:mul(beta2):add(torch.mul(torch.pow(D_gradParameters, 2), 1-beta2))\n",
    "\n",
    "        -- correct m and v\n",
    "        D_mt:copy(torch.div(D_m, 1-math.pow(beta1, counter)))\n",
    "        D_vt:copy(torch.div(D_v, 1-math.pow(beta2, counter)))\n",
    "\n",
    "        D_vt:sqrt():add(eps)\n",
    "        D_mt:mul(-1*lr)\n",
    "        D_parameters:add(D_mt:cdiv(D_vt))\n",
    "\n",
    "        \n",
    "        \n",
    "        -- training generator\n",
    "        inputVectorInputBatchRand:zero()\n",
    "        for i = 1, batchsize do\n",
    "            inputVectorInputBatchRand[i][torch.random(1,10)] = 1\n",
    "        end\n",
    "        noiseBatch = torch.randn(batchsize, 100):cuda()\n",
    "        fakeImgBatch = G:forward({noiseBatch, inputVectorInputBatchRand})                \n",
    "        fakePredBatch = D:forward({fakeImgBatch, inputVectorInputBatchRand})\n",
    "        D_backward = torch.zeros(batchsize, 2):cuda()\n",
    "        \n",
    "        G_loss_total = 0\n",
    "        for batch_count_idx = 1, batchsize do\n",
    "            G_loss = criterion:forward(fakePredBatch[batch_count_idx], real_target)\n",
    "            G_loss_total = G_loss_total + G_loss\n",
    "            D_criterion = criterion:backward(fakePredBatch[batch_count_idx], real_target)\n",
    "            D_backward[{{batch_count_idx}, {}}] = D_criterion:clone()\n",
    "        end\n",
    "        G_loss_total = G_loss_total / batchsize\n",
    "        D:zeroGradParameters()\n",
    "        fakeImgPrime = D:backward({fakeImgBatch, inputVectorInputBatchRand}, D_backward)                                        \n",
    "        \n",
    "        G:zeroGradParameters()\n",
    "        G:backward({noiseBatch, inputVectorInputBatchRand}, fakeImgPrime[1])\n",
    "        G_gradParameters:div(batchsize)\n",
    "\n",
    "        -- update generator parameter with Adam optimizer\n",
    "        G_m:mul(beta1):add(torch.mul(G_gradParameters, 1-beta1))\n",
    "        G_v:mul(beta2):add(torch.mul(torch.pow(G_gradParameters, 2), 1-beta2))\n",
    "\n",
    "        -- correct m and v\n",
    "        G_mt:copy(torch.div(G_m, 1-math.pow(beta1, counter)))\n",
    "        G_vt:copy(torch.div(G_v, 1-math.pow(beta2, counter)))\n",
    "\n",
    "        G_vt:sqrt():add(eps)\n",
    "        G_mt:mul(-1*lr)\n",
    "        G_parameters:add(G_mt:cdiv(G_vt))\n",
    " \n",
    "        counter = counter + 1        \n",
    "        if counter % 100 == 0 then            \n",
    "            table.insert(counter_tb, counter)\n",
    "            table.insert(D_fake_loss_tb, D_fake_loss_total)\n",
    "            table.insert(D_real_loss_tb, D_real_loss_total)\n",
    "            table.insert(G_loss_tb, G_loss_total)\n",
    "            table.insert(D_loss_tb, D_fake_loss_total + D_real_loss_total)\n",
    "            print(counter)\n",
    "        end\n",
    "    end\n",
    "    local res = G:forward({fixedNoise, fixedLabelVector}) + 0.5\n",
    "    itorch.image(res)\n",
    "end"
   ]
  },
  {
   "cell_type": "code",
   "execution_count": 8,
   "metadata": {
    "collapsed": false,
    "deletable": true,
    "editable": true
   },
   "outputs": [
    {
     "data": {
      "text/html": [
       "<script type=\"text/javascript\">\n",
       "$(function() {\n",
       "    if (typeof (window._bokeh_onload_callbacks) === \"undefined\"){\n",
       "  window._bokeh_onload_callbacks = [];\n",
       "    }\n",
       "    function load_lib(url, callback){\n",
       "  window._bokeh_onload_callbacks.push(callback);\n",
       "  if (window._bokeh_is_loading){\n",
       "      console.log(\"Bokeh: BokehJS is being loaded, scheduling callback at\", new Date());\n",
       "      return null;\n",
       "  }\n",
       "  console.log(\"Bokeh: BokehJS not loaded, scheduling load and callback at\", new Date());\n",
       "  window._bokeh_is_loading = true;\n",
       "  var s = document.createElement('script');\n",
       "  s.src = url;\n",
       "  s.async = true;\n",
       "  s.onreadystatechange = s.onload = function(){\n",
       "      Bokeh.embed.inject_css(\"https://cdn.pydata.org/bokeh-0.7.0.min.css\");\n",
       "      window._bokeh_onload_callbacks.forEach(function(callback){callback()});\n",
       "  };\n",
       "  s.onerror = function(){\n",
       "      console.warn(\"failed to load library \" + url);\n",
       "  };\n",
       "  document.getElementsByTagName(\"head\")[0].appendChild(s);\n",
       "    }\n",
       "\n",
       "    bokehjs_url = \"https://cdn.pydata.org/bokeh-0.7.0.min.js\"\n",
       "\n",
       "    var elt = document.getElementById(\"d8769ff3-60c1-4be2-cbef-3376017c54e6\");\n",
       "    if(elt==null) {\n",
       "  console.log(\"Bokeh: ERROR: autoload.js configured with elementid 'd8769ff3-60c1-4be2-cbef-3376017c54e6'\"\n",
       "        + \"but no matching script tag was found. \")\n",
       "  return false;\n",
       "    }\n",
       "\n",
       "    if(typeof(Bokeh) !== \"undefined\") {\n",
       "  console.log(\"Bokeh: BokehJS loaded, going straight to plotting\");\n",
       "  var modelid = \"7d0e3034-00f9-433f-c303-8ee9f15f43eb\";\n",
       "  var modeltype = \"Plot\";\n",
       "  var all_models = [{\"id\":\"3f6751a2-733b-4934-c931-1d1d86374e94\",\"type\":\"ColumnDataSource\",\"attributes\":{\"data\":{\"y\":[0.91090158745646,0.91352146980353,0.80267740949057,0.60533342882991,0.4980022511445,0.42095843935385,0.55312034324743,0.80953122442588,0.71987483068369,0.78809821163304,0.70724128745496,0.81577337463386,0.71010268572718,0.70489623141475,0.60747239156626,0.78769143391401,0.92481016297825,0.95700215059333,0.85449676564895,1.1439443507697,1.0194017493632,0.89878543023951,1.0461474687327,1.2428637852427,1.2543164093513,1.3773162737489,1.1350690827239,0.95867051952519,0.83262379607186,0.70288615766913,1.1335588730872,1.2717422558926,0.95340143423527,1.2265062623192,1.0955807704013,0.84599389997311,1.0943114319816,0.78015436814167,0.88613498443738,0.67132678162307,1.460134328343,1.2069099012297,0.96148288855329,1.1124577415176,0.85558366402984,0.69032249134034],\"x\":[100,200,300,400,500,600,700,800,900,1000,1100,1200,1300,1400,1500,1600,1700,1800,1900,2000,2100,2200,2300,2400,2500,2600,2700,2800,2900,3000,3100,3200,3300,3400,3500,3600,3700,3800,3900,4000,4100,4200,4300,4400,4500,4600]},\"column_names\":[\"y\",\"x\"],\"cont_ranges\":{},\"discrete_ranges\":{},\"selected\":[],\"id\":\"3f6751a2-733b-4934-c931-1d1d86374e94\",\"doc\":null,\"tags\":[]}},{\"id\":\"916b9db1-7745-489e-c89f-1f690cc20823\",\"type\":\"Line\",\"attributes\":{\"fill_alpha\":{\"units\":\"data\",\"value\":0.2},\"line_alpha\":{\"units\":\"data\",\"value\":1},\"doc\":null,\"size\":{\"units\":\"screen\",\"value\":10},\"fill_color\":{\"value\":\"blue\"},\"line_color\":{\"value\":\"blue\"},\"x\":{\"units\":\"data\",\"field\":\"x\"},\"id\":\"916b9db1-7745-489e-c89f-1f690cc20823\",\"y\":{\"units\":\"data\",\"field\":\"y\"},\"tags\":[]}},{\"id\":\"1abaa17f-bd72-4876-c83c-1f031df8990d\",\"type\":\"Line\",\"attributes\":{\"fill_alpha\":{\"units\":\"data\",\"value\":0.2},\"line_alpha\":{\"units\":\"data\",\"value\":1},\"doc\":null,\"size\":{\"units\":\"screen\",\"value\":10},\"fill_color\":{\"value\":\"blue\"},\"line_color\":{\"value\":\"blue\"},\"x\":{\"units\":\"data\",\"field\":\"x\"},\"id\":\"1abaa17f-bd72-4876-c83c-1f031df8990d\",\"y\":{\"units\":\"data\",\"field\":\"y\"},\"tags\":[]}},{\"id\":\"6b9474d1-8d60-4850-c806-e7a23f5fff7f\",\"type\":\"GlyphRenderer\",\"attributes\":{\"name\":null,\"nonselection_glyph\":{\"type\":\"Line\",\"id\":\"1abaa17f-bd72-4876-c83c-1f031df8990d\"},\"doc\":null,\"server_data_source\":null,\"data_source\":{\"type\":\"ColumnDataSource\",\"id\":\"3f6751a2-733b-4934-c931-1d1d86374e94\"},\"glyph\":{\"type\":\"Line\",\"id\":\"916b9db1-7745-489e-c89f-1f690cc20823\"},\"selection_glyph\":null,\"id\":\"6b9474d1-8d60-4850-c806-e7a23f5fff7f\",\"tags\":[]}},{\"id\":\"a49f8f88-172c-43fc-c36e-1e4be944b303\",\"type\":\"ColumnDataSource\",\"attributes\":{\"data\":{\"y\":[1.0638688220643,1.037196432706,1.2116084785666,1.6073948554695,1.6039500180632,1.7114708048757,2.0533857238479,1.2563269156963,1.3289839401841,1.5803912854753,1.5060518532991,1.6184182118159,1.476563377073,1.5064880652353,1.2320155079942,1.9078866168857,1.3363549923524,1.3200787103269,0.80980983329937,1.1898359083571,1.1729752484243,1.1182339354418,0.58153302595019,0.86145878490061,1.0165552010294,0.88144966796972,1.192336963024,0.75090539362282,1.0228735653218,1.0038194986992,0.51841707574204,1.6136952796951,0.75933784386143,1.3684583338909,1.038027276285,1.4767814045772,1.2241329164244,1.0663902400993,1.1963935727254,1.1383992177434,1.9446834791452,1.5465291310102,1.4829141469672,1.2045470010489,1.5231973808259,2.1290588700213],\"x\":[100,200,300,400,500,600,700,800,900,1000,1100,1200,1300,1400,1500,1600,1700,1800,1900,2000,2100,2200,2300,2400,2500,2600,2700,2800,2900,3000,3100,3200,3300,3400,3500,3600,3700,3800,3900,4000,4100,4200,4300,4400,4500,4600]},\"column_names\":[\"y\",\"x\"],\"cont_ranges\":{},\"discrete_ranges\":{},\"selected\":[],\"id\":\"a49f8f88-172c-43fc-c36e-1e4be944b303\",\"doc\":null,\"tags\":[]}},{\"id\":\"4c92973d-d7fe-41e5-c1dd-b80d028b6905\",\"type\":\"Line\",\"attributes\":{\"fill_alpha\":{\"units\":\"data\",\"value\":0.2},\"line_alpha\":{\"units\":\"data\",\"value\":1},\"doc\":null,\"size\":{\"units\":\"screen\",\"value\":10},\"fill_color\":{\"value\":\"orange\"},\"line_color\":{\"value\":\"orange\"},\"x\":{\"units\":\"data\",\"field\":\"x\"},\"id\":\"4c92973d-d7fe-41e5-c1dd-b80d028b6905\",\"y\":{\"units\":\"data\",\"field\":\"y\"},\"tags\":[]}},{\"id\":\"c1b533d8-3c18-4cdd-cc47-403647fe1018\",\"type\":\"Line\",\"attributes\":{\"fill_alpha\":{\"units\":\"data\",\"value\":0.2},\"line_alpha\":{\"units\":\"data\",\"value\":1},\"doc\":null,\"size\":{\"units\":\"screen\",\"value\":10},\"fill_color\":{\"value\":\"orange\"},\"line_color\":{\"value\":\"orange\"},\"x\":{\"units\":\"data\",\"field\":\"x\"},\"id\":\"c1b533d8-3c18-4cdd-cc47-403647fe1018\",\"y\":{\"units\":\"data\",\"field\":\"y\"},\"tags\":[]}},{\"id\":\"f7004df0-ddf7-4d03-cdb8-4fa1de6e3bcf\",\"type\":\"GlyphRenderer\",\"attributes\":{\"name\":null,\"nonselection_glyph\":{\"type\":\"Line\",\"id\":\"c1b533d8-3c18-4cdd-cc47-403647fe1018\"},\"doc\":null,\"server_data_source\":null,\"data_source\":{\"type\":\"ColumnDataSource\",\"id\":\"a49f8f88-172c-43fc-c36e-1e4be944b303\"},\"glyph\":{\"type\":\"Line\",\"id\":\"4c92973d-d7fe-41e5-c1dd-b80d028b6905\"},\"selection_glyph\":null,\"id\":\"f7004df0-ddf7-4d03-cdb8-4fa1de6e3bcf\",\"tags\":[]}},{\"id\":\"fc73a7e6-7404-4f02-cf0e-21bbb4c021ef\",\"type\":\"DataRange1d\",\"attributes\":{\"sources\":[{\"columns\":[\"x\"],\"source\":{\"type\":\"ColumnDataSource\",\"id\":\"3f6751a2-733b-4934-c931-1d1d86374e94\"}},{\"columns\":[\"x\"],\"source\":{\"type\":\"ColumnDataSource\",\"id\":\"a49f8f88-172c-43fc-c36e-1e4be944b303\"}}],\"id\":\"fc73a7e6-7404-4f02-cf0e-21bbb4c021ef\",\"tags\":[],\"doc\":null}},{\"id\":\"3341b4ae-cbb7-4b06-cb09-af6b68284b67\",\"type\":\"DataRange1d\",\"attributes\":{\"sources\":[{\"columns\":[\"y\"],\"source\":{\"type\":\"ColumnDataSource\",\"id\":\"3f6751a2-733b-4934-c931-1d1d86374e94\"}},{\"columns\":[\"y\"],\"source\":{\"type\":\"ColumnDataSource\",\"id\":\"a49f8f88-172c-43fc-c36e-1e4be944b303\"}}],\"id\":\"3341b4ae-cbb7-4b06-cb09-af6b68284b67\",\"tags\":[],\"doc\":null}},{\"id\":\"4790005a-184c-44cd-c430-d44d8e4487c9\",\"type\":\"ToolEvents\",\"attributes\":{\"tags\":[],\"id\":\"4790005a-184c-44cd-c430-d44d8e4487c9\",\"geometries\":[],\"doc\":null}},{\"id\":\"851d1b8b-11ef-4d4f-cd56-15c4c5291a50\",\"type\":\"BasicTickFormatter\",\"attributes\":{\"id\":\"851d1b8b-11ef-4d4f-cd56-15c4c5291a50\",\"tags\":[],\"doc\":null}},{\"id\":\"edb83bf6-05e3-44b6-c4a2-4de8e78dc2eb\",\"type\":\"BasicTicker\",\"attributes\":{\"num_minor_ticks\":5,\"id\":\"edb83bf6-05e3-44b6-c4a2-4de8e78dc2eb\",\"tags\":[],\"doc\":null}},{\"id\":\"9ad64c8d-0dc1-490d-c9da-0dd82bac1e91\",\"type\":\"LinearAxis\",\"attributes\":{\"formatter\":{\"type\":\"BasicTickFormatter\",\"id\":\"851d1b8b-11ef-4d4f-cd56-15c4c5291a50\"},\"ticker\":{\"type\":\"BasicTicker\",\"id\":\"edb83bf6-05e3-44b6-c4a2-4de8e78dc2eb\"},\"plot\":{\"id\":\"7d0e3034-00f9-433f-c303-8ee9f15f43eb\",\"type\":\"Plot\",\"subtype\":\"Figure\"},\"axis_label\":null,\"id\":\"9ad64c8d-0dc1-490d-c9da-0dd82bac1e91\",\"doc\":null,\"tags\":[]}},{\"id\":\"88fe02b4-c305-4443-c4bc-51a48e8ab53c\",\"type\":\"Grid\",\"attributes\":{\"dimension\":0,\"plot\":{\"id\":\"7d0e3034-00f9-433f-c303-8ee9f15f43eb\",\"type\":\"Plot\",\"subtype\":\"Figure\"},\"ticker\":{\"type\":\"BasicTicker\",\"id\":\"edb83bf6-05e3-44b6-c4a2-4de8e78dc2eb\"},\"id\":\"88fe02b4-c305-4443-c4bc-51a48e8ab53c\",\"doc\":null,\"tags\":[]}},{\"id\":\"3de3aa81-2bc2-4514-c55b-552a597be5ee\",\"type\":\"BasicTickFormatter\",\"attributes\":{\"id\":\"3de3aa81-2bc2-4514-c55b-552a597be5ee\",\"tags\":[],\"doc\":null}},{\"id\":\"30478146-1415-43bc-c354-2f11b7f63741\",\"type\":\"BasicTicker\",\"attributes\":{\"num_minor_ticks\":5,\"id\":\"30478146-1415-43bc-c354-2f11b7f63741\",\"tags\":[],\"doc\":null}},{\"id\":\"67fedde7-77f3-4be4-cbee-f8d7e302e1f3\",\"type\":\"LinearAxis\",\"attributes\":{\"formatter\":{\"type\":\"BasicTickFormatter\",\"id\":\"3de3aa81-2bc2-4514-c55b-552a597be5ee\"},\"ticker\":{\"type\":\"BasicTicker\",\"id\":\"30478146-1415-43bc-c354-2f11b7f63741\"},\"plot\":{\"id\":\"7d0e3034-00f9-433f-c303-8ee9f15f43eb\",\"type\":\"Plot\",\"subtype\":\"Figure\"},\"axis_label\":null,\"id\":\"67fedde7-77f3-4be4-cbee-f8d7e302e1f3\",\"doc\":null,\"tags\":[]}},{\"id\":\"bf1c741c-5060-4927-c9b9-07391de6e8a4\",\"type\":\"Grid\",\"attributes\":{\"dimension\":1,\"plot\":{\"id\":\"7d0e3034-00f9-433f-c303-8ee9f15f43eb\",\"type\":\"Plot\",\"subtype\":\"Figure\"},\"ticker\":{\"type\":\"BasicTicker\",\"id\":\"30478146-1415-43bc-c354-2f11b7f63741\"},\"id\":\"bf1c741c-5060-4927-c9b9-07391de6e8a4\",\"doc\":null,\"tags\":[]}},{\"id\":\"e4375cef-c895-46d0-c6a9-fab205519e72\",\"type\":\"PanTool\",\"attributes\":{\"plot\":{\"id\":\"7d0e3034-00f9-433f-c303-8ee9f15f43eb\",\"type\":\"Plot\",\"subtype\":\"Figure\"},\"dimensions\":[\"width\",\"height\"],\"id\":\"e4375cef-c895-46d0-c6a9-fab205519e72\",\"doc\":null,\"tags\":[]}},{\"id\":\"648b2e60-e405-4c40-cc5b-fff61141078a\",\"type\":\"WheelZoomTool\",\"attributes\":{\"plot\":{\"id\":\"7d0e3034-00f9-433f-c303-8ee9f15f43eb\",\"type\":\"Plot\",\"subtype\":\"Figure\"},\"dimensions\":[\"width\",\"height\"],\"id\":\"648b2e60-e405-4c40-cc5b-fff61141078a\",\"doc\":null,\"tags\":[]}},{\"id\":\"489e075e-014c-4ef5-ce93-ac111bcdfad3\",\"type\":\"BoxZoomTool\",\"attributes\":{\"plot\":{\"id\":\"7d0e3034-00f9-433f-c303-8ee9f15f43eb\",\"type\":\"Plot\",\"subtype\":\"Figure\"},\"id\":\"489e075e-014c-4ef5-ce93-ac111bcdfad3\",\"tags\":[],\"doc\":null}},{\"id\":\"4323d333-fe4b-47ae-c720-624cf01f3eae\",\"type\":\"PreviewSaveTool\",\"attributes\":{\"plot\":{\"id\":\"7d0e3034-00f9-433f-c303-8ee9f15f43eb\",\"type\":\"Plot\",\"subtype\":\"Figure\"},\"id\":\"4323d333-fe4b-47ae-c720-624cf01f3eae\",\"tags\":[],\"doc\":null}},{\"id\":\"1aa638fb-0aeb-4e45-cebe-45eea8d8a6e4\",\"type\":\"ResizeTool\",\"attributes\":{\"plot\":{\"id\":\"7d0e3034-00f9-433f-c303-8ee9f15f43eb\",\"type\":\"Plot\",\"subtype\":\"Figure\"},\"id\":\"1aa638fb-0aeb-4e45-cebe-45eea8d8a6e4\",\"tags\":[],\"doc\":null}},{\"id\":\"a5b6de1d-d2b3-4e39-ce5e-d76a30234d47\",\"type\":\"ResetTool\",\"attributes\":{\"plot\":{\"id\":\"7d0e3034-00f9-433f-c303-8ee9f15f43eb\",\"type\":\"Plot\",\"subtype\":\"Figure\"},\"id\":\"a5b6de1d-d2b3-4e39-ce5e-d76a30234d47\",\"tags\":[],\"doc\":null}},{\"id\":\"7d0e3034-00f9-433f-c303-8ee9f15f43eb\",\"type\":\"Plot\",\"attributes\":{\"x_range\":{\"type\":\"DataRange1d\",\"id\":\"fc73a7e6-7404-4f02-cf0e-21bbb4c021ef\"},\"tool_events\":{\"type\":\"ToolEvents\",\"id\":\"4790005a-184c-44cd-c430-d44d8e4487c9\"},\"below\":[{\"type\":\"LinearAxis\",\"id\":\"9ad64c8d-0dc1-490d-c9da-0dd82bac1e91\"}],\"renderers\":[{\"type\":\"GlyphRenderer\",\"id\":\"6b9474d1-8d60-4850-c806-e7a23f5fff7f\"},{\"type\":\"GlyphRenderer\",\"id\":\"f7004df0-ddf7-4d03-cdb8-4fa1de6e3bcf\"},{\"type\":\"LinearAxis\",\"id\":\"9ad64c8d-0dc1-490d-c9da-0dd82bac1e91\"},{\"type\":\"Grid\",\"id\":\"88fe02b4-c305-4443-c4bc-51a48e8ab53c\"},{\"type\":\"LinearAxis\",\"id\":\"67fedde7-77f3-4be4-cbee-f8d7e302e1f3\"},{\"type\":\"Grid\",\"id\":\"bf1c741c-5060-4927-c9b9-07391de6e8a4\"}],\"above\":[],\"tools\":[{\"type\":\"PanTool\",\"id\":\"e4375cef-c895-46d0-c6a9-fab205519e72\"},{\"type\":\"WheelZoomTool\",\"id\":\"648b2e60-e405-4c40-cc5b-fff61141078a\"},{\"type\":\"BoxZoomTool\",\"id\":\"489e075e-014c-4ef5-ce93-ac111bcdfad3\"},{\"type\":\"PreviewSaveTool\",\"id\":\"4323d333-fe4b-47ae-c720-624cf01f3eae\"},{\"type\":\"ResizeTool\",\"id\":\"1aa638fb-0aeb-4e45-cebe-45eea8d8a6e4\"},{\"type\":\"ResetTool\",\"id\":\"a5b6de1d-d2b3-4e39-ce5e-d76a30234d47\"}],\"doc\":null,\"right\":[],\"title\":\"gan training loss plot\",\"extra_x_ranges\":{},\"left\":[{\"type\":\"LinearAxis\",\"id\":\"67fedde7-77f3-4be4-cbee-f8d7e302e1f3\"}],\"y_range\":{\"type\":\"DataRange1d\",\"id\":\"3341b4ae-cbb7-4b06-cb09-af6b68284b67\"},\"id\":\"7d0e3034-00f9-433f-c303-8ee9f15f43eb\",\"extra_y_ranges\":{},\"tags\":[]}}];\n",
       "  Bokeh.load_models(all_models);\n",
       "  var model = Bokeh.Collections(modeltype).get(modelid);\n",
       "  $(\"#d8769ff3-60c1-4be2-cbef-3376017c54e6\").html(''); // clear any previous plot in window_id\n",
       "  var view = new model.default_view({model: model, el: \"#d8769ff3-60c1-4be2-cbef-3376017c54e6\"});\n",
       "    } else {\n",
       "  load_lib(bokehjs_url, function() {\n",
       "      console.log(\"Bokeh: BokehJS plotting callback run at\", new Date())\n",
       "      var modelid = \"7d0e3034-00f9-433f-c303-8ee9f15f43eb\";\n",
       "      var modeltype = \"Plot\";\n",
       "      var all_models = [{\"id\":\"3f6751a2-733b-4934-c931-1d1d86374e94\",\"type\":\"ColumnDataSource\",\"attributes\":{\"data\":{\"y\":[0.91090158745646,0.91352146980353,0.80267740949057,0.60533342882991,0.4980022511445,0.42095843935385,0.55312034324743,0.80953122442588,0.71987483068369,0.78809821163304,0.70724128745496,0.81577337463386,0.71010268572718,0.70489623141475,0.60747239156626,0.78769143391401,0.92481016297825,0.95700215059333,0.85449676564895,1.1439443507697,1.0194017493632,0.89878543023951,1.0461474687327,1.2428637852427,1.2543164093513,1.3773162737489,1.1350690827239,0.95867051952519,0.83262379607186,0.70288615766913,1.1335588730872,1.2717422558926,0.95340143423527,1.2265062623192,1.0955807704013,0.84599389997311,1.0943114319816,0.78015436814167,0.88613498443738,0.67132678162307,1.460134328343,1.2069099012297,0.96148288855329,1.1124577415176,0.85558366402984,0.69032249134034],\"x\":[100,200,300,400,500,600,700,800,900,1000,1100,1200,1300,1400,1500,1600,1700,1800,1900,2000,2100,2200,2300,2400,2500,2600,2700,2800,2900,3000,3100,3200,3300,3400,3500,3600,3700,3800,3900,4000,4100,4200,4300,4400,4500,4600]},\"column_names\":[\"y\",\"x\"],\"cont_ranges\":{},\"discrete_ranges\":{},\"selected\":[],\"id\":\"3f6751a2-733b-4934-c931-1d1d86374e94\",\"doc\":null,\"tags\":[]}},{\"id\":\"916b9db1-7745-489e-c89f-1f690cc20823\",\"type\":\"Line\",\"attributes\":{\"fill_alpha\":{\"units\":\"data\",\"value\":0.2},\"line_alpha\":{\"units\":\"data\",\"value\":1},\"doc\":null,\"size\":{\"units\":\"screen\",\"value\":10},\"fill_color\":{\"value\":\"blue\"},\"line_color\":{\"value\":\"blue\"},\"x\":{\"units\":\"data\",\"field\":\"x\"},\"id\":\"916b9db1-7745-489e-c89f-1f690cc20823\",\"y\":{\"units\":\"data\",\"field\":\"y\"},\"tags\":[]}},{\"id\":\"1abaa17f-bd72-4876-c83c-1f031df8990d\",\"type\":\"Line\",\"attributes\":{\"fill_alpha\":{\"units\":\"data\",\"value\":0.2},\"line_alpha\":{\"units\":\"data\",\"value\":1},\"doc\":null,\"size\":{\"units\":\"screen\",\"value\":10},\"fill_color\":{\"value\":\"blue\"},\"line_color\":{\"value\":\"blue\"},\"x\":{\"units\":\"data\",\"field\":\"x\"},\"id\":\"1abaa17f-bd72-4876-c83c-1f031df8990d\",\"y\":{\"units\":\"data\",\"field\":\"y\"},\"tags\":[]}},{\"id\":\"6b9474d1-8d60-4850-c806-e7a23f5fff7f\",\"type\":\"GlyphRenderer\",\"attributes\":{\"name\":null,\"nonselection_glyph\":{\"type\":\"Line\",\"id\":\"1abaa17f-bd72-4876-c83c-1f031df8990d\"},\"doc\":null,\"server_data_source\":null,\"data_source\":{\"type\":\"ColumnDataSource\",\"id\":\"3f6751a2-733b-4934-c931-1d1d86374e94\"},\"glyph\":{\"type\":\"Line\",\"id\":\"916b9db1-7745-489e-c89f-1f690cc20823\"},\"selection_glyph\":null,\"id\":\"6b9474d1-8d60-4850-c806-e7a23f5fff7f\",\"tags\":[]}},{\"id\":\"a49f8f88-172c-43fc-c36e-1e4be944b303\",\"type\":\"ColumnDataSource\",\"attributes\":{\"data\":{\"y\":[1.0638688220643,1.037196432706,1.2116084785666,1.6073948554695,1.6039500180632,1.7114708048757,2.0533857238479,1.2563269156963,1.3289839401841,1.5803912854753,1.5060518532991,1.6184182118159,1.476563377073,1.5064880652353,1.2320155079942,1.9078866168857,1.3363549923524,1.3200787103269,0.80980983329937,1.1898359083571,1.1729752484243,1.1182339354418,0.58153302595019,0.86145878490061,1.0165552010294,0.88144966796972,1.192336963024,0.75090539362282,1.0228735653218,1.0038194986992,0.51841707574204,1.6136952796951,0.75933784386143,1.3684583338909,1.038027276285,1.4767814045772,1.2241329164244,1.0663902400993,1.1963935727254,1.1383992177434,1.9446834791452,1.5465291310102,1.4829141469672,1.2045470010489,1.5231973808259,2.1290588700213],\"x\":[100,200,300,400,500,600,700,800,900,1000,1100,1200,1300,1400,1500,1600,1700,1800,1900,2000,2100,2200,2300,2400,2500,2600,2700,2800,2900,3000,3100,3200,3300,3400,3500,3600,3700,3800,3900,4000,4100,4200,4300,4400,4500,4600]},\"column_names\":[\"y\",\"x\"],\"cont_ranges\":{},\"discrete_ranges\":{},\"selected\":[],\"id\":\"a49f8f88-172c-43fc-c36e-1e4be944b303\",\"doc\":null,\"tags\":[]}},{\"id\":\"4c92973d-d7fe-41e5-c1dd-b80d028b6905\",\"type\":\"Line\",\"attributes\":{\"fill_alpha\":{\"units\":\"data\",\"value\":0.2},\"line_alpha\":{\"units\":\"data\",\"value\":1},\"doc\":null,\"size\":{\"units\":\"screen\",\"value\":10},\"fill_color\":{\"value\":\"orange\"},\"line_color\":{\"value\":\"orange\"},\"x\":{\"units\":\"data\",\"field\":\"x\"},\"id\":\"4c92973d-d7fe-41e5-c1dd-b80d028b6905\",\"y\":{\"units\":\"data\",\"field\":\"y\"},\"tags\":[]}},{\"id\":\"c1b533d8-3c18-4cdd-cc47-403647fe1018\",\"type\":\"Line\",\"attributes\":{\"fill_alpha\":{\"units\":\"data\",\"value\":0.2},\"line_alpha\":{\"units\":\"data\",\"value\":1},\"doc\":null,\"size\":{\"units\":\"screen\",\"value\":10},\"fill_color\":{\"value\":\"orange\"},\"line_color\":{\"value\":\"orange\"},\"x\":{\"units\":\"data\",\"field\":\"x\"},\"id\":\"c1b533d8-3c18-4cdd-cc47-403647fe1018\",\"y\":{\"units\":\"data\",\"field\":\"y\"},\"tags\":[]}},{\"id\":\"f7004df0-ddf7-4d03-cdb8-4fa1de6e3bcf\",\"type\":\"GlyphRenderer\",\"attributes\":{\"name\":null,\"nonselection_glyph\":{\"type\":\"Line\",\"id\":\"c1b533d8-3c18-4cdd-cc47-403647fe1018\"},\"doc\":null,\"server_data_source\":null,\"data_source\":{\"type\":\"ColumnDataSource\",\"id\":\"a49f8f88-172c-43fc-c36e-1e4be944b303\"},\"glyph\":{\"type\":\"Line\",\"id\":\"4c92973d-d7fe-41e5-c1dd-b80d028b6905\"},\"selection_glyph\":null,\"id\":\"f7004df0-ddf7-4d03-cdb8-4fa1de6e3bcf\",\"tags\":[]}},{\"id\":\"fc73a7e6-7404-4f02-cf0e-21bbb4c021ef\",\"type\":\"DataRange1d\",\"attributes\":{\"sources\":[{\"columns\":[\"x\"],\"source\":{\"type\":\"ColumnDataSource\",\"id\":\"3f6751a2-733b-4934-c931-1d1d86374e94\"}},{\"columns\":[\"x\"],\"source\":{\"type\":\"ColumnDataSource\",\"id\":\"a49f8f88-172c-43fc-c36e-1e4be944b303\"}}],\"id\":\"fc73a7e6-7404-4f02-cf0e-21bbb4c021ef\",\"tags\":[],\"doc\":null}},{\"id\":\"3341b4ae-cbb7-4b06-cb09-af6b68284b67\",\"type\":\"DataRange1d\",\"attributes\":{\"sources\":[{\"columns\":[\"y\"],\"source\":{\"type\":\"ColumnDataSource\",\"id\":\"3f6751a2-733b-4934-c931-1d1d86374e94\"}},{\"columns\":[\"y\"],\"source\":{\"type\":\"ColumnDataSource\",\"id\":\"a49f8f88-172c-43fc-c36e-1e4be944b303\"}}],\"id\":\"3341b4ae-cbb7-4b06-cb09-af6b68284b67\",\"tags\":[],\"doc\":null}},{\"id\":\"4790005a-184c-44cd-c430-d44d8e4487c9\",\"type\":\"ToolEvents\",\"attributes\":{\"tags\":[],\"id\":\"4790005a-184c-44cd-c430-d44d8e4487c9\",\"geometries\":[],\"doc\":null}},{\"id\":\"851d1b8b-11ef-4d4f-cd56-15c4c5291a50\",\"type\":\"BasicTickFormatter\",\"attributes\":{\"id\":\"851d1b8b-11ef-4d4f-cd56-15c4c5291a50\",\"tags\":[],\"doc\":null}},{\"id\":\"edb83bf6-05e3-44b6-c4a2-4de8e78dc2eb\",\"type\":\"BasicTicker\",\"attributes\":{\"num_minor_ticks\":5,\"id\":\"edb83bf6-05e3-44b6-c4a2-4de8e78dc2eb\",\"tags\":[],\"doc\":null}},{\"id\":\"9ad64c8d-0dc1-490d-c9da-0dd82bac1e91\",\"type\":\"LinearAxis\",\"attributes\":{\"formatter\":{\"type\":\"BasicTickFormatter\",\"id\":\"851d1b8b-11ef-4d4f-cd56-15c4c5291a50\"},\"ticker\":{\"type\":\"BasicTicker\",\"id\":\"edb83bf6-05e3-44b6-c4a2-4de8e78dc2eb\"},\"plot\":{\"id\":\"7d0e3034-00f9-433f-c303-8ee9f15f43eb\",\"type\":\"Plot\",\"subtype\":\"Figure\"},\"axis_label\":null,\"id\":\"9ad64c8d-0dc1-490d-c9da-0dd82bac1e91\",\"doc\":null,\"tags\":[]}},{\"id\":\"88fe02b4-c305-4443-c4bc-51a48e8ab53c\",\"type\":\"Grid\",\"attributes\":{\"dimension\":0,\"plot\":{\"id\":\"7d0e3034-00f9-433f-c303-8ee9f15f43eb\",\"type\":\"Plot\",\"subtype\":\"Figure\"},\"ticker\":{\"type\":\"BasicTicker\",\"id\":\"edb83bf6-05e3-44b6-c4a2-4de8e78dc2eb\"},\"id\":\"88fe02b4-c305-4443-c4bc-51a48e8ab53c\",\"doc\":null,\"tags\":[]}},{\"id\":\"3de3aa81-2bc2-4514-c55b-552a597be5ee\",\"type\":\"BasicTickFormatter\",\"attributes\":{\"id\":\"3de3aa81-2bc2-4514-c55b-552a597be5ee\",\"tags\":[],\"doc\":null}},{\"id\":\"30478146-1415-43bc-c354-2f11b7f63741\",\"type\":\"BasicTicker\",\"attributes\":{\"num_minor_ticks\":5,\"id\":\"30478146-1415-43bc-c354-2f11b7f63741\",\"tags\":[],\"doc\":null}},{\"id\":\"67fedde7-77f3-4be4-cbee-f8d7e302e1f3\",\"type\":\"LinearAxis\",\"attributes\":{\"formatter\":{\"type\":\"BasicTickFormatter\",\"id\":\"3de3aa81-2bc2-4514-c55b-552a597be5ee\"},\"ticker\":{\"type\":\"BasicTicker\",\"id\":\"30478146-1415-43bc-c354-2f11b7f63741\"},\"plot\":{\"id\":\"7d0e3034-00f9-433f-c303-8ee9f15f43eb\",\"type\":\"Plot\",\"subtype\":\"Figure\"},\"axis_label\":null,\"id\":\"67fedde7-77f3-4be4-cbee-f8d7e302e1f3\",\"doc\":null,\"tags\":[]}},{\"id\":\"bf1c741c-5060-4927-c9b9-07391de6e8a4\",\"type\":\"Grid\",\"attributes\":{\"dimension\":1,\"plot\":{\"id\":\"7d0e3034-00f9-433f-c303-8ee9f15f43eb\",\"type\":\"Plot\",\"subtype\":\"Figure\"},\"ticker\":{\"type\":\"BasicTicker\",\"id\":\"30478146-1415-43bc-c354-2f11b7f63741\"},\"id\":\"bf1c741c-5060-4927-c9b9-07391de6e8a4\",\"doc\":null,\"tags\":[]}},{\"id\":\"e4375cef-c895-46d0-c6a9-fab205519e72\",\"type\":\"PanTool\",\"attributes\":{\"plot\":{\"id\":\"7d0e3034-00f9-433f-c303-8ee9f15f43eb\",\"type\":\"Plot\",\"subtype\":\"Figure\"},\"dimensions\":[\"width\",\"height\"],\"id\":\"e4375cef-c895-46d0-c6a9-fab205519e72\",\"doc\":null,\"tags\":[]}},{\"id\":\"648b2e60-e405-4c40-cc5b-fff61141078a\",\"type\":\"WheelZoomTool\",\"attributes\":{\"plot\":{\"id\":\"7d0e3034-00f9-433f-c303-8ee9f15f43eb\",\"type\":\"Plot\",\"subtype\":\"Figure\"},\"dimensions\":[\"width\",\"height\"],\"id\":\"648b2e60-e405-4c40-cc5b-fff61141078a\",\"doc\":null,\"tags\":[]}},{\"id\":\"489e075e-014c-4ef5-ce93-ac111bcdfad3\",\"type\":\"BoxZoomTool\",\"attributes\":{\"plot\":{\"id\":\"7d0e3034-00f9-433f-c303-8ee9f15f43eb\",\"type\":\"Plot\",\"subtype\":\"Figure\"},\"id\":\"489e075e-014c-4ef5-ce93-ac111bcdfad3\",\"tags\":[],\"doc\":null}},{\"id\":\"4323d333-fe4b-47ae-c720-624cf01f3eae\",\"type\":\"PreviewSaveTool\",\"attributes\":{\"plot\":{\"id\":\"7d0e3034-00f9-433f-c303-8ee9f15f43eb\",\"type\":\"Plot\",\"subtype\":\"Figure\"},\"id\":\"4323d333-fe4b-47ae-c720-624cf01f3eae\",\"tags\":[],\"doc\":null}},{\"id\":\"1aa638fb-0aeb-4e45-cebe-45eea8d8a6e4\",\"type\":\"ResizeTool\",\"attributes\":{\"plot\":{\"id\":\"7d0e3034-00f9-433f-c303-8ee9f15f43eb\",\"type\":\"Plot\",\"subtype\":\"Figure\"},\"id\":\"1aa638fb-0aeb-4e45-cebe-45eea8d8a6e4\",\"tags\":[],\"doc\":null}},{\"id\":\"a5b6de1d-d2b3-4e39-ce5e-d76a30234d47\",\"type\":\"ResetTool\",\"attributes\":{\"plot\":{\"id\":\"7d0e3034-00f9-433f-c303-8ee9f15f43eb\",\"type\":\"Plot\",\"subtype\":\"Figure\"},\"id\":\"a5b6de1d-d2b3-4e39-ce5e-d76a30234d47\",\"tags\":[],\"doc\":null}},{\"id\":\"7d0e3034-00f9-433f-c303-8ee9f15f43eb\",\"type\":\"Plot\",\"attributes\":{\"x_range\":{\"type\":\"DataRange1d\",\"id\":\"fc73a7e6-7404-4f02-cf0e-21bbb4c021ef\"},\"tool_events\":{\"type\":\"ToolEvents\",\"id\":\"4790005a-184c-44cd-c430-d44d8e4487c9\"},\"below\":[{\"type\":\"LinearAxis\",\"id\":\"9ad64c8d-0dc1-490d-c9da-0dd82bac1e91\"}],\"renderers\":[{\"type\":\"GlyphRenderer\",\"id\":\"6b9474d1-8d60-4850-c806-e7a23f5fff7f\"},{\"type\":\"GlyphRenderer\",\"id\":\"f7004df0-ddf7-4d03-cdb8-4fa1de6e3bcf\"},{\"type\":\"LinearAxis\",\"id\":\"9ad64c8d-0dc1-490d-c9da-0dd82bac1e91\"},{\"type\":\"Grid\",\"id\":\"88fe02b4-c305-4443-c4bc-51a48e8ab53c\"},{\"type\":\"LinearAxis\",\"id\":\"67fedde7-77f3-4be4-cbee-f8d7e302e1f3\"},{\"type\":\"Grid\",\"id\":\"bf1c741c-5060-4927-c9b9-07391de6e8a4\"}],\"above\":[],\"tools\":[{\"type\":\"PanTool\",\"id\":\"e4375cef-c895-46d0-c6a9-fab205519e72\"},{\"type\":\"WheelZoomTool\",\"id\":\"648b2e60-e405-4c40-cc5b-fff61141078a\"},{\"type\":\"BoxZoomTool\",\"id\":\"489e075e-014c-4ef5-ce93-ac111bcdfad3\"},{\"type\":\"PreviewSaveTool\",\"id\":\"4323d333-fe4b-47ae-c720-624cf01f3eae\"},{\"type\":\"ResizeTool\",\"id\":\"1aa638fb-0aeb-4e45-cebe-45eea8d8a6e4\"},{\"type\":\"ResetTool\",\"id\":\"a5b6de1d-d2b3-4e39-ce5e-d76a30234d47\"}],\"doc\":null,\"right\":[],\"title\":\"gan training loss plot\",\"extra_x_ranges\":{},\"left\":[{\"type\":\"LinearAxis\",\"id\":\"67fedde7-77f3-4be4-cbee-f8d7e302e1f3\"}],\"y_range\":{\"type\":\"DataRange1d\",\"id\":\"3341b4ae-cbb7-4b06-cb09-af6b68284b67\"},\"id\":\"7d0e3034-00f9-433f-c303-8ee9f15f43eb\",\"extra_y_ranges\":{},\"tags\":[]}}];\n",
       "      Bokeh.load_models(all_models);\n",
       "      var model = Bokeh.Collections(modeltype).get(modelid);\n",
       "      $(\"#d8769ff3-60c1-4be2-cbef-3376017c54e6\").html(''); // clear any previous plot in window_id\n",
       "      var view = new model.default_view({model: model, el: \"#d8769ff3-60c1-4be2-cbef-3376017c54e6\"});\n",
       "  });\n",
       "    }\n",
       "});\n",
       "</script>\n",
       "<div class=\"plotdiv\" id=\"d8769ff3-60c1-4be2-cbef-3376017c54e6\"></div>\n"
      ]
     },
     "metadata": {},
     "output_type": "display_data"
    }
   ],
   "source": [
    "plot = Plot():line(counter_tb, D_loss_tb, \"blue\", \"D loss\")\n",
    "-- plot:line(counter_tb, D_fake_loss_tb, \"green\", \"D fake loss\")\n",
    "-- plot:line(counter_tb, D_real_loss_tb, \"black\", \"D real loss\")\n",
    "plot:line(counter_tb, G_loss_tb, \"orange\", \"G loss\")\n",
    "plot:title(\"gan training loss plot\")\n",
    "plot:draw()\n",
    "plot:save(\"gan_training_loss_plot.html\")"
   ]
  },
  {
   "cell_type": "markdown",
   "metadata": {
    "deletable": true,
    "editable": true
   },
   "source": [
    "## debug part"
   ]
  },
  {
   "cell_type": "code",
   "execution_count": 9,
   "metadata": {
    "collapsed": false,
    "deletable": true,
    "editable": true
   },
   "outputs": [
    {
     "data": {
      "text/plain": [
       " 1  0  0  0  0  0  0  0  0  0\n",
       " 0  1  0  0  0  0  0  0  0  0\n",
       " 0  0  1  0  0  0  0  0  0  0\n",
       " 0  0  0  1  0  0  0  0  0  0\n",
       " 0  0  0  0  1  0  0  0  0  0\n",
       " 0  0  0  0  0  1  0  0  0  0\n",
       " 0  0  0  0  0  0  1  0  0  0\n",
       " 0  0  0  0  0  0  0  1  0  0\n",
       " 0  0  0  0  0  0  0  0  1  0\n",
       " 0  0  0  0  0  0  0  0  0  1\n",
       "[torch.CudaTensor of size 10x10]\n",
       "\n"
      ]
     },
     "execution_count": 9,
     "metadata": {},
     "output_type": "execute_result"
    },
    {
     "data": {
      "image/png": "[encoded data removed]",
      "text/plain": [
       "Console does not support images"
      ]
     },
     "metadata": {
      "image/png": {
       "height": 32,
       "width": 32
      }
     },
     "output_type": "display_data"
    },
    {
     "data": {
      "image/png": "[encoded data removed]",
      "text/plain": [
       "Console does not support images"
      ]
     },
     "metadata": {
      "image/png": {
       "height": 32,
       "width": 32
      }
     },
     "output_type": "display_data"
    },
    {
     "data": {
      "image/png": "[encoded data removed]",
      "text/plain": [
       "Console does not support images"
      ]
     },
     "metadata": {
      "image/png": {
       "height": 32,
       "width": 32
      }
     },
     "output_type": "display_data"
    },
    {
     "data": {
      "text/plain": [
       "\n"
      ]
     },
     "execution_count": 9,
     "metadata": {},
     "output_type": "execute_result"
    },
    {
     "data": {
      "image/png": "[encoded data removed]",
      "text/plain": [
       "Console does not support images"
      ]
     },
     "metadata": {
      "image/png": {
       "height": 68,
       "width": 204
      }
     },
     "output_type": "display_data"
    }
   ],
   "source": [
    "labelVector = torch.zeros(10, 10):cuda()\n",
    "            \n",
    "for m=1, 10 do\n",
    "    labelVector[{m, m}] = 1\n",
    "end\n",
    "print(labelVector)\n",
    "noise = torch.randn(10, 100):cuda()\n",
    "\n",
    "local res = G:forward({noise, labelVector}) + 0.5\n",
    "itorch.image(res[1])\n",
    "itorch.image(res[2])\n",
    "print(itorch.image(res[1] - res[2]))\n",
    "itorch.image(res)"
   ]
  },
  {
   "cell_type": "code",
   "execution_count": null,
   "metadata": {
    "collapsed": true,
    "deletable": true,
    "editable": true
   },
   "outputs": [],
   "source": []
  },
  {
   "cell_type": "code",
   "execution_count": null,
   "metadata": {
    "collapsed": true,
    "deletable": true,
    "editable": true
   },
   "outputs": [],
   "source": []
  }
 ],
 "metadata": {
  "kernelspec": {
   "display_name": "iTorch",
   "language": "lua",
   "name": "itorch"
  },
  "language_info": {
   "name": "lua",
   "version": "5.1"
  }
 },
 "nbformat": 4,
 "nbformat_minor": 2
}
