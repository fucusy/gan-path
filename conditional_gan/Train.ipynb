{
 "cells": [
  {
   "cell_type": "code",
   "execution_count": 23,
   "metadata": {
    "collapsed": false,
    "deletable": true,
    "editable": true
   },
   "outputs": [],
   "source": [
    "require 'cutorch';\n",
    "require 'cunn';\n",
    "require 'nn';\n",
    "require 'model';\n",
    "require 'mnist_loader';\n",
    "Plot = require 'itorch.Plot';"
   ]
  },
  {
   "cell_type": "code",
   "execution_count": 24,
   "metadata": {
    "collapsed": false,
    "deletable": true,
    "editable": true
   },
   "outputs": [],
   "source": [
    "cutorch.setDevice(2)\n",
    "\n",
    "G, D = get_model()\n",
    "G:cuda()\n",
    "D:cuda()\n",
    "\n",
    "criterion = nn.ClassNLLCriterion()\n",
    "criterion = criterion:cuda()"
   ]
  },
  {
   "cell_type": "code",
   "execution_count": 25,
   "metadata": {
    "collapsed": false,
    "deletable": true,
    "editable": true
   },
   "outputs": [
    {
     "data": {
      "text/plain": [
       "<mnist> done\t\n"
      ]
     },
     "execution_count": 25,
     "metadata": {},
     "output_type": "execute_result"
    },
    {
     "data": {
      "text/plain": [
       "-0.79992614568285\t\n"
      ]
     },
     "execution_count": 25,
     "metadata": {},
     "output_type": "execute_result"
    },
    {
     "data": {
      "text/plain": [
       "0.55043469725165\t\n"
      ]
     },
     "execution_count": 25,
     "metadata": {},
     "output_type": "execute_result"
    },
    {
     "data": {
      "image/png": "[encoded data removed]",
      "text/plain": [
       "Console does not support images"
      ]
     },
     "metadata": {
      "image/png": {
       "height": 32,
       "width": 32
      }
     },
     "output_type": "display_data"
    },
    {
     "data": {
      "text/plain": [
       "0\t\n"
      ]
     },
     "execution_count": 25,
     "metadata": {},
     "output_type": "execute_result"
    }
   ],
   "source": [
    "train_set = mnist.loadTrainSet()\n",
    "print(train_set.data:mean())\n",
    "print(train_set.data:std())\n",
    "displayData = train_set[1][1]\n",
    "itorch.image(displayData)\n",
    "print(train_set[1][2][9])"
   ]
  },
  {
   "cell_type": "code",
   "execution_count": 26,
   "metadata": {
    "collapsed": false,
    "deletable": true,
    "editable": true
   },
   "outputs": [],
   "source": [
    "fixedLabelVector = torch.zeros(10, 10):cuda()\n",
    "for m=1, 10 do\n",
    "    fixedLabelVector[{m, m}] = 1\n",
    "end\n",
    "fixedNoise = torch.randn(10, 100):cuda()"
   ]
  },
  {
   "cell_type": "code",
   "execution_count": 27,
   "metadata": {
    "collapsed": false,
    "deletable": true,
    "editable": true
   },
   "outputs": [
    {
     "data": {
      "text/plain": [
       "0.00057055917568505\t\n",
       "0.030450699850917\t\n",
       "0.00016162832616828\t\n",
       "0.023453362286091\t\n"
      ]
     },
     "execution_count": 27,
     "metadata": {},
     "output_type": "execute_result"
    }
   ],
   "source": [
    "G_parameters, G_gradParameters = G:getParameters()\n",
    "D_parameters, D_gradParameters = D:getParameters()\n",
    "\n",
    "print(G_parameters:mean())\n",
    "print(G_parameters:std())\n",
    "print(D_parameters:mean())\n",
    "print(D_parameters:std())"
   ]
  },
  {
   "cell_type": "markdown",
   "metadata": {
    "deletable": true,
    "editable": true
   },
   "source": [
    "## arguments for adam optimizer"
   ]
  },
  {
   "cell_type": "code",
   "execution_count": 28,
   "metadata": {
    "collapsed": false,
    "deletable": true,
    "editable": true
   },
   "outputs": [],
   "source": [
    "-- gradclip = 5\n",
    "lr = 2e-4\n",
    "beta1 = 0.5\n",
    "beta2 = 0.999\n",
    "eps = 10e-8\n",
    "batchsize = 128\n",
    "epochsize = 10\n",
    "counter = 1\n",
    "\n",
    "counter_tb = {}\n",
    "D_fake_loss_tb = {}\n",
    "D_real_loss_tb = {}\n",
    "G_loss_tb = {}\n",
    "D_loss_tb = {}\n",
    "\n",
    "G_m = torch.zeros(G_parameters:size()):cuda()\n",
    "G_mt = torch.zeros(G_parameters:size()):cuda()\n",
    "G_v = torch.zeros(G_parameters:size()):cuda()\n",
    "G_vt = torch.zeros(G_parameters:size()):cuda()\n",
    "\n",
    "D_m = torch.zeros(D_parameters:size()):cuda()\n",
    "D_mt = torch.zeros(D_parameters:size()):cuda()\n",
    "D_v = torch.zeros(D_parameters:size()):cuda()\n",
    "D_vt = torch.zeros(D_parameters:size()):cuda()"
   ]
  },
  {
   "cell_type": "code",
   "execution_count": 29,
   "metadata": {
    "collapsed": false,
    "deletable": true,
    "editable": true
   },
   "outputs": [
    {
     "data": {
      "image/png": "[encoded data removed]",
      "text/plain": [
       "Console does not support images"
      ]
     },
     "metadata": {
      "image/png": {
       "height": 68,
       "width": 204
      }
     },
     "output_type": "display_data"
    },
    {
     "data": {
      "image/png": "[encoded data removed]",
      "text/plain": [
       "Console does not support images"
      ]
     },
     "metadata": {
      "image/png": {
       "height": 68,
       "width": 204
      }
     },
     "output_type": "display_data"
    },
    {
     "data": {
      "image/png": "[encoded data removed]",
      "text/plain": [
       "Console does not support images"
      ]
     },
     "metadata": {
      "image/png": {
       "height": 68,
       "width": 204
      }
     },
     "output_type": "display_data"
    },
    {
     "data": {
      "image/png": "[encoded data removed]",
      "text/plain": [
       "Console does not support images"
      ]
     },
     "metadata": {
      "image/png": {
       "height": 68,
       "width": 204
      }
     },
     "output_type": "display_data"
    },
    {
     "data": {
      "image/png": "[encoded data removed]",
      "text/plain": [
       "Console does not support images"
      ]
     },
     "metadata": {
      "image/png": {
       "height": 68,
       "width": 204
      }
     },
     "output_type": "display_data"
    },
    {
     "data": {
      "image/png": "[encoded data removed]",
      "text/plain": [
       "Console does not support images"
      ]
     },
     "metadata": {
      "image/png": {
       "height": 68,
       "width": 204
      }
     },
     "output_type": "display_data"
    },
    {
     "data": {
      "image/png": "[encoded data removed]",
      "text/plain": [
       "Console does not support images"
      ]
     },
     "metadata": {
      "image/png": {
       "height": 68,
       "width": 204
      }
     },
     "output_type": "display_data"
    },
    {
     "data": {
      "image/png": "[encoded data removed]",
      "text/plain": [
       "Console does not support images"
      ]
     },
     "metadata": {
      "image/png": {
       "height": 68,
       "width": 204
      }
     },
     "output_type": "display_data"
    },
    {
     "data": {
      "image/png": "[encoded data removed]",
      "text/plain": [
       "Console does not support images"
      ]
     },
     "metadata": {
      "image/png": {
       "height": 68,
       "width": 204
      }
     },
     "output_type": "display_data"
    },
    {
     "data": {
      "image/png": "[encoded data removed]",
      "text/plain": [
       "Console does not support images"
      ]
     },
     "metadata": {
      "image/png": {
       "height": 68,
       "width": 204
      }
     },
     "output_type": "display_data"
    }
   ],
   "source": [
    "inputImgInputBatch = torch.zeros(batchsize, 32, 32):cuda()        \n",
    "inputVectorInputBatch = torch.zeros(batchsize, 10):cuda()\n",
    "inputVectorInputBatchRand = torch.zeros(batchsize, 10):cuda()\n",
    "\n",
    "for epoch=1, epochsize do\n",
    "    train_set:shuffle()\n",
    "    \n",
    "    if epoch == 30 then\n",
    "        lr = lr / 10\n",
    "    end\n",
    "    if epoch == 40 then\n",
    "        lr = lr / 10\n",
    "    end\n",
    "    \n",
    "    for batch_count = 1, train_set:size() / batchsize do        \n",
    "        inputImgInputBatch:zero()\n",
    "        inputVectorInputBatch:zero()\n",
    "        for batch_count_idx = 1, batchsize do\n",
    "            i = (batch_count - 1) * batchsize + batch_count_idx\n",
    "            inputImgInput = train_set[i][1]:view(32, 32):cuda()\n",
    "            inputVectorInput = train_set[i][2]:cuda()\n",
    "            inputVectorInputBatch[batch_count_idx] = inputVectorInput\n",
    "            inputImgInputBatch[batch_count_idx] = inputImgInput\n",
    "        end    \n",
    "        \n",
    "        \n",
    "        -- backward discriminator with real image\n",
    "        realPredBatch = D:forward({inputImgInputBatch, inputVectorInputBatch})\n",
    "        real_target = 1\n",
    "        D_backward = torch.zeros(batchsize, 2):cuda()        \n",
    "        D_real_loss_total = 0\n",
    "        for batch_count_idx = 1, batchsize do\n",
    "            D_real_loss = criterion:forward(realPredBatch[batch_count_idx], real_target)            \n",
    "            D_real_loss_total = D_real_loss_total + D_real_loss            \n",
    "            D_criterion = criterion:backward(realPredBatch[batch_count_idx], real_target)                       \n",
    "            D_backward[batch_count_idx] = D_criterion                        \n",
    "        end        \n",
    "        D_real_loss_total = D_real_loss_total / batchsize\n",
    "        D:zeroGradParameters()\n",
    "        D:backward({inputImgInputBatch, inputVectorInputBatch}, D_backward)        \n",
    "        D_gradParameters:div(batchsize)\n",
    "\n",
    "        -- remember grad parameters\n",
    "        D_gradParametersReal = D_gradParameters:clone()        \n",
    "            \n",
    "        -- backward discriminator with fake image\n",
    "        inputVectorInputBatchRand:zero()\n",
    "        for i = 1, batchsize do\n",
    "            inputVectorInputBatchRand[i][torch.random(1,10)] = 1\n",
    "        end\n",
    "        noiseBatch = torch.randn(batchsize, 100):cuda()\n",
    "        fakeImgBatch = G:forward({noiseBatch, inputVectorInputBatchRand})                \n",
    "        fakePredBatch = D:forward({fakeImgBatch, inputVectorInputBatchRand})\n",
    "        fake_target = 2\n",
    "        D_backward = torch.zeros(batchsize, 2):cuda()\n",
    "        D_fake_loss_total = 0\n",
    "        for batch_count_idx = 1, batchsize do\n",
    "            D_fake_loss = criterion:forward(fakePredBatch[batch_count_idx], fake_target)\n",
    "            D_fake_loss_total = D_fake_loss_total + D_fake_loss\n",
    "            D_criterion = criterion:backward(fakePredBatch[batch_count_idx], fake_target)\n",
    "            D_backward[{{batch_count_idx}, {}}] = D_criterion:clone()\n",
    "        end\n",
    "        D_fake_loss_total = D_fake_loss_total / batchsize\n",
    "        D:zeroGradParameters()\n",
    "        fakeImgPrime = D:backward({fakeImgBatch, inputVectorInputBatchRand}, D_backward)        \n",
    "        \n",
    "        D_gradParameters:div(batchsize)\n",
    "        \n",
    "        -- add grad parameter from real image backward\n",
    "        D_gradParameters:add(D_gradParametersReal)\n",
    "        \n",
    "        \n",
    "        -- update D parameters with Adam optimizer\n",
    "        D_m:mul(beta1):add(torch.mul(D_gradParameters, 1-beta1))\n",
    "        D_v:mul(beta2):add(torch.mul(torch.pow(D_gradParameters, 2), 1-beta2))\n",
    "\n",
    "        -- correct m and v\n",
    "        D_mt:copy(torch.div(D_m, 1-math.pow(beta1, counter)))\n",
    "        D_vt:copy(torch.div(D_v, 1-math.pow(beta2, counter)))\n",
    "\n",
    "        D_vt:sqrt():add(eps)\n",
    "        D_mt:mul(-1*lr)\n",
    "        D_parameters:add(D_mt:cdiv(D_vt))\n",
    "\n",
    "        \n",
    "        \n",
    "        -- training generator\n",
    "        inputVectorInputBatchRand:zero()\n",
    "        for i = 1, batchsize do\n",
    "            inputVectorInputBatchRand[i][torch.random(1,10)] = 1\n",
    "        end\n",
    "        noiseBatch = torch.randn(batchsize, 100):cuda()\n",
    "        fakeImgBatch = G:forward({noiseBatch, inputVectorInputBatchRand})                \n",
    "        fakePredBatch = D:forward({fakeImgBatch, inputVectorInputBatchRand})\n",
    "        D_backward = torch.zeros(batchsize, 2):cuda()\n",
    "        \n",
    "        G_loss_total = 0\n",
    "        for batch_count_idx = 1, batchsize do\n",
    "            G_loss = criterion:forward(fakePredBatch[batch_count_idx], real_target)\n",
    "            G_loss_total = G_loss_total + G_loss\n",
    "            D_criterion = criterion:backward(fakePredBatch[batch_count_idx], real_target)\n",
    "            D_backward[{{batch_count_idx}, {}}] = D_criterion:clone()\n",
    "        end\n",
    "        G_loss_total = G_loss_total / batchsize\n",
    "        D:zeroGradParameters()\n",
    "        fakeImgPrime = D:backward({fakeImgBatch, inputVectorInputBatchRand}, D_backward)                                        \n",
    "        \n",
    "        G:zeroGradParameters()\n",
    "        G:backward({noiseBatch, inputVectorInputBatchRand}, fakeImgPrime[1])\n",
    "        G_gradParameters:div(batchsize)\n",
    "\n",
    "        -- update generator parameter with Adam optimizer\n",
    "        G_m:mul(beta1):add(torch.mul(G_gradParameters, 1-beta1))\n",
    "        G_v:mul(beta2):add(torch.mul(torch.pow(G_gradParameters, 2), 1-beta2))\n",
    "\n",
    "        -- correct m and v\n",
    "        G_mt:copy(torch.div(G_m, 1-math.pow(beta1, counter)))\n",
    "        G_vt:copy(torch.div(G_v, 1-math.pow(beta2, counter)))\n",
    "\n",
    "        G_vt:sqrt():add(eps)\n",
    "        G_mt:mul(-1*lr)\n",
    "        G_parameters:add(G_mt:cdiv(G_vt))\n",
    " \n",
    "        counter = counter + 1        \n",
    "        if counter % 100 == 0 then            \n",
    "            table.insert(counter_tb, counter)\n",
    "            table.insert(D_fake_loss_tb, D_fake_loss_total)\n",
    "            table.insert(D_real_loss_tb, D_real_loss_total)\n",
    "            table.insert(G_loss_tb, G_loss_total)\n",
    "            table.insert(D_loss_tb, D_fake_loss_total + D_real_loss_total)\n",
    "        end\n",
    "    end\n",
    "    local res = G:forward({fixedNoise, fixedLabelVector}) + 0.5\n",
    "    itorch.image(res)\n",
    "end"
   ]
  },
  {
   "cell_type": "code",
   "execution_count": 30,
   "metadata": {
    "collapsed": false,
    "deletable": true,
    "editable": true
   },
   "outputs": [
    {
     "data": {
      "text/html": [
       "<script type=\"text/javascript\">\n",
       "$(function() {\n",
       "    if (typeof (window._bokeh_onload_callbacks) === \"undefined\"){\n",
       "  window._bokeh_onload_callbacks = [];\n",
       "    }\n",
       "    function load_lib(url, callback){\n",
       "  window._bokeh_onload_callbacks.push(callback);\n",
       "  if (window._bokeh_is_loading){\n",
       "      console.log(\"Bokeh: BokehJS is being loaded, scheduling callback at\", new Date());\n",
       "      return null;\n",
       "  }\n",
       "  console.log(\"Bokeh: BokehJS not loaded, scheduling load and callback at\", new Date());\n",
       "  window._bokeh_is_loading = true;\n",
       "  var s = document.createElement('script');\n",
       "  s.src = url;\n",
       "  s.async = true;\n",
       "  s.onreadystatechange = s.onload = function(){\n",
       "      Bokeh.embed.inject_css(\"https://cdn.pydata.org/bokeh-0.7.0.min.css\");\n",
       "      window._bokeh_onload_callbacks.forEach(function(callback){callback()});\n",
       "  };\n",
       "  s.onerror = function(){\n",
       "      console.warn(\"failed to load library \" + url);\n",
       "  };\n",
       "  document.getElementsByTagName(\"head\")[0].appendChild(s);\n",
       "    }\n",
       "\n",
       "    bokehjs_url = \"https://cdn.pydata.org/bokeh-0.7.0.min.js\"\n",
       "\n",
       "    var elt = document.getElementById(\"79045edc-cf92-4565-c584-a037ca7929eb\");\n",
       "    if(elt==null) {\n",
       "  console.log(\"Bokeh: ERROR: autoload.js configured with elementid '79045edc-cf92-4565-c584-a037ca7929eb'\"\n",
       "        + \"but no matching script tag was found. \")\n",
       "  return false;\n",
       "    }\n",
       "\n",
       "    if(typeof(Bokeh) !== \"undefined\") {\n",
       "  console.log(\"Bokeh: BokehJS loaded, going straight to plotting\");\n",
       "  var modelid = \"91df9c4f-0c84-46c6-c6c9-2c390dabe814\";\n",
       "  var modeltype = \"Plot\";\n",
       "  var all_models = [{\"id\":\"ef3b4e9d-6f72-4413-c4ba-bebcf81b919f\",\"type\":\"ColumnDataSource\",\"attributes\":{\"data\":{\"y\":[1.0570472797845,1.019406828098,0.86928004492074,0.85321043757722,0.90929418522865,0.83523028763011,0.88538243854418,0.79894432122819,0.96526522329077,0.70062788203359,0.80773983662948,0.75478852796368,0.82980475993827,0.79198885709047,0.94909491413273,0.73808496911079,0.92771511222236,0.58538991003297,0.69440487027168,0.86755643947981,0.73321991367266,0.97550614760257,0.81719350116327,0.74705466674641,0.64399576815777,0.66743925912306,0.6911202929914,0.85089183598757,0.46621250337921,0.81646250956692,0.73172234324738,1.0451056300662,0.75759625365026,1.1950707230717,0.79026456130669,0.68753892323002,0.72368776868097,0.61491255695,0.95149124669842,1.1981584443711,0.92746032192372,1.0095290376339,0.6233726372011,0.74530720873736,1.0534684776794,0.66889640549198],\"x\":[100,200,300,400,500,600,700,800,900,1000,1100,1200,1300,1400,1500,1600,1700,1800,1900,2000,2100,2200,2300,2400,2500,2600,2700,2800,2900,3000,3100,3200,3300,3400,3500,3600,3700,3800,3900,4000,4100,4200,4300,4400,4500,4600]},\"column_names\":[\"y\",\"x\"],\"cont_ranges\":{},\"discrete_ranges\":{},\"selected\":[],\"id\":\"ef3b4e9d-6f72-4413-c4ba-bebcf81b919f\",\"doc\":null,\"tags\":[]}},{\"id\":\"863b08c1-f84e-4187-c124-7bccb92a0e7f\",\"type\":\"Line\",\"attributes\":{\"fill_alpha\":{\"units\":\"data\",\"value\":0.2},\"line_alpha\":{\"units\":\"data\",\"value\":1},\"doc\":null,\"size\":{\"units\":\"screen\",\"value\":10},\"fill_color\":{\"value\":\"blue\"},\"line_color\":{\"value\":\"blue\"},\"x\":{\"units\":\"data\",\"field\":\"x\"},\"id\":\"863b08c1-f84e-4187-c124-7bccb92a0e7f\",\"y\":{\"units\":\"data\",\"field\":\"y\"},\"tags\":[]}},{\"id\":\"6958470b-2edc-4f96-cf44-b223f01d4761\",\"type\":\"Line\",\"attributes\":{\"fill_alpha\":{\"units\":\"data\",\"value\":0.2},\"line_alpha\":{\"units\":\"data\",\"value\":1},\"doc\":null,\"size\":{\"units\":\"screen\",\"value\":10},\"fill_color\":{\"value\":\"blue\"},\"line_color\":{\"value\":\"blue\"},\"x\":{\"units\":\"data\",\"field\":\"x\"},\"id\":\"6958470b-2edc-4f96-cf44-b223f01d4761\",\"y\":{\"units\":\"data\",\"field\":\"y\"},\"tags\":[]}},{\"id\":\"3280775b-bedd-4848-c801-ce53353dd290\",\"type\":\"GlyphRenderer\",\"attributes\":{\"name\":null,\"nonselection_glyph\":{\"type\":\"Line\",\"id\":\"6958470b-2edc-4f96-cf44-b223f01d4761\"},\"doc\":null,\"server_data_source\":null,\"data_source\":{\"type\":\"ColumnDataSource\",\"id\":\"ef3b4e9d-6f72-4413-c4ba-bebcf81b919f\"},\"glyph\":{\"type\":\"Line\",\"id\":\"863b08c1-f84e-4187-c124-7bccb92a0e7f\"},\"selection_glyph\":null,\"id\":\"3280775b-bedd-4848-c801-ce53353dd290\",\"tags\":[]}},{\"id\":\"da33c948-e4d2-494d-c99a-81eac63abaaa\",\"type\":\"ColumnDataSource\",\"attributes\":{\"data\":{\"y\":[0.95569099858403,1.0389374652877,1.1767001077533,1.0290411408059,1.209193683695,1.2711143507622,1.444721542066,1.5587899261154,1.4362352956086,1.7970550311729,1.342366093304,1.6956058437936,1.8129635746591,1.3362701961305,1.5925008389167,1.6299162115902,1.4838880130555,1.6227151923813,1.3197191162035,1.9000201257877,1.0702348251361,1.3387809763663,1.4229494458996,0.94249305152334,1.0486957263201,1.8282591449097,1.5623319982551,1.5533105912618,1.2629200234078,1.4321616217494,2.2757590571418,1.7611601022072,2.1964646652341,2.8287916197442,0.96570845041424,1.7451182291843,1.1879299180582,1.7188377087004,1.0381684924942,2.5325984288938,1.3949656691402,1.0007487167604,0.95996261644177,1.7979181637056,1.364437289536,1.7003610422835],\"x\":[100,200,300,400,500,600,700,800,900,1000,1100,1200,1300,1400,1500,1600,1700,1800,1900,2000,2100,2200,2300,2400,2500,2600,2700,2800,2900,3000,3100,3200,3300,3400,3500,3600,3700,3800,3900,4000,4100,4200,4300,4400,4500,4600]},\"column_names\":[\"y\",\"x\"],\"cont_ranges\":{},\"discrete_ranges\":{},\"selected\":[],\"id\":\"da33c948-e4d2-494d-c99a-81eac63abaaa\",\"doc\":null,\"tags\":[]}},{\"id\":\"c78bdc78-110b-478e-c748-780c65553726\",\"type\":\"Line\",\"attributes\":{\"fill_alpha\":{\"units\":\"data\",\"value\":0.2},\"line_alpha\":{\"units\":\"data\",\"value\":1},\"doc\":null,\"size\":{\"units\":\"screen\",\"value\":10},\"fill_color\":{\"value\":\"orange\"},\"line_color\":{\"value\":\"orange\"},\"x\":{\"units\":\"data\",\"field\":\"x\"},\"id\":\"c78bdc78-110b-478e-c748-780c65553726\",\"y\":{\"units\":\"data\",\"field\":\"y\"},\"tags\":[]}},{\"id\":\"f21f21c8-cbc9-427e-c234-5f5e9d7ab7b3\",\"type\":\"Line\",\"attributes\":{\"fill_alpha\":{\"units\":\"data\",\"value\":0.2},\"line_alpha\":{\"units\":\"data\",\"value\":1},\"doc\":null,\"size\":{\"units\":\"screen\",\"value\":10},\"fill_color\":{\"value\":\"orange\"},\"line_color\":{\"value\":\"orange\"},\"x\":{\"units\":\"data\",\"field\":\"x\"},\"id\":\"f21f21c8-cbc9-427e-c234-5f5e9d7ab7b3\",\"y\":{\"units\":\"data\",\"field\":\"y\"},\"tags\":[]}},{\"id\":\"d22d4f0d-e035-4ed8-ce47-950619fe1662\",\"type\":\"GlyphRenderer\",\"attributes\":{\"name\":null,\"nonselection_glyph\":{\"type\":\"Line\",\"id\":\"f21f21c8-cbc9-427e-c234-5f5e9d7ab7b3\"},\"doc\":null,\"server_data_source\":null,\"data_source\":{\"type\":\"ColumnDataSource\",\"id\":\"da33c948-e4d2-494d-c99a-81eac63abaaa\"},\"glyph\":{\"type\":\"Line\",\"id\":\"c78bdc78-110b-478e-c748-780c65553726\"},\"selection_glyph\":null,\"id\":\"d22d4f0d-e035-4ed8-ce47-950619fe1662\",\"tags\":[]}},{\"id\":\"78d21869-59df-45f0-c547-bf9f9bdf9629\",\"type\":\"DataRange1d\",\"attributes\":{\"sources\":[{\"columns\":[\"x\"],\"source\":{\"type\":\"ColumnDataSource\",\"id\":\"ef3b4e9d-6f72-4413-c4ba-bebcf81b919f\"}},{\"columns\":[\"x\"],\"source\":{\"type\":\"ColumnDataSource\",\"id\":\"da33c948-e4d2-494d-c99a-81eac63abaaa\"}}],\"id\":\"78d21869-59df-45f0-c547-bf9f9bdf9629\",\"tags\":[],\"doc\":null}},{\"id\":\"c575f851-b8d6-45cd-c5d0-c252abceffba\",\"type\":\"DataRange1d\",\"attributes\":{\"sources\":[{\"columns\":[\"y\"],\"source\":{\"type\":\"ColumnDataSource\",\"id\":\"ef3b4e9d-6f72-4413-c4ba-bebcf81b919f\"}},{\"columns\":[\"y\"],\"source\":{\"type\":\"ColumnDataSource\",\"id\":\"da33c948-e4d2-494d-c99a-81eac63abaaa\"}}],\"id\":\"c575f851-b8d6-45cd-c5d0-c252abceffba\",\"tags\":[],\"doc\":null}},{\"id\":\"89c7a0e7-6a06-4a60-caea-162ff4ce380a\",\"type\":\"ToolEvents\",\"attributes\":{\"tags\":[],\"id\":\"89c7a0e7-6a06-4a60-caea-162ff4ce380a\",\"geometries\":[],\"doc\":null}},{\"id\":\"921bc471-bbea-4806-c82f-5340be2a2f07\",\"type\":\"BasicTickFormatter\",\"attributes\":{\"id\":\"921bc471-bbea-4806-c82f-5340be2a2f07\",\"tags\":[],\"doc\":null}},{\"id\":\"b223dc68-b42d-4f14-cfcf-ecd29e775b2b\",\"type\":\"BasicTicker\",\"attributes\":{\"num_minor_ticks\":5,\"id\":\"b223dc68-b42d-4f14-cfcf-ecd29e775b2b\",\"tags\":[],\"doc\":null}},{\"id\":\"d559f01f-9105-4460-c475-f522118d6199\",\"type\":\"LinearAxis\",\"attributes\":{\"formatter\":{\"type\":\"BasicTickFormatter\",\"id\":\"921bc471-bbea-4806-c82f-5340be2a2f07\"},\"ticker\":{\"type\":\"BasicTicker\",\"id\":\"b223dc68-b42d-4f14-cfcf-ecd29e775b2b\"},\"plot\":{\"id\":\"91df9c4f-0c84-46c6-c6c9-2c390dabe814\",\"type\":\"Plot\",\"subtype\":\"Figure\"},\"axis_label\":null,\"id\":\"d559f01f-9105-4460-c475-f522118d6199\",\"doc\":null,\"tags\":[]}},{\"id\":\"0ed9866c-8b0a-4764-c7d4-41ecb3922c43\",\"type\":\"Grid\",\"attributes\":{\"dimension\":0,\"plot\":{\"id\":\"91df9c4f-0c84-46c6-c6c9-2c390dabe814\",\"type\":\"Plot\",\"subtype\":\"Figure\"},\"ticker\":{\"type\":\"BasicTicker\",\"id\":\"b223dc68-b42d-4f14-cfcf-ecd29e775b2b\"},\"id\":\"0ed9866c-8b0a-4764-c7d4-41ecb3922c43\",\"doc\":null,\"tags\":[]}},{\"id\":\"c867edee-1140-4207-c2a3-ef6d97b4a481\",\"type\":\"BasicTickFormatter\",\"attributes\":{\"id\":\"c867edee-1140-4207-c2a3-ef6d97b4a481\",\"tags\":[],\"doc\":null}},{\"id\":\"dd137151-f8ab-46dc-c666-b3a3e25ed628\",\"type\":\"BasicTicker\",\"attributes\":{\"num_minor_ticks\":5,\"id\":\"dd137151-f8ab-46dc-c666-b3a3e25ed628\",\"tags\":[],\"doc\":null}},{\"id\":\"54ab07d9-4f09-4a4b-caa5-1e1f69c77681\",\"type\":\"LinearAxis\",\"attributes\":{\"formatter\":{\"type\":\"BasicTickFormatter\",\"id\":\"c867edee-1140-4207-c2a3-ef6d97b4a481\"},\"ticker\":{\"type\":\"BasicTicker\",\"id\":\"dd137151-f8ab-46dc-c666-b3a3e25ed628\"},\"plot\":{\"id\":\"91df9c4f-0c84-46c6-c6c9-2c390dabe814\",\"type\":\"Plot\",\"subtype\":\"Figure\"},\"axis_label\":null,\"id\":\"54ab07d9-4f09-4a4b-caa5-1e1f69c77681\",\"doc\":null,\"tags\":[]}},{\"id\":\"a4762888-11c8-412f-c18a-df01e7905c6a\",\"type\":\"Grid\",\"attributes\":{\"dimension\":1,\"plot\":{\"id\":\"91df9c4f-0c84-46c6-c6c9-2c390dabe814\",\"type\":\"Plot\",\"subtype\":\"Figure\"},\"ticker\":{\"type\":\"BasicTicker\",\"id\":\"dd137151-f8ab-46dc-c666-b3a3e25ed628\"},\"id\":\"a4762888-11c8-412f-c18a-df01e7905c6a\",\"doc\":null,\"tags\":[]}},{\"id\":\"397b005d-922f-461d-c6c6-bcc59a423d5f\",\"type\":\"PanTool\",\"attributes\":{\"plot\":{\"id\":\"91df9c4f-0c84-46c6-c6c9-2c390dabe814\",\"type\":\"Plot\",\"subtype\":\"Figure\"},\"dimensions\":[\"width\",\"height\"],\"id\":\"397b005d-922f-461d-c6c6-bcc59a423d5f\",\"doc\":null,\"tags\":[]}},{\"id\":\"ec0c0876-9125-4495-c44e-5acab49a8107\",\"type\":\"WheelZoomTool\",\"attributes\":{\"plot\":{\"id\":\"91df9c4f-0c84-46c6-c6c9-2c390dabe814\",\"type\":\"Plot\",\"subtype\":\"Figure\"},\"dimensions\":[\"width\",\"height\"],\"id\":\"ec0c0876-9125-4495-c44e-5acab49a8107\",\"doc\":null,\"tags\":[]}},{\"id\":\"af69ba17-f129-4822-c8c3-38834b00838c\",\"type\":\"BoxZoomTool\",\"attributes\":{\"plot\":{\"id\":\"91df9c4f-0c84-46c6-c6c9-2c390dabe814\",\"type\":\"Plot\",\"subtype\":\"Figure\"},\"id\":\"af69ba17-f129-4822-c8c3-38834b00838c\",\"tags\":[],\"doc\":null}},{\"id\":\"06246f87-f902-4754-c7d0-feed166f7c0b\",\"type\":\"PreviewSaveTool\",\"attributes\":{\"plot\":{\"id\":\"91df9c4f-0c84-46c6-c6c9-2c390dabe814\",\"type\":\"Plot\",\"subtype\":\"Figure\"},\"id\":\"06246f87-f902-4754-c7d0-feed166f7c0b\",\"tags\":[],\"doc\":null}},{\"id\":\"4417d5e3-bf7c-4d51-cd3a-f5908d7ec208\",\"type\":\"ResizeTool\",\"attributes\":{\"plot\":{\"id\":\"91df9c4f-0c84-46c6-c6c9-2c390dabe814\",\"type\":\"Plot\",\"subtype\":\"Figure\"},\"id\":\"4417d5e3-bf7c-4d51-cd3a-f5908d7ec208\",\"tags\":[],\"doc\":null}},{\"id\":\"a124dbdf-3b19-4c57-cc5b-931f4961bee3\",\"type\":\"ResetTool\",\"attributes\":{\"plot\":{\"id\":\"91df9c4f-0c84-46c6-c6c9-2c390dabe814\",\"type\":\"Plot\",\"subtype\":\"Figure\"},\"id\":\"a124dbdf-3b19-4c57-cc5b-931f4961bee3\",\"tags\":[],\"doc\":null}},{\"id\":\"91df9c4f-0c84-46c6-c6c9-2c390dabe814\",\"type\":\"Plot\",\"attributes\":{\"x_range\":{\"type\":\"DataRange1d\",\"id\":\"78d21869-59df-45f0-c547-bf9f9bdf9629\"},\"tool_events\":{\"type\":\"ToolEvents\",\"id\":\"89c7a0e7-6a06-4a60-caea-162ff4ce380a\"},\"below\":[{\"type\":\"LinearAxis\",\"id\":\"d559f01f-9105-4460-c475-f522118d6199\"}],\"renderers\":[{\"type\":\"GlyphRenderer\",\"id\":\"3280775b-bedd-4848-c801-ce53353dd290\"},{\"type\":\"GlyphRenderer\",\"id\":\"d22d4f0d-e035-4ed8-ce47-950619fe1662\"},{\"type\":\"LinearAxis\",\"id\":\"d559f01f-9105-4460-c475-f522118d6199\"},{\"type\":\"Grid\",\"id\":\"0ed9866c-8b0a-4764-c7d4-41ecb3922c43\"},{\"type\":\"LinearAxis\",\"id\":\"54ab07d9-4f09-4a4b-caa5-1e1f69c77681\"},{\"type\":\"Grid\",\"id\":\"a4762888-11c8-412f-c18a-df01e7905c6a\"}],\"above\":[],\"tools\":[{\"type\":\"PanTool\",\"id\":\"397b005d-922f-461d-c6c6-bcc59a423d5f\"},{\"type\":\"WheelZoomTool\",\"id\":\"ec0c0876-9125-4495-c44e-5acab49a8107\"},{\"type\":\"BoxZoomTool\",\"id\":\"af69ba17-f129-4822-c8c3-38834b00838c\"},{\"type\":\"PreviewSaveTool\",\"id\":\"06246f87-f902-4754-c7d0-feed166f7c0b\"},{\"type\":\"ResizeTool\",\"id\":\"4417d5e3-bf7c-4d51-cd3a-f5908d7ec208\"},{\"type\":\"ResetTool\",\"id\":\"a124dbdf-3b19-4c57-cc5b-931f4961bee3\"}],\"doc\":null,\"right\":[],\"title\":\"gan training loss plot\",\"extra_x_ranges\":{},\"left\":[{\"type\":\"LinearAxis\",\"id\":\"54ab07d9-4f09-4a4b-caa5-1e1f69c77681\"}],\"y_range\":{\"type\":\"DataRange1d\",\"id\":\"c575f851-b8d6-45cd-c5d0-c252abceffba\"},\"id\":\"91df9c4f-0c84-46c6-c6c9-2c390dabe814\",\"extra_y_ranges\":{},\"tags\":[]}}];\n",
       "  Bokeh.load_models(all_models);\n",
       "  var model = Bokeh.Collections(modeltype).get(modelid);\n",
       "  $(\"#79045edc-cf92-4565-c584-a037ca7929eb\").html(''); // clear any previous plot in window_id\n",
       "  var view = new model.default_view({model: model, el: \"#79045edc-cf92-4565-c584-a037ca7929eb\"});\n",
       "    } else {\n",
       "  load_lib(bokehjs_url, function() {\n",
       "      console.log(\"Bokeh: BokehJS plotting callback run at\", new Date())\n",
       "      var modelid = \"91df9c4f-0c84-46c6-c6c9-2c390dabe814\";\n",
       "      var modeltype = \"Plot\";\n",
       "      var all_models = [{\"id\":\"ef3b4e9d-6f72-4413-c4ba-bebcf81b919f\",\"type\":\"ColumnDataSource\",\"attributes\":{\"data\":{\"y\":[1.0570472797845,1.019406828098,0.86928004492074,0.85321043757722,0.90929418522865,0.83523028763011,0.88538243854418,0.79894432122819,0.96526522329077,0.70062788203359,0.80773983662948,0.75478852796368,0.82980475993827,0.79198885709047,0.94909491413273,0.73808496911079,0.92771511222236,0.58538991003297,0.69440487027168,0.86755643947981,0.73321991367266,0.97550614760257,0.81719350116327,0.74705466674641,0.64399576815777,0.66743925912306,0.6911202929914,0.85089183598757,0.46621250337921,0.81646250956692,0.73172234324738,1.0451056300662,0.75759625365026,1.1950707230717,0.79026456130669,0.68753892323002,0.72368776868097,0.61491255695,0.95149124669842,1.1981584443711,0.92746032192372,1.0095290376339,0.6233726372011,0.74530720873736,1.0534684776794,0.66889640549198],\"x\":[100,200,300,400,500,600,700,800,900,1000,1100,1200,1300,1400,1500,1600,1700,1800,1900,2000,2100,2200,2300,2400,2500,2600,2700,2800,2900,3000,3100,3200,3300,3400,3500,3600,3700,3800,3900,4000,4100,4200,4300,4400,4500,4600]},\"column_names\":[\"y\",\"x\"],\"cont_ranges\":{},\"discrete_ranges\":{},\"selected\":[],\"id\":\"ef3b4e9d-6f72-4413-c4ba-bebcf81b919f\",\"doc\":null,\"tags\":[]}},{\"id\":\"863b08c1-f84e-4187-c124-7bccb92a0e7f\",\"type\":\"Line\",\"attributes\":{\"fill_alpha\":{\"units\":\"data\",\"value\":0.2},\"line_alpha\":{\"units\":\"data\",\"value\":1},\"doc\":null,\"size\":{\"units\":\"screen\",\"value\":10},\"fill_color\":{\"value\":\"blue\"},\"line_color\":{\"value\":\"blue\"},\"x\":{\"units\":\"data\",\"field\":\"x\"},\"id\":\"863b08c1-f84e-4187-c124-7bccb92a0e7f\",\"y\":{\"units\":\"data\",\"field\":\"y\"},\"tags\":[]}},{\"id\":\"6958470b-2edc-4f96-cf44-b223f01d4761\",\"type\":\"Line\",\"attributes\":{\"fill_alpha\":{\"units\":\"data\",\"value\":0.2},\"line_alpha\":{\"units\":\"data\",\"value\":1},\"doc\":null,\"size\":{\"units\":\"screen\",\"value\":10},\"fill_color\":{\"value\":\"blue\"},\"line_color\":{\"value\":\"blue\"},\"x\":{\"units\":\"data\",\"field\":\"x\"},\"id\":\"6958470b-2edc-4f96-cf44-b223f01d4761\",\"y\":{\"units\":\"data\",\"field\":\"y\"},\"tags\":[]}},{\"id\":\"3280775b-bedd-4848-c801-ce53353dd290\",\"type\":\"GlyphRenderer\",\"attributes\":{\"name\":null,\"nonselection_glyph\":{\"type\":\"Line\",\"id\":\"6958470b-2edc-4f96-cf44-b223f01d4761\"},\"doc\":null,\"server_data_source\":null,\"data_source\":{\"type\":\"ColumnDataSource\",\"id\":\"ef3b4e9d-6f72-4413-c4ba-bebcf81b919f\"},\"glyph\":{\"type\":\"Line\",\"id\":\"863b08c1-f84e-4187-c124-7bccb92a0e7f\"},\"selection_glyph\":null,\"id\":\"3280775b-bedd-4848-c801-ce53353dd290\",\"tags\":[]}},{\"id\":\"da33c948-e4d2-494d-c99a-81eac63abaaa\",\"type\":\"ColumnDataSource\",\"attributes\":{\"data\":{\"y\":[0.95569099858403,1.0389374652877,1.1767001077533,1.0290411408059,1.209193683695,1.2711143507622,1.444721542066,1.5587899261154,1.4362352956086,1.7970550311729,1.342366093304,1.6956058437936,1.8129635746591,1.3362701961305,1.5925008389167,1.6299162115902,1.4838880130555,1.6227151923813,1.3197191162035,1.9000201257877,1.0702348251361,1.3387809763663,1.4229494458996,0.94249305152334,1.0486957263201,1.8282591449097,1.5623319982551,1.5533105912618,1.2629200234078,1.4321616217494,2.2757590571418,1.7611601022072,2.1964646652341,2.8287916197442,0.96570845041424,1.7451182291843,1.1879299180582,1.7188377087004,1.0381684924942,2.5325984288938,1.3949656691402,1.0007487167604,0.95996261644177,1.7979181637056,1.364437289536,1.7003610422835],\"x\":[100,200,300,400,500,600,700,800,900,1000,1100,1200,1300,1400,1500,1600,1700,1800,1900,2000,2100,2200,2300,2400,2500,2600,2700,2800,2900,3000,3100,3200,3300,3400,3500,3600,3700,3800,3900,4000,4100,4200,4300,4400,4500,4600]},\"column_names\":[\"y\",\"x\"],\"cont_ranges\":{},\"discrete_ranges\":{},\"selected\":[],\"id\":\"da33c948-e4d2-494d-c99a-81eac63abaaa\",\"doc\":null,\"tags\":[]}},{\"id\":\"c78bdc78-110b-478e-c748-780c65553726\",\"type\":\"Line\",\"attributes\":{\"fill_alpha\":{\"units\":\"data\",\"value\":0.2},\"line_alpha\":{\"units\":\"data\",\"value\":1},\"doc\":null,\"size\":{\"units\":\"screen\",\"value\":10},\"fill_color\":{\"value\":\"orange\"},\"line_color\":{\"value\":\"orange\"},\"x\":{\"units\":\"data\",\"field\":\"x\"},\"id\":\"c78bdc78-110b-478e-c748-780c65553726\",\"y\":{\"units\":\"data\",\"field\":\"y\"},\"tags\":[]}},{\"id\":\"f21f21c8-cbc9-427e-c234-5f5e9d7ab7b3\",\"type\":\"Line\",\"attributes\":{\"fill_alpha\":{\"units\":\"data\",\"value\":0.2},\"line_alpha\":{\"units\":\"data\",\"value\":1},\"doc\":null,\"size\":{\"units\":\"screen\",\"value\":10},\"fill_color\":{\"value\":\"orange\"},\"line_color\":{\"value\":\"orange\"},\"x\":{\"units\":\"data\",\"field\":\"x\"},\"id\":\"f21f21c8-cbc9-427e-c234-5f5e9d7ab7b3\",\"y\":{\"units\":\"data\",\"field\":\"y\"},\"tags\":[]}},{\"id\":\"d22d4f0d-e035-4ed8-ce47-950619fe1662\",\"type\":\"GlyphRenderer\",\"attributes\":{\"name\":null,\"nonselection_glyph\":{\"type\":\"Line\",\"id\":\"f21f21c8-cbc9-427e-c234-5f5e9d7ab7b3\"},\"doc\":null,\"server_data_source\":null,\"data_source\":{\"type\":\"ColumnDataSource\",\"id\":\"da33c948-e4d2-494d-c99a-81eac63abaaa\"},\"glyph\":{\"type\":\"Line\",\"id\":\"c78bdc78-110b-478e-c748-780c65553726\"},\"selection_glyph\":null,\"id\":\"d22d4f0d-e035-4ed8-ce47-950619fe1662\",\"tags\":[]}},{\"id\":\"78d21869-59df-45f0-c547-bf9f9bdf9629\",\"type\":\"DataRange1d\",\"attributes\":{\"sources\":[{\"columns\":[\"x\"],\"source\":{\"type\":\"ColumnDataSource\",\"id\":\"ef3b4e9d-6f72-4413-c4ba-bebcf81b919f\"}},{\"columns\":[\"x\"],\"source\":{\"type\":\"ColumnDataSource\",\"id\":\"da33c948-e4d2-494d-c99a-81eac63abaaa\"}}],\"id\":\"78d21869-59df-45f0-c547-bf9f9bdf9629\",\"tags\":[],\"doc\":null}},{\"id\":\"c575f851-b8d6-45cd-c5d0-c252abceffba\",\"type\":\"DataRange1d\",\"attributes\":{\"sources\":[{\"columns\":[\"y\"],\"source\":{\"type\":\"ColumnDataSource\",\"id\":\"ef3b4e9d-6f72-4413-c4ba-bebcf81b919f\"}},{\"columns\":[\"y\"],\"source\":{\"type\":\"ColumnDataSource\",\"id\":\"da33c948-e4d2-494d-c99a-81eac63abaaa\"}}],\"id\":\"c575f851-b8d6-45cd-c5d0-c252abceffba\",\"tags\":[],\"doc\":null}},{\"id\":\"89c7a0e7-6a06-4a60-caea-162ff4ce380a\",\"type\":\"ToolEvents\",\"attributes\":{\"tags\":[],\"id\":\"89c7a0e7-6a06-4a60-caea-162ff4ce380a\",\"geometries\":[],\"doc\":null}},{\"id\":\"921bc471-bbea-4806-c82f-5340be2a2f07\",\"type\":\"BasicTickFormatter\",\"attributes\":{\"id\":\"921bc471-bbea-4806-c82f-5340be2a2f07\",\"tags\":[],\"doc\":null}},{\"id\":\"b223dc68-b42d-4f14-cfcf-ecd29e775b2b\",\"type\":\"BasicTicker\",\"attributes\":{\"num_minor_ticks\":5,\"id\":\"b223dc68-b42d-4f14-cfcf-ecd29e775b2b\",\"tags\":[],\"doc\":null}},{\"id\":\"d559f01f-9105-4460-c475-f522118d6199\",\"type\":\"LinearAxis\",\"attributes\":{\"formatter\":{\"type\":\"BasicTickFormatter\",\"id\":\"921bc471-bbea-4806-c82f-5340be2a2f07\"},\"ticker\":{\"type\":\"BasicTicker\",\"id\":\"b223dc68-b42d-4f14-cfcf-ecd29e775b2b\"},\"plot\":{\"id\":\"91df9c4f-0c84-46c6-c6c9-2c390dabe814\",\"type\":\"Plot\",\"subtype\":\"Figure\"},\"axis_label\":null,\"id\":\"d559f01f-9105-4460-c475-f522118d6199\",\"doc\":null,\"tags\":[]}},{\"id\":\"0ed9866c-8b0a-4764-c7d4-41ecb3922c43\",\"type\":\"Grid\",\"attributes\":{\"dimension\":0,\"plot\":{\"id\":\"91df9c4f-0c84-46c6-c6c9-2c390dabe814\",\"type\":\"Plot\",\"subtype\":\"Figure\"},\"ticker\":{\"type\":\"BasicTicker\",\"id\":\"b223dc68-b42d-4f14-cfcf-ecd29e775b2b\"},\"id\":\"0ed9866c-8b0a-4764-c7d4-41ecb3922c43\",\"doc\":null,\"tags\":[]}},{\"id\":\"c867edee-1140-4207-c2a3-ef6d97b4a481\",\"type\":\"BasicTickFormatter\",\"attributes\":{\"id\":\"c867edee-1140-4207-c2a3-ef6d97b4a481\",\"tags\":[],\"doc\":null}},{\"id\":\"dd137151-f8ab-46dc-c666-b3a3e25ed628\",\"type\":\"BasicTicker\",\"attributes\":{\"num_minor_ticks\":5,\"id\":\"dd137151-f8ab-46dc-c666-b3a3e25ed628\",\"tags\":[],\"doc\":null}},{\"id\":\"54ab07d9-4f09-4a4b-caa5-1e1f69c77681\",\"type\":\"LinearAxis\",\"attributes\":{\"formatter\":{\"type\":\"BasicTickFormatter\",\"id\":\"c867edee-1140-4207-c2a3-ef6d97b4a481\"},\"ticker\":{\"type\":\"BasicTicker\",\"id\":\"dd137151-f8ab-46dc-c666-b3a3e25ed628\"},\"plot\":{\"id\":\"91df9c4f-0c84-46c6-c6c9-2c390dabe814\",\"type\":\"Plot\",\"subtype\":\"Figure\"},\"axis_label\":null,\"id\":\"54ab07d9-4f09-4a4b-caa5-1e1f69c77681\",\"doc\":null,\"tags\":[]}},{\"id\":\"a4762888-11c8-412f-c18a-df01e7905c6a\",\"type\":\"Grid\",\"attributes\":{\"dimension\":1,\"plot\":{\"id\":\"91df9c4f-0c84-46c6-c6c9-2c390dabe814\",\"type\":\"Plot\",\"subtype\":\"Figure\"},\"ticker\":{\"type\":\"BasicTicker\",\"id\":\"dd137151-f8ab-46dc-c666-b3a3e25ed628\"},\"id\":\"a4762888-11c8-412f-c18a-df01e7905c6a\",\"doc\":null,\"tags\":[]}},{\"id\":\"397b005d-922f-461d-c6c6-bcc59a423d5f\",\"type\":\"PanTool\",\"attributes\":{\"plot\":{\"id\":\"91df9c4f-0c84-46c6-c6c9-2c390dabe814\",\"type\":\"Plot\",\"subtype\":\"Figure\"},\"dimensions\":[\"width\",\"height\"],\"id\":\"397b005d-922f-461d-c6c6-bcc59a423d5f\",\"doc\":null,\"tags\":[]}},{\"id\":\"ec0c0876-9125-4495-c44e-5acab49a8107\",\"type\":\"WheelZoomTool\",\"attributes\":{\"plot\":{\"id\":\"91df9c4f-0c84-46c6-c6c9-2c390dabe814\",\"type\":\"Plot\",\"subtype\":\"Figure\"},\"dimensions\":[\"width\",\"height\"],\"id\":\"ec0c0876-9125-4495-c44e-5acab49a8107\",\"doc\":null,\"tags\":[]}},{\"id\":\"af69ba17-f129-4822-c8c3-38834b00838c\",\"type\":\"BoxZoomTool\",\"attributes\":{\"plot\":{\"id\":\"91df9c4f-0c84-46c6-c6c9-2c390dabe814\",\"type\":\"Plot\",\"subtype\":\"Figure\"},\"id\":\"af69ba17-f129-4822-c8c3-38834b00838c\",\"tags\":[],\"doc\":null}},{\"id\":\"06246f87-f902-4754-c7d0-feed166f7c0b\",\"type\":\"PreviewSaveTool\",\"attributes\":{\"plot\":{\"id\":\"91df9c4f-0c84-46c6-c6c9-2c390dabe814\",\"type\":\"Plot\",\"subtype\":\"Figure\"},\"id\":\"06246f87-f902-4754-c7d0-feed166f7c0b\",\"tags\":[],\"doc\":null}},{\"id\":\"4417d5e3-bf7c-4d51-cd3a-f5908d7ec208\",\"type\":\"ResizeTool\",\"attributes\":{\"plot\":{\"id\":\"91df9c4f-0c84-46c6-c6c9-2c390dabe814\",\"type\":\"Plot\",\"subtype\":\"Figure\"},\"id\":\"4417d5e3-bf7c-4d51-cd3a-f5908d7ec208\",\"tags\":[],\"doc\":null}},{\"id\":\"a124dbdf-3b19-4c57-cc5b-931f4961bee3\",\"type\":\"ResetTool\",\"attributes\":{\"plot\":{\"id\":\"91df9c4f-0c84-46c6-c6c9-2c390dabe814\",\"type\":\"Plot\",\"subtype\":\"Figure\"},\"id\":\"a124dbdf-3b19-4c57-cc5b-931f4961bee3\",\"tags\":[],\"doc\":null}},{\"id\":\"91df9c4f-0c84-46c6-c6c9-2c390dabe814\",\"type\":\"Plot\",\"attributes\":{\"x_range\":{\"type\":\"DataRange1d\",\"id\":\"78d21869-59df-45f0-c547-bf9f9bdf9629\"},\"tool_events\":{\"type\":\"ToolEvents\",\"id\":\"89c7a0e7-6a06-4a60-caea-162ff4ce380a\"},\"below\":[{\"type\":\"LinearAxis\",\"id\":\"d559f01f-9105-4460-c475-f522118d6199\"}],\"renderers\":[{\"type\":\"GlyphRenderer\",\"id\":\"3280775b-bedd-4848-c801-ce53353dd290\"},{\"type\":\"GlyphRenderer\",\"id\":\"d22d4f0d-e035-4ed8-ce47-950619fe1662\"},{\"type\":\"LinearAxis\",\"id\":\"d559f01f-9105-4460-c475-f522118d6199\"},{\"type\":\"Grid\",\"id\":\"0ed9866c-8b0a-4764-c7d4-41ecb3922c43\"},{\"type\":\"LinearAxis\",\"id\":\"54ab07d9-4f09-4a4b-caa5-1e1f69c77681\"},{\"type\":\"Grid\",\"id\":\"a4762888-11c8-412f-c18a-df01e7905c6a\"}],\"above\":[],\"tools\":[{\"type\":\"PanTool\",\"id\":\"397b005d-922f-461d-c6c6-bcc59a423d5f\"},{\"type\":\"WheelZoomTool\",\"id\":\"ec0c0876-9125-4495-c44e-5acab49a8107\"},{\"type\":\"BoxZoomTool\",\"id\":\"af69ba17-f129-4822-c8c3-38834b00838c\"},{\"type\":\"PreviewSaveTool\",\"id\":\"06246f87-f902-4754-c7d0-feed166f7c0b\"},{\"type\":\"ResizeTool\",\"id\":\"4417d5e3-bf7c-4d51-cd3a-f5908d7ec208\"},{\"type\":\"ResetTool\",\"id\":\"a124dbdf-3b19-4c57-cc5b-931f4961bee3\"}],\"doc\":null,\"right\":[],\"title\":\"gan training loss plot\",\"extra_x_ranges\":{},\"left\":[{\"type\":\"LinearAxis\",\"id\":\"54ab07d9-4f09-4a4b-caa5-1e1f69c77681\"}],\"y_range\":{\"type\":\"DataRange1d\",\"id\":\"c575f851-b8d6-45cd-c5d0-c252abceffba\"},\"id\":\"91df9c4f-0c84-46c6-c6c9-2c390dabe814\",\"extra_y_ranges\":{},\"tags\":[]}}];\n",
       "      Bokeh.load_models(all_models);\n",
       "      var model = Bokeh.Collections(modeltype).get(modelid);\n",
       "      $(\"#79045edc-cf92-4565-c584-a037ca7929eb\").html(''); // clear any previous plot in window_id\n",
       "      var view = new model.default_view({model: model, el: \"#79045edc-cf92-4565-c584-a037ca7929eb\"});\n",
       "  });\n",
       "    }\n",
       "});\n",
       "</script>\n",
       "<div class=\"plotdiv\" id=\"79045edc-cf92-4565-c584-a037ca7929eb\"></div>\n"
      ]
     },
     "metadata": {},
     "output_type": "display_data"
    }
   ],
   "source": [
    "plot = Plot():line(counter_tb, D_loss_tb, \"blue\", \"D loss\")\n",
    "-- plot:line(counter_tb, D_fake_loss_tb, \"green\", \"D fake loss\")\n",
    "-- plot:line(counter_tb, D_real_loss_tb, \"black\", \"D real loss\")\n",
    "plot:line(counter_tb, G_loss_tb, \"orange\", \"G loss\")\n",
    "plot:title(\"gan training loss plot\")\n",
    "plot:draw()\n",
    "plot:save(\"gan_training_loss_plot.html\")"
   ]
  },
  {
   "cell_type": "markdown",
   "metadata": {
    "deletable": true,
    "editable": true
   },
   "source": [
    "## debug part"
   ]
  },
  {
   "cell_type": "code",
   "execution_count": 31,
   "metadata": {
    "collapsed": false,
    "deletable": true,
    "editable": true
   },
   "outputs": [
    {
     "data": {
      "text/plain": [
       " 1  0  0  0  0  0  0  0  0  0\n",
       " 0  1  0  0  0  0  0  0  0  0\n",
       " 0  0  1  0  0  0  0  0  0  0\n",
       " 0  0  0  1  0  0  0  0  0  0\n",
       " 0  0  0  0  1  0  0  0  0  0\n",
       " 0  0  0  0  0  1  0  0  0  0\n",
       " 0  0  0  0  0  0  1  0  0  0\n",
       " 0  0  0  0  0  0  0  1  0  0\n",
       " 0  0  0  0  0  0  0  0  1  0\n",
       " 0  0  0  0  0  0  0  0  0  1\n",
       "[torch.CudaTensor of size 10x10]\n",
       "\n"
      ]
     },
     "execution_count": 31,
     "metadata": {},
     "output_type": "execute_result"
    },
    {
     "data": {
      "image/png": "[encoded data removed]",
      "text/plain": [
       "Console does not support images"
      ]
     },
     "metadata": {
      "image/png": {
       "height": 32,
       "width": 32
      }
     },
     "output_type": "display_data"
    },
    {
     "data": {
      "image/png": "[encoded data removed]",
      "text/plain": [
       "Console does not support images"
      ]
     },
     "metadata": {
      "image/png": {
       "height": 32,
       "width": 32
      }
     },
     "output_type": "display_data"
    },
    {
     "data": {
      "image/png": "[encoded data removed]",
      "text/plain": [
       "Console does not support images"
      ]
     },
     "metadata": {
      "image/png": {
       "height": 32,
       "width": 32
      }
     },
     "output_type": "display_data"
    },
    {
     "data": {
      "text/plain": [
       "\n"
      ]
     },
     "execution_count": 31,
     "metadata": {},
     "output_type": "execute_result"
    },
    {
     "data": {
      "image/png": "[encoded data removed]",
      "text/plain": [
       "Console does not support images"
      ]
     },
     "metadata": {
      "image/png": {
       "height": 68,
       "width": 204
      }
     },
     "output_type": "display_data"
    }
   ],
   "source": [
    "labelVector = torch.zeros(10, 10):cuda()\n",
    "            \n",
    "for m=1, 10 do\n",
    "    labelVector[{m, m}] = 1\n",
    "end\n",
    "print(labelVector)\n",
    "noise = torch.randn(10, 100):cuda()\n",
    "\n",
    "local res = G:forward({noise, labelVector}) + 0.5\n",
    "itorch.image(res[1])\n",
    "itorch.image(res[2])\n",
    "print(itorch.image(res[1] - res[2]))\n",
    "itorch.image(res)"
   ]
  },
  {
   "cell_type": "code",
   "execution_count": null,
   "metadata": {
    "collapsed": true,
    "deletable": true,
    "editable": true
   },
   "outputs": [],
   "source": []
  },
  {
   "cell_type": "code",
   "execution_count": null,
   "metadata": {
    "collapsed": true,
    "deletable": true,
    "editable": true
   },
   "outputs": [],
   "source": []
  }
 ],
 "metadata": {
  "kernelspec": {
   "display_name": "iTorch",
   "language": "lua",
   "name": "itorch"
  },
  "language_info": {
   "name": "lua",
   "version": "5.1"
  }
 },
 "nbformat": 4,
 "nbformat_minor": 2
}
