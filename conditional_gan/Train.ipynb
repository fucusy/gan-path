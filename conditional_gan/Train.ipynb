{
 "cells": [
  {
   "cell_type": "code",
   "execution_count": 1,
   "metadata": {
    "collapsed": false,
    "deletable": true,
    "editable": true
   },
   "outputs": [],
   "source": [
    "require 'cutorch';\n",
    "require 'cunn';\n",
    "require 'nn';\n",
    "require 'model';\n",
    "require 'mnist_loader';\n",
    "Plot = require 'itorch.Plot';"
   ]
  },
  {
   "cell_type": "code",
   "execution_count": 2,
   "metadata": {
    "collapsed": false,
    "deletable": true,
    "editable": true
   },
   "outputs": [],
   "source": [
    "cutorch.setDevice(2)\n",
    "\n",
    "G, D = get_model()\n",
    "G:cuda()\n",
    "D:cuda()\n",
    "\n",
    "criterion = nn.ClassNLLCriterion()\n",
    "criterion = criterion:cuda()"
   ]
  },
  {
   "cell_type": "code",
   "execution_count": 3,
   "metadata": {
    "collapsed": false,
    "deletable": true,
    "editable": true
   },
   "outputs": [
    {
     "data": {
      "text/plain": [
       "<mnist> done\t\n"
      ]
     },
     "execution_count": 3,
     "metadata": {},
     "output_type": "execute_result"
    }
   ],
   "source": [
    "train_set = mnist.loadTrainSet()"
   ]
  },
  {
   "cell_type": "code",
   "execution_count": 4,
   "metadata": {
    "collapsed": false,
    "deletable": true,
    "editable": true
   },
   "outputs": [
    {
     "data": {
      "text/plain": [
       "-0.79992614568285\t\n"
      ]
     },
     "execution_count": 4,
     "metadata": {},
     "output_type": "execute_result"
    },
    {
     "data": {
      "text/plain": [
       "0.55043469725165\t\n"
      ]
     },
     "execution_count": 4,
     "metadata": {},
     "output_type": "execute_result"
    }
   ],
   "source": [
    "print(train_set.data:mean())\n",
    "print(train_set.data:std())"
   ]
  },
  {
   "cell_type": "code",
   "execution_count": 5,
   "metadata": {
    "collapsed": false,
    "deletable": true,
    "editable": true
   },
   "outputs": [
    {
     "data": {
      "image/png": "[encoded data removed]",
      "text/plain": [
       "Console does not support images"
      ]
     },
     "metadata": {
      "image/png": {
       "height": 32,
       "width": 32
      }
     },
     "output_type": "display_data"
    }
   ],
   "source": [
    "displayData = train_set[1][1]\n",
    "itorch.image(displayData)\n",
    "print(train_set[1][2][9])"
   ]
  },
  {
   "cell_type": "code",
   "execution_count": 6,
   "metadata": {
    "collapsed": false,
    "deletable": true,
    "editable": true
   },
   "outputs": [
    {
     "data": {
      "text/plain": [
       "0\t\n"
      ]
     },
     "execution_count": 5,
     "metadata": {},
     "output_type": "execute_result"
    }
   ],
   "source": [
    "fixedLabelVector = torch.zeros(10, 10):cuda()\n",
    "for m=1, 10 do\n",
    "    fixedLabelVector[{m, m}] = 1\n",
    "end\n",
    "fixedNoise = torch.randn(10, 100):cuda()\n",
    "print(fixedLabelVector)"
   ]
  },
  {
   "cell_type": "code",
   "execution_count": 7,
   "metadata": {
    "collapsed": false,
    "deletable": true,
    "editable": true
   },
   "outputs": [],
   "source": [
    "counter = 1\n",
    "counter_tb = {}\n",
    "D_fake_loss_tb = {}\n",
    "D_real_loss_tb = {}\n",
    "G_loss_tb = {}\n",
    "D_loss_tb = {}\n",
    "\n",
    "G_parameters, G_gradParameters = G:getParameters()\n",
    "D_parameters, D_gradParameters = D:getParameters()"
   ]
  },
  {
   "cell_type": "code",
   "execution_count": 8,
   "metadata": {
    "collapsed": false,
    "deletable": true,
    "editable": true
   },
   "outputs": [
    {
     "data": {
      "text/plain": [
       "0.00051933340728283\t\n",
       "0.030252140015364\t\n",
       "0.00019795847765636\t\n",
       "0.023524053394794\t\n"
      ]
     },
     "execution_count": 8,
     "metadata": {},
     "output_type": "execute_result"
    }
   ],
   "source": [
    "print(G_parameters:mean())\n",
    "print(G_parameters:std())\n",
    "print(D_parameters:mean())\n",
    "print(D_parameters:std())"
   ]
  },
  {
   "cell_type": "markdown",
   "metadata": {
    "deletable": true,
    "editable": true
   },
   "source": [
    "## arguments for adam optimizer"
   ]
  },
  {
   "cell_type": "code",
   "execution_count": 9,
   "metadata": {
    "collapsed": false,
    "deletable": true,
    "editable": true
   },
   "outputs": [],
   "source": [
    "-- gradclip = 5\n",
    "lr = 2e-4\n",
    "beta1 = 0.5\n",
    "beta2 = 0.999\n",
    "eps = 10e-8\n",
    "batchsize = 128\n",
    "epochsize = 10\n",
    "\n",
    "G_m = torch.zeros(G_parameters:size()):cuda()\n",
    "G_mt = torch.zeros(G_parameters:size()):cuda()\n",
    "G_v = torch.zeros(G_parameters:size()):cuda()\n",
    "G_vt = torch.zeros(G_parameters:size()):cuda()\n",
    "\n",
    "\n",
    "GD_m = torch.zeros(D_parameters:size()):cuda()\n",
    "GD_mt = torch.zeros(D_parameters:size()):cuda()\n",
    "GD_v = torch.zeros(D_parameters:size()):cuda()\n",
    "GD_vt = torch.zeros(D_parameters:size()):cuda()\n",
    "\n",
    "\n",
    "D_m = torch.zeros(D_parameters:size()):cuda()\n",
    "D_mt = torch.zeros(D_parameters:size()):cuda()\n",
    "D_v = torch.zeros(D_parameters:size()):cuda()\n",
    "D_vt = torch.zeros(D_parameters:size()):cuda()"
   ]
  },
  {
   "cell_type": "code",
   "execution_count": 10,
   "metadata": {
    "collapsed": false,
    "deletable": true,
    "editable": true
   },
   "outputs": [],
   "source": [
    "2e-4"
   ]
  },
  {
   "cell_type": "code",
   "execution_count": 11,
   "metadata": {
    "collapsed": false,
    "deletable": true,
    "editable": true
   },
   "outputs": [
    {
     "data": {
      "text/plain": [
       "0.0002\t\n"
      ]
     },
     "execution_count": 10,
     "metadata": {},
     "output_type": "execute_result"
    },
    {
     "data": {
      "image/png": "[encoded data removed]",
      "text/plain": [
       "Console does not support images"
      ]
     },
     "metadata": {
      "image/png": {
       "height": 68,
       "width": 204
      }
     },
     "output_type": "display_data"
    },
    {
     "data": {
      "text/plain": [
       "D real loss: 0.537, D fake loss: 0.551,  G loss: 0.985\t\n"
      ]
     },
     "execution_count": 11,
     "metadata": {},
     "output_type": "execute_result"
    },
    {
     "data": {
      "image/png": "[encoded data removed]",
      "text/plain": [
       "Console does not support images"
      ]
     },
     "metadata": {
      "image/png": {
       "height": 68,
       "width": 204
      }
     },
     "output_type": "display_data"
    },
    {
     "data": {
      "text/plain": [
       "D real loss: 0.521, D fake loss: 0.538,  G loss: 1.008\t\n"
      ]
     },
     "execution_count": 11,
     "metadata": {},
     "output_type": "execute_result"
    },
    {
     "data": {
      "image/png": "[encoded data removed]",
      "text/plain": [
       "Console does not support images"
      ]
     },
     "metadata": {
      "image/png": {
       "height": 68,
       "width": 204
      }
     },
     "output_type": "display_data"
    },
    {
     "data": {
      "text/plain": [
       "D real loss: 0.524, D fake loss: 0.462,  G loss: 1.005\t\n"
      ]
     },
     "execution_count": 11,
     "metadata": {},
     "output_type": "execute_result"
    },
    {
     "data": {
      "image/png": "[encoded data removed]",
      "text/plain": [
       "Console does not support images"
      ]
     },
     "metadata": {
      "image/png": {
       "height": 68,
       "width": 204
      }
     },
     "output_type": "display_data"
    },
    {
     "data": {
      "text/plain": [
       "D real loss: 0.476, D fake loss: 0.486,  G loss: 1.196\t\n"
      ]
     },
     "execution_count": 11,
     "metadata": {},
     "output_type": "execute_result"
    },
    {
     "data": {
      "image/png": "[encoded data removed]",
      "text/plain": [
       "Console does not support images"
      ]
     },
     "metadata": {
      "image/png": {
       "height": 68,
       "width": 204
      }
     },
     "output_type": "display_data"
    },
    {
     "data": {
      "text/plain": [
       "D real loss: 0.441, D fake loss: 0.550,  G loss: 1.337\t\n"
      ]
     },
     "execution_count": 11,
     "metadata": {},
     "output_type": "execute_result"
    },
    {
     "data": {
      "image/png": "[encoded data removed]",
      "text/plain": [
       "Console does not support images"
      ]
     },
     "metadata": {
      "image/png": {
       "height": 68,
       "width": 204
      }
     },
     "output_type": "display_data"
    },
    {
     "data": {
      "text/plain": [
       "D real loss: 0.346, D fake loss: 0.583,  G loss: 1.456\t\n"
      ]
     },
     "execution_count": 11,
     "metadata": {},
     "output_type": "execute_result"
    },
    {
     "data": {
      "image/png": "[encoded data removed]",
      "text/plain": [
       "Console does not support images"
      ]
     },
     "metadata": {
      "image/png": {
       "height": 68,
       "width": 204
      }
     },
     "output_type": "display_data"
    },
    {
     "data": {
      "text/plain": [
       "D real loss: 0.355, D fake loss: 0.512,  G loss: 1.582\t\n"
      ]
     },
     "execution_count": 11,
     "metadata": {},
     "output_type": "execute_result"
    },
    {
     "data": {
      "image/png": "[encoded data removed]",
      "text/plain": [
       "Console does not support images"
      ]
     },
     "metadata": {
      "image/png": {
       "height": 68,
       "width": 204
      }
     },
     "output_type": "display_data"
    },
    {
     "data": {
      "text/plain": [
       "D real loss: 0.589, D fake loss: 0.306,  G loss: 1.227\t\n"
      ]
     },
     "execution_count": 11,
     "metadata": {},
     "output_type": "execute_result"
    },
    {
     "data": {
      "image/png": "[encoded data removed]",
      "text/plain": [
       "Console does not support images"
      ]
     },
     "metadata": {
      "image/png": {
       "height": 68,
       "width": 204
      }
     },
     "output_type": "display_data"
    },
    {
     "data": {
      "text/plain": [
       "D real loss: 0.523, D fake loss: 0.311,  G loss: 0.915\t\n"
      ]
     },
     "execution_count": 11,
     "metadata": {},
     "output_type": "execute_result"
    },
    {
     "data": {
      "text/plain": [
       "D real loss: 0.270, D fake loss: 0.710,  G loss: 1.687\t\n"
      ]
     },
     "execution_count": 11,
     "metadata": {},
     "output_type": "execute_result"
    },
    {
     "data": {
      "image/png": "[encoded data removed]",
      "text/plain": [
       "Console does not support images"
      ]
     },
     "metadata": {
      "image/png": {
       "height": 68,
       "width": 204
      }
     },
     "output_type": "display_data"
    },
    {
     "data": {
      "image/png": "[encoded data removed]",
      "text/plain": [
       "Console does not support images"
      ]
     },
     "metadata": {
      "image/png": {
       "height": 68,
       "width": 204
      }
     },
     "output_type": "display_data"
    },
    {
     "data": {
      "text/plain": [
       "D real loss: 0.332, D fake loss: 0.608,  G loss: 1.592\t\n"
      ]
     },
     "execution_count": 11,
     "metadata": {},
     "output_type": "execute_result"
    },
    {
     "data": {
      "image/png": "[encoded data removed]",
      "text/plain": [
       "Console does not support images"
      ]
     },
     "metadata": {
      "image/png": {
       "height": 68,
       "width": 204
      }
     },
     "output_type": "display_data"
    },
    {
     "data": {
      "text/plain": [
       "D real loss: 0.507, D fake loss: 0.265,  G loss: 1.119\t\n"
      ]
     },
     "execution_count": 11,
     "metadata": {},
     "output_type": "execute_result"
    },
    {
     "data": {
      "image/png": "[encoded data removed]",
      "text/plain": [
       "Console does not support images"
      ]
     },
     "metadata": {
      "image/png": {
       "height": 68,
       "width": 204
      }
     },
     "output_type": "display_data"
    },
    {
     "data": {
      "text/plain": [
       "D real loss: 0.205, D fake loss: 0.355,  G loss: 1.556\t\n"
      ]
     },
     "execution_count": 11,
     "metadata": {},
     "output_type": "execute_result"
    },
    {
     "data": {
      "image/png": "[encoded data removed]",
      "text/plain": [
       "Console does not support images"
      ]
     },
     "metadata": {
      "image/png": {
       "height": 68,
       "width": 204
      }
     },
     "output_type": "display_data"
    },
    {
     "data": {
      "text/plain": [
       "D real loss: 0.290, D fake loss: 0.766,  G loss: 1.658\t\n"
      ]
     },
     "execution_count": 11,
     "metadata": {},
     "output_type": "execute_result"
    },
    {
     "data": {
      "image/png": "[encoded data removed]",
      "text/plain": [
       "Console does not support images"
      ]
     },
     "metadata": {
      "image/png": {
       "height": 68,
       "width": 204
      }
     },
     "output_type": "display_data"
    },
    {
     "data": {
      "text/plain": [
       "D real loss: 0.544, D fake loss: 0.301,  G loss: 1.244\t\n"
      ]
     },
     "execution_count": 11,
     "metadata": {},
     "output_type": "execute_result"
    },
    {
     "data": {
      "text/plain": [
       "D real loss: 0.311, D fake loss: 0.713,  G loss: 1.556\t\n"
      ]
     },
     "execution_count": 11,
     "metadata": {},
     "output_type": "execute_result"
    },
    {
     "data": {
      "image/png": "[encoded data removed]",
      "text/plain": [
       "Console does not support images"
      ]
     },
     "metadata": {
      "image/png": {
       "height": 68,
       "width": 204
      }
     },
     "output_type": "display_data"
    },
    {
     "data": {
      "image/png": "[encoded data removed]",
      "text/plain": [
       "Console does not support images"
      ]
     },
     "metadata": {
      "image/png": {
       "height": 68,
       "width": 204
      }
     },
     "output_type": "display_data"
    },
    {
     "data": {
      "text/plain": [
       "D real loss: 0.389, D fake loss: 0.387,  G loss: 1.537\t\n"
      ]
     },
     "execution_count": 11,
     "metadata": {},
     "output_type": "execute_result"
    },
    {
     "data": {
      "image/png": "[encoded data removed]",
      "text/plain": [
       "Console does not support images"
      ]
     },
     "metadata": {
      "image/png": {
       "height": 68,
       "width": 204
      }
     },
     "output_type": "display_data"
    },
    {
     "data": {
      "text/plain": [
       "D real loss: 0.328, D fake loss: 0.349,  G loss: 1.895\t\n"
      ]
     },
     "execution_count": 11,
     "metadata": {},
     "output_type": "execute_result"
    },
    {
     "data": {
      "image/png": "[encoded data removed]",
      "text/plain": [
       "Console does not support images"
      ]
     },
     "metadata": {
      "image/png": {
       "height": 68,
       "width": 204
      }
     },
     "output_type": "display_data"
    },
    {
     "data": {
      "text/plain": [
       "D real loss: 0.224, D fake loss: 0.617,  G loss: 1.671\t\n"
      ]
     },
     "execution_count": 11,
     "metadata": {},
     "output_type": "execute_result"
    },
    {
     "data": {
      "image/png": "[encoded data removed]",
      "text/plain": [
       "Console does not support images"
      ]
     },
     "metadata": {
      "image/png": {
       "height": 68,
       "width": 204
      }
     },
     "output_type": "display_data"
    },
    {
     "data": {
      "text/plain": [
       "D real loss: 0.577, D fake loss: 0.258,  G loss: 1.475\t\n"
      ]
     },
     "execution_count": 11,
     "metadata": {},
     "output_type": "execute_result"
    },
    {
     "data": {
      "image/png": "[encoded data removed]",
      "text/plain": [
       "Console does not support images"
      ]
     },
     "metadata": {
      "image/png": {
       "height": 68,
       "width": 204
      }
     },
     "output_type": "display_data"
    },
    {
     "data": {
      "text/plain": [
       "D real loss: 0.498, D fake loss: 0.264,  G loss: 1.875\t\n"
      ]
     },
     "execution_count": 11,
     "metadata": {},
     "output_type": "execute_result"
    },
    {
     "data": {
      "image/png": "[encoded data removed]",
      "text/plain": [
       "Console does not support images"
      ]
     },
     "metadata": {
      "image/png": {
       "height": 68,
       "width": 204
      }
     },
     "output_type": "display_data"
    },
    {
     "data": {
      "text/plain": [
       "D real loss: 0.589, D fake loss: 0.188,  G loss: 1.041\t\n"
      ]
     },
     "execution_count": 11,
     "metadata": {},
     "output_type": "execute_result"
    },
    {
     "data": {
      "image/png": "[encoded data removed]",
      "text/plain": [
       "Console does not support images"
      ]
     },
     "metadata": {
      "image/png": {
       "height": 68,
       "width": 204
      }
     },
     "output_type": "display_data"
    },
    {
     "data": {
      "text/plain": [
       "D real loss: 0.433, D fake loss: 0.308,  G loss: 1.288\t\n"
      ]
     },
     "execution_count": 11,
     "metadata": {},
     "output_type": "execute_result"
    },
    {
     "data": {
      "image/png": "[encoded data removed]",
      "text/plain": [
       "Console does not support images"
      ]
     },
     "metadata": {
      "image/png": {
       "height": 68,
       "width": 204
      }
     },
     "output_type": "display_data"
    },
    {
     "data": {
      "text/plain": [
       "D real loss: 0.374, D fake loss: 0.308,  G loss: 1.247\t\n"
      ]
     },
     "execution_count": 11,
     "metadata": {},
     "output_type": "execute_result"
    },
    {
     "data": {
      "image/png": "[encoded data removed]",
      "text/plain": [
       "Console does not support images"
      ]
     },
     "metadata": {
      "image/png": {
       "height": 68,
       "width": 204
      }
     },
     "output_type": "display_data"
    },
    {
     "data": {
      "text/plain": [
       "D real loss: 0.809, D fake loss: 0.237,  G loss: 1.397\t\n"
      ]
     },
     "execution_count": 11,
     "metadata": {},
     "output_type": "execute_result"
    },
    {
     "data": {
      "image/png": "[encoded data removed]",
      "text/plain": [
       "Console does not support images"
      ]
     },
     "metadata": {
      "image/png": {
       "height": 68,
       "width": 204
      }
     },
     "output_type": "display_data"
    },
    {
     "data": {
      "text/plain": [
       "D real loss: 0.605, D fake loss: 0.246,  G loss: 1.693\t\n"
      ]
     },
     "execution_count": 11,
     "metadata": {},
     "output_type": "execute_result"
    },
    {
     "data": {
      "image/png": "[encoded data removed]",
      "text/plain": [
       "Console does not support images"
      ]
     },
     "metadata": {
      "image/png": {
       "height": 68,
       "width": 204
      }
     },
     "output_type": "display_data"
    },
    {
     "data": {
      "text/plain": [
       "D real loss: 0.276, D fake loss: 0.506,  G loss: 1.366\t\n"
      ]
     },
     "execution_count": 11,
     "metadata": {},
     "output_type": "execute_result"
    },
    {
     "data": {
      "image/png": "[encoded data removed]",
      "text/plain": [
       "Console does not support images"
      ]
     },
     "metadata": {
      "image/png": {
       "height": 68,
       "width": 204
      }
     },
     "output_type": "display_data"
    },
    {
     "data": {
      "text/plain": [
       "D real loss: 0.949, D fake loss: 0.195,  G loss: 0.913\t\n"
      ]
     },
     "execution_count": 11,
     "metadata": {},
     "output_type": "execute_result"
    },
    {
     "data": {
      "image/png": "[encoded data removed]",
      "text/plain": [
       "Console does not support images"
      ]
     },
     "metadata": {
      "image/png": {
       "height": 68,
       "width": 204
      }
     },
     "output_type": "display_data"
    },
    {
     "data": {
      "text/plain": [
       "D real loss: 0.164, D fake loss: 0.538,  G loss: 1.238\t\n"
      ]
     },
     "execution_count": 11,
     "metadata": {},
     "output_type": "execute_result"
    },
    {
     "data": {
      "image/png": "[encoded data removed]",
      "text/plain": [
       "Console does not support images"
      ]
     },
     "metadata": {
      "image/png": {
       "height": 68,
       "width": 204
      }
     },
     "output_type": "display_data"
    },
    {
     "data": {
      "text/plain": [
       "D real loss: 0.445, D fake loss: 0.269,  G loss: 1.855\t\n"
      ]
     },
     "execution_count": 11,
     "metadata": {},
     "output_type": "execute_result"
    },
    {
     "data": {
      "image/png": "[encoded data removed]",
      "text/plain": [
       "Console does not support images"
      ]
     },
     "metadata": {
      "image/png": {
       "height": 68,
       "width": 204
      }
     },
     "output_type": "display_data"
    },
    {
     "data": {
      "text/plain": [
       "D real loss: 0.585, D fake loss: 0.296,  G loss: 1.652\t\n"
      ]
     },
     "execution_count": 11,
     "metadata": {},
     "output_type": "execute_result"
    },
    {
     "data": {
      "image/png": "[encoded data removed]",
      "text/plain": [
       "Console does not support images"
      ]
     },
     "metadata": {
      "image/png": {
       "height": 68,
       "width": 204
      }
     },
     "output_type": "display_data"
    },
    {
     "data": {
      "text/plain": [
       "D real loss: 0.588, D fake loss: 0.257,  G loss: 1.125\t\n"
      ]
     },
     "execution_count": 11,
     "metadata": {},
     "output_type": "execute_result"
    },
    {
     "data": {
      "image/png": "[encoded data removed]",
      "text/plain": [
       "Console does not support images"
      ]
     },
     "metadata": {
      "image/png": {
       "height": 68,
       "width": 204
      }
     },
     "output_type": "display_data"
    },
    {
     "data": {
      "text/plain": [
       "D real loss: 0.262, D fake loss: 0.630,  G loss: 1.396\t\n"
      ]
     },
     "execution_count": 11,
     "metadata": {},
     "output_type": "execute_result"
    },
    {
     "data": {
      "image/png": "[encoded data removed]",
      "text/plain": [
       "Console does not support images"
      ]
     },
     "metadata": {
      "image/png": {
       "height": 68,
       "width": 204
      }
     },
     "output_type": "display_data"
    },
    {
     "data": {
      "text/plain": [
       "D real loss: 0.208, D fake loss: 0.696,  G loss: 2.113\t\n"
      ]
     },
     "execution_count": 11,
     "metadata": {},
     "output_type": "execute_result"
    },
    {
     "data": {
      "image/png": "[encoded data removed]",
      "text/plain": [
       "Console does not support images"
      ]
     },
     "metadata": {
      "image/png": {
       "height": 68,
       "width": 204
      }
     },
     "output_type": "display_data"
    },
    {
     "data": {
      "text/plain": [
       "D real loss: 0.181, D fake loss: 0.873,  G loss: 2.183\t\n"
      ]
     },
     "execution_count": 11,
     "metadata": {},
     "output_type": "execute_result"
    },
    {
     "data": {
      "image/png": "[encoded data removed]",
      "text/plain": [
       "Console does not support images"
      ]
     },
     "metadata": {
      "image/png": {
       "height": 68,
       "width": 204
      }
     },
     "output_type": "display_data"
    },
    {
     "data": {
      "text/plain": [
       "D real loss: 0.586, D fake loss: 0.452,  G loss: 1.706\t\n"
      ]
     },
     "execution_count": 11,
     "metadata": {},
     "output_type": "execute_result"
    },
    {
     "data": {
      "image/png": "[encoded data removed]",
      "text/plain": [
       "Console does not support images"
      ]
     },
     "metadata": {
      "image/png": {
       "height": 68,
       "width": 204
      }
     },
     "output_type": "display_data"
    },
    {
     "data": {
      "text/plain": [
       "D real loss: 0.534, D fake loss: 0.509,  G loss: 1.754\t\n"
      ]
     },
     "execution_count": 11,
     "metadata": {},
     "output_type": "execute_result"
    },
    {
     "data": {
      "image/png": "[encoded data removed]",
      "text/plain": [
       "Console does not support images"
      ]
     },
     "metadata": {
      "image/png": {
       "height": 68,
       "width": 204
      }
     },
     "output_type": "display_data"
    },
    {
     "data": {
      "text/plain": [
       "D real loss: 0.331, D fake loss: 0.235,  G loss: 1.549\t\n"
      ]
     },
     "execution_count": 11,
     "metadata": {},
     "output_type": "execute_result"
    },
    {
     "data": {
      "image/png": "[encoded data removed]",
      "text/plain": [
       "Console does not support images"
      ]
     },
     "metadata": {
      "image/png": {
       "height": 68,
       "width": 204
      }
     },
     "output_type": "display_data"
    },
    {
     "data": {
      "text/plain": [
       "D real loss: 0.645, D fake loss: 0.163,  G loss: 1.332\t\n"
      ]
     },
     "execution_count": 11,
     "metadata": {},
     "output_type": "execute_result"
    },
    {
     "data": {
      "image/png": "[encoded data removed]",
      "text/plain": [
       "Console does not support images"
      ]
     },
     "metadata": {
      "image/png": {
       "height": 68,
       "width": 204
      }
     },
     "output_type": "display_data"
    },
    {
     "data": {
      "text/plain": [
       "D real loss: 0.480, D fake loss: 0.244,  G loss: 0.798\t\n"
      ]
     },
     "execution_count": 11,
     "metadata": {},
     "output_type": "execute_result"
    },
    {
     "data": {
      "image/png": "[encoded data removed]",
      "text/plain": [
       "Console does not support images"
      ]
     },
     "metadata": {
      "image/png": {
       "height": 68,
       "width": 204
      }
     },
     "output_type": "display_data"
    },
    {
     "data": {
      "text/plain": [
       "D real loss: 0.489, D fake loss: 0.238,  G loss: 1.186\t\n"
      ]
     },
     "execution_count": 11,
     "metadata": {},
     "output_type": "execute_result"
    },
    {
     "data": {
      "image/png": "[encoded data removed]",
      "text/plain": [
       "Console does not support images"
      ]
     },
     "metadata": {
      "image/png": {
       "height": 68,
       "width": 204
      }
     },
     "output_type": "display_data"
    },
    {
     "data": {
      "text/plain": [
       "D real loss: 0.404, D fake loss: 0.338,  G loss: 1.525\t\n"
      ]
     },
     "execution_count": 11,
     "metadata": {},
     "output_type": "execute_result"
    },
    {
     "data": {
      "image/png": "[encoded data removed]",
      "text/plain": [
       "Console does not support images"
      ]
     },
     "metadata": {
      "image/png": {
       "height": 68,
       "width": 204
      }
     },
     "output_type": "display_data"
    },
    {
     "data": {
      "text/plain": [
       "D real loss: 0.332, D fake loss: 0.187,  G loss: 2.164\t\n"
      ]
     },
     "execution_count": 11,
     "metadata": {},
     "output_type": "execute_result"
    },
    {
     "data": {
      "image/png": "[encoded data removed]",
      "text/plain": [
       "Console does not support images"
      ]
     },
     "metadata": {
      "image/png": {
       "height": 68,
       "width": 204
      }
     },
     "output_type": "display_data"
    },
    {
     "data": {
      "text/plain": [
       "D real loss: 0.365, D fake loss: 0.385,  G loss: 1.242\t\n"
      ]
     },
     "execution_count": 11,
     "metadata": {},
     "output_type": "execute_result"
    },
    {
     "data": {
      "image/png": "[encoded data removed]",
      "text/plain": [
       "Console does not support images"
      ]
     },
     "metadata": {
      "image/png": {
       "height": 68,
       "width": 204
      }
     },
     "output_type": "display_data"
    },
    {
     "data": {
      "text/plain": [
       "D real loss: 0.247, D fake loss: 0.308,  G loss: 1.396\t\n"
      ]
     },
     "execution_count": 11,
     "metadata": {},
     "output_type": "execute_result"
    },
    {
     "data": {
      "image/png": "[encoded data removed]",
      "text/plain": [
       "Console does not support images"
      ]
     },
     "metadata": {
      "image/png": {
       "height": 68,
       "width": 204
      }
     },
     "output_type": "display_data"
    },
    {
     "data": {
      "text/plain": [
       "D real loss: 0.211, D fake loss: 0.867,  G loss: 2.509\t\n"
      ]
     },
     "execution_count": 11,
     "metadata": {},
     "output_type": "execute_result"
    }
   ],
   "source": [
    "inputImgInputBatch = torch.zeros(batchsize, 32, 32):cuda()        \n",
    "inputVectorInputBatch = torch.zeros(batchsize, 10):cuda()\n",
    "inputVectorInputBatchRand = torch.zeros(batchsize, 10):cuda()\n",
    "\n",
    "for epoch=1, epochsize do\n",
    "    train_set:shuffle()\n",
    "    if epoch == 30 then\n",
    "        lr = lr / 10\n",
    "    end\n",
    "    if epoch == 40 then\n",
    "        lr = lr / 10\n",
    "    end\n",
    "    for batch_count = 1, train_set:size() / batchsize do        \n",
    "        inputImgInputBatch:zero()\n",
    "        inputVectorInputBatch:zero()\n",
    "        for batch_count_idx = 1, batchsize do\n",
    "            i = (batch_count - 1) * batchsize + batch_count_idx\n",
    "            inputImgInput = train_set[i][1]:view(32, 32):cuda()\n",
    "            inputVectorInput = train_set[i][2]:cuda()\n",
    "            inputVectorInputBatch[batch_count_idx] = inputVectorInput\n",
    "            inputImgInputBatch[batch_count_idx] = inputImgInput\n",
    "        end    \n",
    "        \n",
    "        realPredBatch = D:forward({inputImgInputBatch, inputVectorInputBatch})\n",
    "        real_target = 1\n",
    "        D_backward = torch.zeros(batchsize, 2):cuda()\n",
    "        \n",
    "        D_real_loss_total = 0\n",
    "        for batch_count_idx = 1, batchsize do\n",
    "            D_real_loss = criterion:forward(realPredBatch[batch_count_idx], real_target)            \n",
    "            D_real_loss_total = D_real_loss_total + D_real_loss\n",
    "            \n",
    "            D_criterion = criterion:backward(realPredBatch[batch_count_idx], real_target)            \n",
    "           \n",
    "            D_backward[batch_count_idx] = D_criterion                        \n",
    "        end\n",
    "                \n",
    "        D_real_loss_total = D_real_loss_total / batchsize\n",
    "        D:zeroGradParameters()\n",
    "        D:backward({inputImgInputBatch, inputVectorInputBatch}, D_backward)\n",
    "        \n",
    "        D_gradParameters:div(batchsize)\n",
    "        -- D_gradParameters:clamp(-gradclip, gradclip)\n",
    "\n",
    "        D_gradParametersReal = D_gradParameters:clone()\n",
    "        \n",
    "            \n",
    "        -- fake image\n",
    "        inputVectorInputBatchRand:zero()\n",
    "        for i = 1, batchsize do\n",
    "            inputVectorInputBatchRand[i][torch.random(1,10)] = 1\n",
    "        end\n",
    "        noiseBatch = torch.randn(batchsize, 100):cuda()\n",
    "        fakeImgBatch = G:forward({noiseBatch, inputVectorInputBatchRand})    \n",
    "            \n",
    "        fakePredBatch = D:forward({fakeImgBatch, inputVectorInputBatchRand})\n",
    "\n",
    "        fake_target = 2\n",
    "        D_backward = torch.zeros(batchsize, 2):cuda()\n",
    "        D_fake_loss_total = 0\n",
    "        for batch_count_idx = 1, batchsize do\n",
    "            D_fake_loss = criterion:forward(fakePredBatch[batch_count_idx], fake_target)\n",
    "            D_fake_loss_total = D_fake_loss_total + D_fake_loss\n",
    "            D_criterion = criterion:backward(fakePredBatch[batch_count_idx], fake_target)\n",
    "            D_backward[{{batch_count_idx}, {}}] = D_criterion:clone()\n",
    "        end\n",
    "        D_fake_loss_total = D_fake_loss_total / batchsize\n",
    "        D:zeroGradParameters()\n",
    "        fakeImgPrime = D:backward({fakeImgBatch, inputVectorInputBatchRand}, D_backward)\n",
    "        \n",
    "        \n",
    "        D_gradParameters:div(batchsize)\n",
    "        -- D_gradParameters:clamp(-gradclip, gradclip)\n",
    "        \n",
    "        D_gradParameters:add(D_gradParametersReal)\n",
    "        \n",
    "        -- update D parameters\n",
    "        if (D_fake_loss_total + D_real_loss_total) / 2 > 0.0 then\n",
    "            D_m:mul(beta1):add(torch.mul(D_gradParameters, 1-beta1))\n",
    "            D_v:mul(beta2):add(torch.mul(torch.pow(D_gradParameters, 2), 1-beta2))\n",
    "\n",
    "            -- correct m and v\n",
    "            D_mt:copy(torch.div(D_m, 1-math.pow(beta1, counter)))\n",
    "            D_vt:copy(torch.div(D_v, 1-math.pow(beta2, counter)))\n",
    "\n",
    "            D_vt:sqrt():add(eps)\n",
    "            D_mt:mul(-1*lr)\n",
    "            D_parameters:add(D_mt:cdiv(D_vt))\n",
    "        end\n",
    "        \n",
    "        \n",
    "        -- generator\n",
    "        inputVectorInputBatchRand:zero()\n",
    "        for i = 1, batchsize do\n",
    "            inputVectorInputBatchRand[i][torch.random(1,10)] = 1\n",
    "        end\n",
    "        noiseBatch = torch.randn(batchsize, 100):cuda()\n",
    "        fakeImgBatch = G:forward({noiseBatch, inputVectorInputBatchRand})    \n",
    "            \n",
    "        fakePredBatch = D:forward({fakeImgBatch, inputVectorInputBatchRand})\n",
    "\n",
    "        D_backward = torch.zeros(batchsize, 2):cuda()\n",
    "\n",
    "        G_loss_total = 0\n",
    "        for batch_count_idx = 1, batchsize do\n",
    "            G_loss = criterion:forward(fakePredBatch[batch_count_idx], real_target)\n",
    "            G_loss_total = G_loss_total + G_loss\n",
    "            D_criterion = criterion:backward(fakePredBatch[batch_count_idx], real_target)\n",
    "            D_backward[{{batch_count_idx}, {}}] = D_criterion:clone()\n",
    "        end\n",
    "        G_loss_total = G_loss_total / batchsize\n",
    "        D:zeroGradParameters()\n",
    "        fakeImgPrime = D:backward({fakeImgBatch, inputVectorInputBatchRand}, D_backward)                                        \n",
    "        \n",
    "        G:zeroGradParameters()\n",
    "        G:backward({noiseBatch, inputVectorInputBatchRand}, fakeImgPrime[1])\n",
    "        G_gradParameters:div(batchsize)\n",
    "        -- G_gradParameters:clamp(-gradclip, gradclip)\n",
    "        \n",
    "        G_m:mul(beta1):add(torch.mul(G_gradParameters, 1-beta1))\n",
    "        G_v:mul(beta2):add(torch.mul(torch.pow(G_gradParameters, 2), 1-beta2))\n",
    "\n",
    "        -- correct m and v\n",
    "        G_mt:copy(torch.div(G_m, 1-math.pow(beta1, counter)))\n",
    "        G_vt:copy(torch.div(G_v, 1-math.pow(beta2, counter)))\n",
    "\n",
    "        G_vt:sqrt():add(eps)\n",
    "        G_mt:mul(-1*lr)\n",
    "        G_parameters:add(G_mt:cdiv(G_vt))\n",
    "        \n",
    "        \n",
    "--         D_gradParameters:div(batchsize)\n",
    "--         GD_m:mul(beta1):add(torch.mul(D_gradParameters, 1-beta1))\n",
    "--         GD_v:mul(beta2):add(torch.mul(torch.pow(D_gradParameters, 2), 1-beta2))\n",
    "\n",
    "--         -- correct m and v\n",
    "--         GD_mt:copy(torch.div(GD_m, 1-math.pow(beta1, counter)))\n",
    "--         GD_vt:copy(torch.div(GD_v, 1-math.pow(beta2, counter)))\n",
    "\n",
    "--         GD_vt:sqrt():add(eps)\n",
    "--         GD_mt:mul(-1*lr)\n",
    "--         D_parameters:add(GD_mt:cdiv(GD_vt))\n",
    "\n",
    "\n",
    "        \n",
    "        -- G:updateParameters(lr)\n",
    " \n",
    "        counter = counter + 1        \n",
    "        if counter % 100 == 0 then            \n",
    "            table.insert(counter_tb, counter)\n",
    "            table.insert(D_fake_loss_tb, D_fake_loss_total)\n",
    "            table.insert(D_real_loss_tb, D_real_loss_total)\n",
    "            table.insert(G_loss_tb, G_loss_total)\n",
    "            table.insert(D_loss_tb, D_fake_loss_total + D_real_loss_total)\n",
    "            local res = G:forward({fixedNoise, fixedLabelVector}) + 0.5\n",
    "            itorch.image(res)\n",
    "            print(string.format(\"D real loss: %0.03f, D fake loss: %0.03f,  G loss: %0.03f\",\n",
    "                    D_real_loss_total, D_fake_loss_total, G_loss_total))\n",
    "        end\n",
    "    end\n",
    "end"
   ]
  },
  {
   "cell_type": "code",
   "execution_count": 12,
   "metadata": {
    "collapsed": false,
    "deletable": true,
    "editable": true
   },
   "outputs": [
    {
     "data": {
      "text/plain": [
       "46\t\n",
       "46\t\n"
      ]
     },
     "execution_count": 12,
     "metadata": {},
     "output_type": "execute_result"
    }
   ],
   "source": [
    "print(#counter_tb)\n",
    "print(#D_fake_loss_tb)"
   ]
  },
  {
   "cell_type": "code",
   "execution_count": 13,
   "metadata": {
    "collapsed": false,
    "deletable": true,
    "editable": true
   },
   "outputs": [
    {
     "data": {
      "text/html": [
       "<script type=\"text/javascript\">\n",
       "$(function() {\n",
       "    if (typeof (window._bokeh_onload_callbacks) === \"undefined\"){\n",
       "  window._bokeh_onload_callbacks = [];\n",
       "    }\n",
       "    function load_lib(url, callback){\n",
       "  window._bokeh_onload_callbacks.push(callback);\n",
       "  if (window._bokeh_is_loading){\n",
       "      console.log(\"Bokeh: BokehJS is being loaded, scheduling callback at\", new Date());\n",
       "      return null;\n",
       "  }\n",
       "  console.log(\"Bokeh: BokehJS not loaded, scheduling load and callback at\", new Date());\n",
       "  window._bokeh_is_loading = true;\n",
       "  var s = document.createElement('script');\n",
       "  s.src = url;\n",
       "  s.async = true;\n",
       "  s.onreadystatechange = s.onload = function(){\n",
       "      Bokeh.embed.inject_css(\"https://cdn.pydata.org/bokeh-0.7.0.min.css\");\n",
       "      window._bokeh_onload_callbacks.forEach(function(callback){callback()});\n",
       "  };\n",
       "  s.onerror = function(){\n",
       "      console.warn(\"failed to load library \" + url);\n",
       "  };\n",
       "  document.getElementsByTagName(\"head\")[0].appendChild(s);\n",
       "    }\n",
       "\n",
       "    bokehjs_url = \"https://cdn.pydata.org/bokeh-0.7.0.min.js\"\n",
       "\n",
       "    var elt = document.getElementById(\"77eec186-0054-431c-c372-a14b085461d5\");\n",
       "    if(elt==null) {\n",
       "  console.log(\"Bokeh: ERROR: autoload.js configured with elementid '77eec186-0054-431c-c372-a14b085461d5'\"\n",
       "        + \"but no matching script tag was found. \")\n",
       "  return false;\n",
       "    }\n",
       "\n",
       "    if(typeof(Bokeh) !== \"undefined\") {\n",
       "  console.log(\"Bokeh: BokehJS loaded, going straight to plotting\");\n",
       "  var modelid = \"49639db4-a51b-49a2-c935-bff03b70d736\";\n",
       "  var modeltype = \"Plot\";\n",
       "  var all_models = [{\"id\":\"ae0cac3b-e2e6-4604-c6ee-599419a12508\",\"type\":\"ColumnDataSource\",\"attributes\":{\"data\":{\"y\":[1.0884552227799,1.0585395544767,0.98531141248532,0.96216256963089,0.99103799299337,0.92917917226441,0.86686492990702,0.89520555722993,0.83448592899367,0.98009047424421,0.93941937573254,0.771261255024,0.56039399653673,1.0557110526133,0.8446851472836,1.0241889622994,0.77650242345408,0.67637063818984,0.84161080163904,0.83506770036183,0.76257061748765,0.77759716846049,0.74101849808358,0.68208897684235,1.0460797413252,0.85117715294473,0.78152927639894,1.1438189593609,0.70235908846371,0.71373103407677,0.88172472966835,0.84517939924262,0.89209788409062,0.90353202261031,1.0540958627826,1.0374130229466,1.0429325974546,0.56604795716703,0.80782522144727,0.72441325651016,0.72704469086602,0.74241743469611,0.51927920221351,0.74954965221696,0.55499895242974,1.0778030212969],\"x\":[100,200,300,400,500,600,700,800,900,1000,1100,1200,1300,1400,1500,1600,1700,1800,1900,2000,2100,2200,2300,2400,2500,2600,2700,2800,2900,3000,3100,3200,3300,3400,3500,3600,3700,3800,3900,4000,4100,4200,4300,4400,4500,4600]},\"column_names\":[\"y\",\"x\"],\"cont_ranges\":{},\"discrete_ranges\":{},\"selected\":[],\"id\":\"ae0cac3b-e2e6-4604-c6ee-599419a12508\",\"doc\":null,\"tags\":[]}},{\"id\":\"68582311-abde-4789-c715-78a4d0c0d2cc\",\"type\":\"Line\",\"attributes\":{\"fill_alpha\":{\"units\":\"data\",\"value\":0.2},\"line_alpha\":{\"units\":\"data\",\"value\":1},\"doc\":null,\"size\":{\"units\":\"screen\",\"value\":10},\"fill_color\":{\"value\":\"blue\"},\"line_color\":{\"value\":\"blue\"},\"x\":{\"units\":\"data\",\"field\":\"x\"},\"id\":\"68582311-abde-4789-c715-78a4d0c0d2cc\",\"y\":{\"units\":\"data\",\"field\":\"y\"},\"tags\":[]}},{\"id\":\"54fb40ed-43a2-470e-c73d-0ef9f3665fbd\",\"type\":\"Line\",\"attributes\":{\"fill_alpha\":{\"units\":\"data\",\"value\":0.2},\"line_alpha\":{\"units\":\"data\",\"value\":1},\"doc\":null,\"size\":{\"units\":\"screen\",\"value\":10},\"fill_color\":{\"value\":\"blue\"},\"line_color\":{\"value\":\"blue\"},\"x\":{\"units\":\"data\",\"field\":\"x\"},\"id\":\"54fb40ed-43a2-470e-c73d-0ef9f3665fbd\",\"y\":{\"units\":\"data\",\"field\":\"y\"},\"tags\":[]}},{\"id\":\"238a02b3-e1bd-462f-c61c-130de7b273f2\",\"type\":\"GlyphRenderer\",\"attributes\":{\"name\":null,\"nonselection_glyph\":{\"type\":\"Line\",\"id\":\"54fb40ed-43a2-470e-c73d-0ef9f3665fbd\"},\"doc\":null,\"server_data_source\":null,\"data_source\":{\"type\":\"ColumnDataSource\",\"id\":\"ae0cac3b-e2e6-4604-c6ee-599419a12508\"},\"glyph\":{\"type\":\"Line\",\"id\":\"68582311-abde-4789-c715-78a4d0c0d2cc\"},\"selection_glyph\":null,\"id\":\"238a02b3-e1bd-462f-c61c-130de7b273f2\",\"tags\":[]}},{\"id\":\"1f4bd097-4ffe-4fdd-cf4e-0f2c2a6b99f4\",\"type\":\"ColumnDataSource\",\"attributes\":{\"data\":{\"y\":[0.55133096803911,0.53780740289949,0.46174695040099,0.48604354821146,0.55049454444088,0.58304936531931,0.51230852305889,0.30628379678819,0.31127370265312,0.7096299380064,0.60788957495242,0.26467312988825,0.35532618523575,0.76572941173799,0.30115146818571,0.71303681284189,0.3871550289914,0.34882959537208,0.61719031678513,0.25803450681269,0.26414389722049,0.18817118997686,0.3082748320885,0.30845748411957,0.23663532477804,0.24604745977558,0.50594024104066,0.19522031210363,0.53801693930291,0.26852531929035,0.29633345198818,0.25706386589445,0.63012439664453,0.69600322283804,0.87274149758741,0.45157726481557,0.50905841798522,0.23470412986353,0.16275971825235,0.24412516213488,0.23801781400107,0.3383318381384,0.18694351101294,0.38501500966959,0.30829134746455,0.86725959531032],\"x\":[100,200,300,400,500,600,700,800,900,1000,1100,1200,1300,1400,1500,1600,1700,1800,1900,2000,2100,2200,2300,2400,2500,2600,2700,2800,2900,3000,3100,3200,3300,3400,3500,3600,3700,3800,3900,4000,4100,4200,4300,4400,4500,4600]},\"column_names\":[\"y\",\"x\"],\"cont_ranges\":{},\"discrete_ranges\":{},\"selected\":[],\"id\":\"1f4bd097-4ffe-4fdd-cf4e-0f2c2a6b99f4\",\"doc\":null,\"tags\":[]}},{\"id\":\"1f07709c-9180-46ad-c656-0a5c28549279\",\"type\":\"Line\",\"attributes\":{\"fill_alpha\":{\"units\":\"data\",\"value\":0.2},\"line_alpha\":{\"units\":\"data\",\"value\":1},\"doc\":null,\"size\":{\"units\":\"screen\",\"value\":10},\"fill_color\":{\"value\":\"green\"},\"line_color\":{\"value\":\"green\"},\"x\":{\"units\":\"data\",\"field\":\"x\"},\"id\":\"1f07709c-9180-46ad-c656-0a5c28549279\",\"y\":{\"units\":\"data\",\"field\":\"y\"},\"tags\":[]}},{\"id\":\"c9ad566e-7db4-47e1-c7e4-45f268caa4b7\",\"type\":\"Line\",\"attributes\":{\"fill_alpha\":{\"units\":\"data\",\"value\":0.2},\"line_alpha\":{\"units\":\"data\",\"value\":1},\"doc\":null,\"size\":{\"units\":\"screen\",\"value\":10},\"fill_color\":{\"value\":\"green\"},\"line_color\":{\"value\":\"green\"},\"x\":{\"units\":\"data\",\"field\":\"x\"},\"id\":\"c9ad566e-7db4-47e1-c7e4-45f268caa4b7\",\"y\":{\"units\":\"data\",\"field\":\"y\"},\"tags\":[]}},{\"id\":\"726d9651-26a7-4dbc-cde2-0196622ddb44\",\"type\":\"GlyphRenderer\",\"attributes\":{\"name\":null,\"nonselection_glyph\":{\"type\":\"Line\",\"id\":\"c9ad566e-7db4-47e1-c7e4-45f268caa4b7\"},\"doc\":null,\"server_data_source\":null,\"data_source\":{\"type\":\"ColumnDataSource\",\"id\":\"1f4bd097-4ffe-4fdd-cf4e-0f2c2a6b99f4\"},\"glyph\":{\"type\":\"Line\",\"id\":\"1f07709c-9180-46ad-c656-0a5c28549279\"},\"selection_glyph\":null,\"id\":\"726d9651-26a7-4dbc-cde2-0196622ddb44\",\"tags\":[]}},{\"id\":\"86917684-608d-4f6b-cff3-146a5c5197c7\",\"type\":\"ColumnDataSource\",\"attributes\":{\"data\":{\"y\":[0.53712425474077,0.52073215157725,0.52356446208432,0.47611902141944,0.44054344855249,0.3461298069451,0.35455640684813,0.58892176044174,0.52321222634055,0.27046053623781,0.33152980078012,0.50658812513575,0.20506781130098,0.28998164087534,0.54353367909789,0.31115214945748,0.38934739446267,0.32754104281776,0.22442048485391,0.57703319354914,0.49842672026716,0.58942597848363,0.43274366599508,0.37363149272278,0.80944441654719,0.60512969316915,0.27558903535828,0.94859864725731,0.1643421491608,0.44520571478643,0.58539127768017,0.58811553334817,0.26197348744608,0.20752879977226,0.18135436519515,0.585835758131,0.53387417946942,0.3313438273035,0.64506550319493,0.48028809437528,0.48902687686495,0.40408559655771,0.33233569120057,0.36453464254737,0.2467076049652,0.21054342598654],\"x\":[100,200,300,400,500,600,700,800,900,1000,1100,1200,1300,1400,1500,1600,1700,1800,1900,2000,2100,2200,2300,2400,2500,2600,2700,2800,2900,3000,3100,3200,3300,3400,3500,3600,3700,3800,3900,4000,4100,4200,4300,4400,4500,4600]},\"column_names\":[\"y\",\"x\"],\"cont_ranges\":{},\"discrete_ranges\":{},\"selected\":[],\"id\":\"86917684-608d-4f6b-cff3-146a5c5197c7\",\"doc\":null,\"tags\":[]}},{\"id\":\"c63eef67-c46d-48fa-c885-6d2dba752924\",\"type\":\"Line\",\"attributes\":{\"fill_alpha\":{\"units\":\"data\",\"value\":0.2},\"line_alpha\":{\"units\":\"data\",\"value\":1},\"doc\":null,\"size\":{\"units\":\"screen\",\"value\":10},\"fill_color\":{\"value\":\"black\"},\"line_color\":{\"value\":\"black\"},\"x\":{\"units\":\"data\",\"field\":\"x\"},\"id\":\"c63eef67-c46d-48fa-c885-6d2dba752924\",\"y\":{\"units\":\"data\",\"field\":\"y\"},\"tags\":[]}},{\"id\":\"fa53e8bb-63ea-4b35-cbbb-060d9521a3d0\",\"type\":\"Line\",\"attributes\":{\"fill_alpha\":{\"units\":\"data\",\"value\":0.2},\"line_alpha\":{\"units\":\"data\",\"value\":1},\"doc\":null,\"size\":{\"units\":\"screen\",\"value\":10},\"fill_color\":{\"value\":\"black\"},\"line_color\":{\"value\":\"black\"},\"x\":{\"units\":\"data\",\"field\":\"x\"},\"id\":\"fa53e8bb-63ea-4b35-cbbb-060d9521a3d0\",\"y\":{\"units\":\"data\",\"field\":\"y\"},\"tags\":[]}},{\"id\":\"26b910f7-7142-4da8-cdf7-b9d847846dc8\",\"type\":\"GlyphRenderer\",\"attributes\":{\"name\":null,\"nonselection_glyph\":{\"type\":\"Line\",\"id\":\"fa53e8bb-63ea-4b35-cbbb-060d9521a3d0\"},\"doc\":null,\"server_data_source\":null,\"data_source\":{\"type\":\"ColumnDataSource\",\"id\":\"86917684-608d-4f6b-cff3-146a5c5197c7\"},\"glyph\":{\"type\":\"Line\",\"id\":\"c63eef67-c46d-48fa-c885-6d2dba752924\"},\"selection_glyph\":null,\"id\":\"26b910f7-7142-4da8-cdf7-b9d847846dc8\",\"tags\":[]}},{\"id\":\"7e53a95b-08ef-4339-c32e-16902ef9f67f\",\"type\":\"ColumnDataSource\",\"attributes\":{\"data\":{\"y\":[0.98545631114393,1.0079961265437,1.005166600924,1.1964179482311,1.337186801713,1.4563178764656,1.5820274362341,1.227385871578,0.91509717167355,1.6869623740204,1.5917592803016,1.1193642742001,1.5562230139039,1.6581914070994,1.2436063261703,1.5561810941435,1.5373626220971,1.8949659401551,1.6710191415623,1.4751523048617,1.8746513440274,1.0408310191706,1.287559333723,1.2465549968183,1.396820156835,1.6928877960891,1.3658138858154,0.91310072806664,1.2378098932095,1.8551954748109,1.6524945073761,1.1249008141458,1.3955580401234,2.1126163415611,2.1832709414884,1.7057363509666,1.7539339512587,1.5490987938829,1.3321041231975,0.79780121543445,1.1862439888064,1.525452059228,2.1639448488131,1.241815478541,1.3964105723426,2.5093434667215],\"x\":[100,200,300,400,500,600,700,800,900,1000,1100,1200,1300,1400,1500,1600,1700,1800,1900,2000,2100,2200,2300,2400,2500,2600,2700,2800,2900,3000,3100,3200,3300,3400,3500,3600,3700,3800,3900,4000,4100,4200,4300,4400,4500,4600]},\"column_names\":[\"y\",\"x\"],\"cont_ranges\":{},\"discrete_ranges\":{},\"selected\":[],\"id\":\"7e53a95b-08ef-4339-c32e-16902ef9f67f\",\"doc\":null,\"tags\":[]}},{\"id\":\"7c1c3b2b-9737-4c82-cc53-e49f48d9a50e\",\"type\":\"Line\",\"attributes\":{\"fill_alpha\":{\"units\":\"data\",\"value\":0.2},\"line_alpha\":{\"units\":\"data\",\"value\":1},\"doc\":null,\"size\":{\"units\":\"screen\",\"value\":10},\"fill_color\":{\"value\":\"orange\"},\"line_color\":{\"value\":\"orange\"},\"x\":{\"units\":\"data\",\"field\":\"x\"},\"id\":\"7c1c3b2b-9737-4c82-cc53-e49f48d9a50e\",\"y\":{\"units\":\"data\",\"field\":\"y\"},\"tags\":[]}},{\"id\":\"9afa655f-a39a-4528-c531-0b258e1aed23\",\"type\":\"Line\",\"attributes\":{\"fill_alpha\":{\"units\":\"data\",\"value\":0.2},\"line_alpha\":{\"units\":\"data\",\"value\":1},\"doc\":null,\"size\":{\"units\":\"screen\",\"value\":10},\"fill_color\":{\"value\":\"orange\"},\"line_color\":{\"value\":\"orange\"},\"x\":{\"units\":\"data\",\"field\":\"x\"},\"id\":\"9afa655f-a39a-4528-c531-0b258e1aed23\",\"y\":{\"units\":\"data\",\"field\":\"y\"},\"tags\":[]}},{\"id\":\"d0d4b845-1e1d-4bba-cbfe-d0a02a0f6a0b\",\"type\":\"GlyphRenderer\",\"attributes\":{\"name\":null,\"nonselection_glyph\":{\"type\":\"Line\",\"id\":\"9afa655f-a39a-4528-c531-0b258e1aed23\"},\"doc\":null,\"server_data_source\":null,\"data_source\":{\"type\":\"ColumnDataSource\",\"id\":\"7e53a95b-08ef-4339-c32e-16902ef9f67f\"},\"glyph\":{\"type\":\"Line\",\"id\":\"7c1c3b2b-9737-4c82-cc53-e49f48d9a50e\"},\"selection_glyph\":null,\"id\":\"d0d4b845-1e1d-4bba-cbfe-d0a02a0f6a0b\",\"tags\":[]}},{\"id\":\"b3fb7d0d-10e3-4e01-ce5f-102b01eb5a09\",\"type\":\"DataRange1d\",\"attributes\":{\"sources\":[{\"columns\":[\"x\"],\"source\":{\"type\":\"ColumnDataSource\",\"id\":\"ae0cac3b-e2e6-4604-c6ee-599419a12508\"}},{\"columns\":[\"x\"],\"source\":{\"type\":\"ColumnDataSource\",\"id\":\"1f4bd097-4ffe-4fdd-cf4e-0f2c2a6b99f4\"}},{\"columns\":[\"x\"],\"source\":{\"type\":\"ColumnDataSource\",\"id\":\"86917684-608d-4f6b-cff3-146a5c5197c7\"}},{\"columns\":[\"x\"],\"source\":{\"type\":\"ColumnDataSource\",\"id\":\"7e53a95b-08ef-4339-c32e-16902ef9f67f\"}}],\"id\":\"b3fb7d0d-10e3-4e01-ce5f-102b01eb5a09\",\"tags\":[],\"doc\":null}},{\"id\":\"170864b3-51c1-48bb-c8b5-822ee5016f7f\",\"type\":\"DataRange1d\",\"attributes\":{\"sources\":[{\"columns\":[\"y\"],\"source\":{\"type\":\"ColumnDataSource\",\"id\":\"ae0cac3b-e2e6-4604-c6ee-599419a12508\"}},{\"columns\":[\"y\"],\"source\":{\"type\":\"ColumnDataSource\",\"id\":\"1f4bd097-4ffe-4fdd-cf4e-0f2c2a6b99f4\"}},{\"columns\":[\"y\"],\"source\":{\"type\":\"ColumnDataSource\",\"id\":\"86917684-608d-4f6b-cff3-146a5c5197c7\"}},{\"columns\":[\"y\"],\"source\":{\"type\":\"ColumnDataSource\",\"id\":\"7e53a95b-08ef-4339-c32e-16902ef9f67f\"}}],\"id\":\"170864b3-51c1-48bb-c8b5-822ee5016f7f\",\"tags\":[],\"doc\":null}},{\"id\":\"4687fd86-8de1-480a-c815-083767da76ca\",\"type\":\"ToolEvents\",\"attributes\":{\"tags\":[],\"id\":\"4687fd86-8de1-480a-c815-083767da76ca\",\"geometries\":[],\"doc\":null}},{\"id\":\"f4cb1888-616c-45a0-c59e-109620a30fc8\",\"type\":\"BasicTickFormatter\",\"attributes\":{\"id\":\"f4cb1888-616c-45a0-c59e-109620a30fc8\",\"tags\":[],\"doc\":null}},{\"id\":\"3dd3c44c-19a3-495b-c93f-c480dbfd62f0\",\"type\":\"BasicTicker\",\"attributes\":{\"num_minor_ticks\":5,\"id\":\"3dd3c44c-19a3-495b-c93f-c480dbfd62f0\",\"tags\":[],\"doc\":null}},{\"id\":\"aa79834e-62fe-4931-c97a-215505fb245f\",\"type\":\"LinearAxis\",\"attributes\":{\"formatter\":{\"type\":\"BasicTickFormatter\",\"id\":\"f4cb1888-616c-45a0-c59e-109620a30fc8\"},\"ticker\":{\"type\":\"BasicTicker\",\"id\":\"3dd3c44c-19a3-495b-c93f-c480dbfd62f0\"},\"plot\":{\"id\":\"49639db4-a51b-49a2-c935-bff03b70d736\",\"type\":\"Plot\",\"subtype\":\"Figure\"},\"axis_label\":null,\"id\":\"aa79834e-62fe-4931-c97a-215505fb245f\",\"doc\":null,\"tags\":[]}},{\"id\":\"305b746c-3634-4deb-cd6a-06ee12c7e68c\",\"type\":\"Grid\",\"attributes\":{\"dimension\":0,\"plot\":{\"id\":\"49639db4-a51b-49a2-c935-bff03b70d736\",\"type\":\"Plot\",\"subtype\":\"Figure\"},\"ticker\":{\"type\":\"BasicTicker\",\"id\":\"3dd3c44c-19a3-495b-c93f-c480dbfd62f0\"},\"id\":\"305b746c-3634-4deb-cd6a-06ee12c7e68c\",\"doc\":null,\"tags\":[]}},{\"id\":\"0e95a6a2-8d86-410c-c12b-7da8a7372f42\",\"type\":\"BasicTickFormatter\",\"attributes\":{\"id\":\"0e95a6a2-8d86-410c-c12b-7da8a7372f42\",\"tags\":[],\"doc\":null}},{\"id\":\"646beeb2-f4a7-41fc-c111-cf6af0eff6d8\",\"type\":\"BasicTicker\",\"attributes\":{\"num_minor_ticks\":5,\"id\":\"646beeb2-f4a7-41fc-c111-cf6af0eff6d8\",\"tags\":[],\"doc\":null}},{\"id\":\"4f4d10f5-e388-4b9b-cbf9-c9449d93716f\",\"type\":\"LinearAxis\",\"attributes\":{\"formatter\":{\"type\":\"BasicTickFormatter\",\"id\":\"0e95a6a2-8d86-410c-c12b-7da8a7372f42\"},\"ticker\":{\"type\":\"BasicTicker\",\"id\":\"646beeb2-f4a7-41fc-c111-cf6af0eff6d8\"},\"plot\":{\"id\":\"49639db4-a51b-49a2-c935-bff03b70d736\",\"type\":\"Plot\",\"subtype\":\"Figure\"},\"axis_label\":null,\"id\":\"4f4d10f5-e388-4b9b-cbf9-c9449d93716f\",\"doc\":null,\"tags\":[]}},{\"id\":\"640a6289-e4fe-4237-c22a-04d575afa26a\",\"type\":\"Grid\",\"attributes\":{\"dimension\":1,\"plot\":{\"id\":\"49639db4-a51b-49a2-c935-bff03b70d736\",\"type\":\"Plot\",\"subtype\":\"Figure\"},\"ticker\":{\"type\":\"BasicTicker\",\"id\":\"646beeb2-f4a7-41fc-c111-cf6af0eff6d8\"},\"id\":\"640a6289-e4fe-4237-c22a-04d575afa26a\",\"doc\":null,\"tags\":[]}},{\"id\":\"23a6007e-c94b-4abe-ca14-4511e4e7105c\",\"type\":\"PanTool\",\"attributes\":{\"plot\":{\"id\":\"49639db4-a51b-49a2-c935-bff03b70d736\",\"type\":\"Plot\",\"subtype\":\"Figure\"},\"dimensions\":[\"width\",\"height\"],\"id\":\"23a6007e-c94b-4abe-ca14-4511e4e7105c\",\"doc\":null,\"tags\":[]}},{\"id\":\"6df259df-00d6-4c1d-cc95-9a45b54cc3c1\",\"type\":\"WheelZoomTool\",\"attributes\":{\"plot\":{\"id\":\"49639db4-a51b-49a2-c935-bff03b70d736\",\"type\":\"Plot\",\"subtype\":\"Figure\"},\"dimensions\":[\"width\",\"height\"],\"id\":\"6df259df-00d6-4c1d-cc95-9a45b54cc3c1\",\"doc\":null,\"tags\":[]}},{\"id\":\"859ec279-368f-4bd5-cbfe-edc6559df4c5\",\"type\":\"BoxZoomTool\",\"attributes\":{\"plot\":{\"id\":\"49639db4-a51b-49a2-c935-bff03b70d736\",\"type\":\"Plot\",\"subtype\":\"Figure\"},\"id\":\"859ec279-368f-4bd5-cbfe-edc6559df4c5\",\"tags\":[],\"doc\":null}},{\"id\":\"3efc495f-e3c2-448d-c46e-43fafc3c538e\",\"type\":\"PreviewSaveTool\",\"attributes\":{\"plot\":{\"id\":\"49639db4-a51b-49a2-c935-bff03b70d736\",\"type\":\"Plot\",\"subtype\":\"Figure\"},\"id\":\"3efc495f-e3c2-448d-c46e-43fafc3c538e\",\"tags\":[],\"doc\":null}},{\"id\":\"a2845367-8bc9-4a0d-cab4-c2a59b2b0972\",\"type\":\"ResizeTool\",\"attributes\":{\"plot\":{\"id\":\"49639db4-a51b-49a2-c935-bff03b70d736\",\"type\":\"Plot\",\"subtype\":\"Figure\"},\"id\":\"a2845367-8bc9-4a0d-cab4-c2a59b2b0972\",\"tags\":[],\"doc\":null}},{\"id\":\"a04ed1b4-3c62-4b65-cbb4-c3d180329b66\",\"type\":\"ResetTool\",\"attributes\":{\"plot\":{\"id\":\"49639db4-a51b-49a2-c935-bff03b70d736\",\"type\":\"Plot\",\"subtype\":\"Figure\"},\"id\":\"a04ed1b4-3c62-4b65-cbb4-c3d180329b66\",\"tags\":[],\"doc\":null}},{\"id\":\"49639db4-a51b-49a2-c935-bff03b70d736\",\"type\":\"Plot\",\"attributes\":{\"x_range\":{\"type\":\"DataRange1d\",\"id\":\"b3fb7d0d-10e3-4e01-ce5f-102b01eb5a09\"},\"tool_events\":{\"type\":\"ToolEvents\",\"id\":\"4687fd86-8de1-480a-c815-083767da76ca\"},\"below\":[{\"type\":\"LinearAxis\",\"id\":\"aa79834e-62fe-4931-c97a-215505fb245f\"}],\"renderers\":[{\"type\":\"GlyphRenderer\",\"id\":\"238a02b3-e1bd-462f-c61c-130de7b273f2\"},{\"type\":\"GlyphRenderer\",\"id\":\"726d9651-26a7-4dbc-cde2-0196622ddb44\"},{\"type\":\"GlyphRenderer\",\"id\":\"26b910f7-7142-4da8-cdf7-b9d847846dc8\"},{\"type\":\"GlyphRenderer\",\"id\":\"d0d4b845-1e1d-4bba-cbfe-d0a02a0f6a0b\"},{\"type\":\"LinearAxis\",\"id\":\"aa79834e-62fe-4931-c97a-215505fb245f\"},{\"type\":\"Grid\",\"id\":\"305b746c-3634-4deb-cd6a-06ee12c7e68c\"},{\"type\":\"LinearAxis\",\"id\":\"4f4d10f5-e388-4b9b-cbf9-c9449d93716f\"},{\"type\":\"Grid\",\"id\":\"640a6289-e4fe-4237-c22a-04d575afa26a\"}],\"above\":[],\"tools\":[{\"type\":\"PanTool\",\"id\":\"23a6007e-c94b-4abe-ca14-4511e4e7105c\"},{\"type\":\"WheelZoomTool\",\"id\":\"6df259df-00d6-4c1d-cc95-9a45b54cc3c1\"},{\"type\":\"BoxZoomTool\",\"id\":\"859ec279-368f-4bd5-cbfe-edc6559df4c5\"},{\"type\":\"PreviewSaveTool\",\"id\":\"3efc495f-e3c2-448d-c46e-43fafc3c538e\"},{\"type\":\"ResizeTool\",\"id\":\"a2845367-8bc9-4a0d-cab4-c2a59b2b0972\"},{\"type\":\"ResetTool\",\"id\":\"a04ed1b4-3c62-4b65-cbb4-c3d180329b66\"}],\"doc\":null,\"right\":[],\"title\":\"gan training loss plot\",\"extra_x_ranges\":{},\"left\":[{\"type\":\"LinearAxis\",\"id\":\"4f4d10f5-e388-4b9b-cbf9-c9449d93716f\"}],\"y_range\":{\"type\":\"DataRange1d\",\"id\":\"170864b3-51c1-48bb-c8b5-822ee5016f7f\"},\"id\":\"49639db4-a51b-49a2-c935-bff03b70d736\",\"extra_y_ranges\":{},\"tags\":[]}}];\n",
       "  Bokeh.load_models(all_models);\n",
       "  var model = Bokeh.Collections(modeltype).get(modelid);\n",
       "  $(\"#77eec186-0054-431c-c372-a14b085461d5\").html(''); // clear any previous plot in window_id\n",
       "  var view = new model.default_view({model: model, el: \"#77eec186-0054-431c-c372-a14b085461d5\"});\n",
       "    } else {\n",
       "  load_lib(bokehjs_url, function() {\n",
       "      console.log(\"Bokeh: BokehJS plotting callback run at\", new Date())\n",
       "      var modelid = \"49639db4-a51b-49a2-c935-bff03b70d736\";\n",
       "      var modeltype = \"Plot\";\n",
       "      var all_models = [{\"id\":\"ae0cac3b-e2e6-4604-c6ee-599419a12508\",\"type\":\"ColumnDataSource\",\"attributes\":{\"data\":{\"y\":[1.0884552227799,1.0585395544767,0.98531141248532,0.96216256963089,0.99103799299337,0.92917917226441,0.86686492990702,0.89520555722993,0.83448592899367,0.98009047424421,0.93941937573254,0.771261255024,0.56039399653673,1.0557110526133,0.8446851472836,1.0241889622994,0.77650242345408,0.67637063818984,0.84161080163904,0.83506770036183,0.76257061748765,0.77759716846049,0.74101849808358,0.68208897684235,1.0460797413252,0.85117715294473,0.78152927639894,1.1438189593609,0.70235908846371,0.71373103407677,0.88172472966835,0.84517939924262,0.89209788409062,0.90353202261031,1.0540958627826,1.0374130229466,1.0429325974546,0.56604795716703,0.80782522144727,0.72441325651016,0.72704469086602,0.74241743469611,0.51927920221351,0.74954965221696,0.55499895242974,1.0778030212969],\"x\":[100,200,300,400,500,600,700,800,900,1000,1100,1200,1300,1400,1500,1600,1700,1800,1900,2000,2100,2200,2300,2400,2500,2600,2700,2800,2900,3000,3100,3200,3300,3400,3500,3600,3700,3800,3900,4000,4100,4200,4300,4400,4500,4600]},\"column_names\":[\"y\",\"x\"],\"cont_ranges\":{},\"discrete_ranges\":{},\"selected\":[],\"id\":\"ae0cac3b-e2e6-4604-c6ee-599419a12508\",\"doc\":null,\"tags\":[]}},{\"id\":\"68582311-abde-4789-c715-78a4d0c0d2cc\",\"type\":\"Line\",\"attributes\":{\"fill_alpha\":{\"units\":\"data\",\"value\":0.2},\"line_alpha\":{\"units\":\"data\",\"value\":1},\"doc\":null,\"size\":{\"units\":\"screen\",\"value\":10},\"fill_color\":{\"value\":\"blue\"},\"line_color\":{\"value\":\"blue\"},\"x\":{\"units\":\"data\",\"field\":\"x\"},\"id\":\"68582311-abde-4789-c715-78a4d0c0d2cc\",\"y\":{\"units\":\"data\",\"field\":\"y\"},\"tags\":[]}},{\"id\":\"54fb40ed-43a2-470e-c73d-0ef9f3665fbd\",\"type\":\"Line\",\"attributes\":{\"fill_alpha\":{\"units\":\"data\",\"value\":0.2},\"line_alpha\":{\"units\":\"data\",\"value\":1},\"doc\":null,\"size\":{\"units\":\"screen\",\"value\":10},\"fill_color\":{\"value\":\"blue\"},\"line_color\":{\"value\":\"blue\"},\"x\":{\"units\":\"data\",\"field\":\"x\"},\"id\":\"54fb40ed-43a2-470e-c73d-0ef9f3665fbd\",\"y\":{\"units\":\"data\",\"field\":\"y\"},\"tags\":[]}},{\"id\":\"238a02b3-e1bd-462f-c61c-130de7b273f2\",\"type\":\"GlyphRenderer\",\"attributes\":{\"name\":null,\"nonselection_glyph\":{\"type\":\"Line\",\"id\":\"54fb40ed-43a2-470e-c73d-0ef9f3665fbd\"},\"doc\":null,\"server_data_source\":null,\"data_source\":{\"type\":\"ColumnDataSource\",\"id\":\"ae0cac3b-e2e6-4604-c6ee-599419a12508\"},\"glyph\":{\"type\":\"Line\",\"id\":\"68582311-abde-4789-c715-78a4d0c0d2cc\"},\"selection_glyph\":null,\"id\":\"238a02b3-e1bd-462f-c61c-130de7b273f2\",\"tags\":[]}},{\"id\":\"1f4bd097-4ffe-4fdd-cf4e-0f2c2a6b99f4\",\"type\":\"ColumnDataSource\",\"attributes\":{\"data\":{\"y\":[0.55133096803911,0.53780740289949,0.46174695040099,0.48604354821146,0.55049454444088,0.58304936531931,0.51230852305889,0.30628379678819,0.31127370265312,0.7096299380064,0.60788957495242,0.26467312988825,0.35532618523575,0.76572941173799,0.30115146818571,0.71303681284189,0.3871550289914,0.34882959537208,0.61719031678513,0.25803450681269,0.26414389722049,0.18817118997686,0.3082748320885,0.30845748411957,0.23663532477804,0.24604745977558,0.50594024104066,0.19522031210363,0.53801693930291,0.26852531929035,0.29633345198818,0.25706386589445,0.63012439664453,0.69600322283804,0.87274149758741,0.45157726481557,0.50905841798522,0.23470412986353,0.16275971825235,0.24412516213488,0.23801781400107,0.3383318381384,0.18694351101294,0.38501500966959,0.30829134746455,0.86725959531032],\"x\":[100,200,300,400,500,600,700,800,900,1000,1100,1200,1300,1400,1500,1600,1700,1800,1900,2000,2100,2200,2300,2400,2500,2600,2700,2800,2900,3000,3100,3200,3300,3400,3500,3600,3700,3800,3900,4000,4100,4200,4300,4400,4500,4600]},\"column_names\":[\"y\",\"x\"],\"cont_ranges\":{},\"discrete_ranges\":{},\"selected\":[],\"id\":\"1f4bd097-4ffe-4fdd-cf4e-0f2c2a6b99f4\",\"doc\":null,\"tags\":[]}},{\"id\":\"1f07709c-9180-46ad-c656-0a5c28549279\",\"type\":\"Line\",\"attributes\":{\"fill_alpha\":{\"units\":\"data\",\"value\":0.2},\"line_alpha\":{\"units\":\"data\",\"value\":1},\"doc\":null,\"size\":{\"units\":\"screen\",\"value\":10},\"fill_color\":{\"value\":\"green\"},\"line_color\":{\"value\":\"green\"},\"x\":{\"units\":\"data\",\"field\":\"x\"},\"id\":\"1f07709c-9180-46ad-c656-0a5c28549279\",\"y\":{\"units\":\"data\",\"field\":\"y\"},\"tags\":[]}},{\"id\":\"c9ad566e-7db4-47e1-c7e4-45f268caa4b7\",\"type\":\"Line\",\"attributes\":{\"fill_alpha\":{\"units\":\"data\",\"value\":0.2},\"line_alpha\":{\"units\":\"data\",\"value\":1},\"doc\":null,\"size\":{\"units\":\"screen\",\"value\":10},\"fill_color\":{\"value\":\"green\"},\"line_color\":{\"value\":\"green\"},\"x\":{\"units\":\"data\",\"field\":\"x\"},\"id\":\"c9ad566e-7db4-47e1-c7e4-45f268caa4b7\",\"y\":{\"units\":\"data\",\"field\":\"y\"},\"tags\":[]}},{\"id\":\"726d9651-26a7-4dbc-cde2-0196622ddb44\",\"type\":\"GlyphRenderer\",\"attributes\":{\"name\":null,\"nonselection_glyph\":{\"type\":\"Line\",\"id\":\"c9ad566e-7db4-47e1-c7e4-45f268caa4b7\"},\"doc\":null,\"server_data_source\":null,\"data_source\":{\"type\":\"ColumnDataSource\",\"id\":\"1f4bd097-4ffe-4fdd-cf4e-0f2c2a6b99f4\"},\"glyph\":{\"type\":\"Line\",\"id\":\"1f07709c-9180-46ad-c656-0a5c28549279\"},\"selection_glyph\":null,\"id\":\"726d9651-26a7-4dbc-cde2-0196622ddb44\",\"tags\":[]}},{\"id\":\"86917684-608d-4f6b-cff3-146a5c5197c7\",\"type\":\"ColumnDataSource\",\"attributes\":{\"data\":{\"y\":[0.53712425474077,0.52073215157725,0.52356446208432,0.47611902141944,0.44054344855249,0.3461298069451,0.35455640684813,0.58892176044174,0.52321222634055,0.27046053623781,0.33152980078012,0.50658812513575,0.20506781130098,0.28998164087534,0.54353367909789,0.31115214945748,0.38934739446267,0.32754104281776,0.22442048485391,0.57703319354914,0.49842672026716,0.58942597848363,0.43274366599508,0.37363149272278,0.80944441654719,0.60512969316915,0.27558903535828,0.94859864725731,0.1643421491608,0.44520571478643,0.58539127768017,0.58811553334817,0.26197348744608,0.20752879977226,0.18135436519515,0.585835758131,0.53387417946942,0.3313438273035,0.64506550319493,0.48028809437528,0.48902687686495,0.40408559655771,0.33233569120057,0.36453464254737,0.2467076049652,0.21054342598654],\"x\":[100,200,300,400,500,600,700,800,900,1000,1100,1200,1300,1400,1500,1600,1700,1800,1900,2000,2100,2200,2300,2400,2500,2600,2700,2800,2900,3000,3100,3200,3300,3400,3500,3600,3700,3800,3900,4000,4100,4200,4300,4400,4500,4600]},\"column_names\":[\"y\",\"x\"],\"cont_ranges\":{},\"discrete_ranges\":{},\"selected\":[],\"id\":\"86917684-608d-4f6b-cff3-146a5c5197c7\",\"doc\":null,\"tags\":[]}},{\"id\":\"c63eef67-c46d-48fa-c885-6d2dba752924\",\"type\":\"Line\",\"attributes\":{\"fill_alpha\":{\"units\":\"data\",\"value\":0.2},\"line_alpha\":{\"units\":\"data\",\"value\":1},\"doc\":null,\"size\":{\"units\":\"screen\",\"value\":10},\"fill_color\":{\"value\":\"black\"},\"line_color\":{\"value\":\"black\"},\"x\":{\"units\":\"data\",\"field\":\"x\"},\"id\":\"c63eef67-c46d-48fa-c885-6d2dba752924\",\"y\":{\"units\":\"data\",\"field\":\"y\"},\"tags\":[]}},{\"id\":\"fa53e8bb-63ea-4b35-cbbb-060d9521a3d0\",\"type\":\"Line\",\"attributes\":{\"fill_alpha\":{\"units\":\"data\",\"value\":0.2},\"line_alpha\":{\"units\":\"data\",\"value\":1},\"doc\":null,\"size\":{\"units\":\"screen\",\"value\":10},\"fill_color\":{\"value\":\"black\"},\"line_color\":{\"value\":\"black\"},\"x\":{\"units\":\"data\",\"field\":\"x\"},\"id\":\"fa53e8bb-63ea-4b35-cbbb-060d9521a3d0\",\"y\":{\"units\":\"data\",\"field\":\"y\"},\"tags\":[]}},{\"id\":\"26b910f7-7142-4da8-cdf7-b9d847846dc8\",\"type\":\"GlyphRenderer\",\"attributes\":{\"name\":null,\"nonselection_glyph\":{\"type\":\"Line\",\"id\":\"fa53e8bb-63ea-4b35-cbbb-060d9521a3d0\"},\"doc\":null,\"server_data_source\":null,\"data_source\":{\"type\":\"ColumnDataSource\",\"id\":\"86917684-608d-4f6b-cff3-146a5c5197c7\"},\"glyph\":{\"type\":\"Line\",\"id\":\"c63eef67-c46d-48fa-c885-6d2dba752924\"},\"selection_glyph\":null,\"id\":\"26b910f7-7142-4da8-cdf7-b9d847846dc8\",\"tags\":[]}},{\"id\":\"7e53a95b-08ef-4339-c32e-16902ef9f67f\",\"type\":\"ColumnDataSource\",\"attributes\":{\"data\":{\"y\":[0.98545631114393,1.0079961265437,1.005166600924,1.1964179482311,1.337186801713,1.4563178764656,1.5820274362341,1.227385871578,0.91509717167355,1.6869623740204,1.5917592803016,1.1193642742001,1.5562230139039,1.6581914070994,1.2436063261703,1.5561810941435,1.5373626220971,1.8949659401551,1.6710191415623,1.4751523048617,1.8746513440274,1.0408310191706,1.287559333723,1.2465549968183,1.396820156835,1.6928877960891,1.3658138858154,0.91310072806664,1.2378098932095,1.8551954748109,1.6524945073761,1.1249008141458,1.3955580401234,2.1126163415611,2.1832709414884,1.7057363509666,1.7539339512587,1.5490987938829,1.3321041231975,0.79780121543445,1.1862439888064,1.525452059228,2.1639448488131,1.241815478541,1.3964105723426,2.5093434667215],\"x\":[100,200,300,400,500,600,700,800,900,1000,1100,1200,1300,1400,1500,1600,1700,1800,1900,2000,2100,2200,2300,2400,2500,2600,2700,2800,2900,3000,3100,3200,3300,3400,3500,3600,3700,3800,3900,4000,4100,4200,4300,4400,4500,4600]},\"column_names\":[\"y\",\"x\"],\"cont_ranges\":{},\"discrete_ranges\":{},\"selected\":[],\"id\":\"7e53a95b-08ef-4339-c32e-16902ef9f67f\",\"doc\":null,\"tags\":[]}},{\"id\":\"7c1c3b2b-9737-4c82-cc53-e49f48d9a50e\",\"type\":\"Line\",\"attributes\":{\"fill_alpha\":{\"units\":\"data\",\"value\":0.2},\"line_alpha\":{\"units\":\"data\",\"value\":1},\"doc\":null,\"size\":{\"units\":\"screen\",\"value\":10},\"fill_color\":{\"value\":\"orange\"},\"line_color\":{\"value\":\"orange\"},\"x\":{\"units\":\"data\",\"field\":\"x\"},\"id\":\"7c1c3b2b-9737-4c82-cc53-e49f48d9a50e\",\"y\":{\"units\":\"data\",\"field\":\"y\"},\"tags\":[]}},{\"id\":\"9afa655f-a39a-4528-c531-0b258e1aed23\",\"type\":\"Line\",\"attributes\":{\"fill_alpha\":{\"units\":\"data\",\"value\":0.2},\"line_alpha\":{\"units\":\"data\",\"value\":1},\"doc\":null,\"size\":{\"units\":\"screen\",\"value\":10},\"fill_color\":{\"value\":\"orange\"},\"line_color\":{\"value\":\"orange\"},\"x\":{\"units\":\"data\",\"field\":\"x\"},\"id\":\"9afa655f-a39a-4528-c531-0b258e1aed23\",\"y\":{\"units\":\"data\",\"field\":\"y\"},\"tags\":[]}},{\"id\":\"d0d4b845-1e1d-4bba-cbfe-d0a02a0f6a0b\",\"type\":\"GlyphRenderer\",\"attributes\":{\"name\":null,\"nonselection_glyph\":{\"type\":\"Line\",\"id\":\"9afa655f-a39a-4528-c531-0b258e1aed23\"},\"doc\":null,\"server_data_source\":null,\"data_source\":{\"type\":\"ColumnDataSource\",\"id\":\"7e53a95b-08ef-4339-c32e-16902ef9f67f\"},\"glyph\":{\"type\":\"Line\",\"id\":\"7c1c3b2b-9737-4c82-cc53-e49f48d9a50e\"},\"selection_glyph\":null,\"id\":\"d0d4b845-1e1d-4bba-cbfe-d0a02a0f6a0b\",\"tags\":[]}},{\"id\":\"b3fb7d0d-10e3-4e01-ce5f-102b01eb5a09\",\"type\":\"DataRange1d\",\"attributes\":{\"sources\":[{\"columns\":[\"x\"],\"source\":{\"type\":\"ColumnDataSource\",\"id\":\"ae0cac3b-e2e6-4604-c6ee-599419a12508\"}},{\"columns\":[\"x\"],\"source\":{\"type\":\"ColumnDataSource\",\"id\":\"1f4bd097-4ffe-4fdd-cf4e-0f2c2a6b99f4\"}},{\"columns\":[\"x\"],\"source\":{\"type\":\"ColumnDataSource\",\"id\":\"86917684-608d-4f6b-cff3-146a5c5197c7\"}},{\"columns\":[\"x\"],\"source\":{\"type\":\"ColumnDataSource\",\"id\":\"7e53a95b-08ef-4339-c32e-16902ef9f67f\"}}],\"id\":\"b3fb7d0d-10e3-4e01-ce5f-102b01eb5a09\",\"tags\":[],\"doc\":null}},{\"id\":\"170864b3-51c1-48bb-c8b5-822ee5016f7f\",\"type\":\"DataRange1d\",\"attributes\":{\"sources\":[{\"columns\":[\"y\"],\"source\":{\"type\":\"ColumnDataSource\",\"id\":\"ae0cac3b-e2e6-4604-c6ee-599419a12508\"}},{\"columns\":[\"y\"],\"source\":{\"type\":\"ColumnDataSource\",\"id\":\"1f4bd097-4ffe-4fdd-cf4e-0f2c2a6b99f4\"}},{\"columns\":[\"y\"],\"source\":{\"type\":\"ColumnDataSource\",\"id\":\"86917684-608d-4f6b-cff3-146a5c5197c7\"}},{\"columns\":[\"y\"],\"source\":{\"type\":\"ColumnDataSource\",\"id\":\"7e53a95b-08ef-4339-c32e-16902ef9f67f\"}}],\"id\":\"170864b3-51c1-48bb-c8b5-822ee5016f7f\",\"tags\":[],\"doc\":null}},{\"id\":\"4687fd86-8de1-480a-c815-083767da76ca\",\"type\":\"ToolEvents\",\"attributes\":{\"tags\":[],\"id\":\"4687fd86-8de1-480a-c815-083767da76ca\",\"geometries\":[],\"doc\":null}},{\"id\":\"f4cb1888-616c-45a0-c59e-109620a30fc8\",\"type\":\"BasicTickFormatter\",\"attributes\":{\"id\":\"f4cb1888-616c-45a0-c59e-109620a30fc8\",\"tags\":[],\"doc\":null}},{\"id\":\"3dd3c44c-19a3-495b-c93f-c480dbfd62f0\",\"type\":\"BasicTicker\",\"attributes\":{\"num_minor_ticks\":5,\"id\":\"3dd3c44c-19a3-495b-c93f-c480dbfd62f0\",\"tags\":[],\"doc\":null}},{\"id\":\"aa79834e-62fe-4931-c97a-215505fb245f\",\"type\":\"LinearAxis\",\"attributes\":{\"formatter\":{\"type\":\"BasicTickFormatter\",\"id\":\"f4cb1888-616c-45a0-c59e-109620a30fc8\"},\"ticker\":{\"type\":\"BasicTicker\",\"id\":\"3dd3c44c-19a3-495b-c93f-c480dbfd62f0\"},\"plot\":{\"id\":\"49639db4-a51b-49a2-c935-bff03b70d736\",\"type\":\"Plot\",\"subtype\":\"Figure\"},\"axis_label\":null,\"id\":\"aa79834e-62fe-4931-c97a-215505fb245f\",\"doc\":null,\"tags\":[]}},{\"id\":\"305b746c-3634-4deb-cd6a-06ee12c7e68c\",\"type\":\"Grid\",\"attributes\":{\"dimension\":0,\"plot\":{\"id\":\"49639db4-a51b-49a2-c935-bff03b70d736\",\"type\":\"Plot\",\"subtype\":\"Figure\"},\"ticker\":{\"type\":\"BasicTicker\",\"id\":\"3dd3c44c-19a3-495b-c93f-c480dbfd62f0\"},\"id\":\"305b746c-3634-4deb-cd6a-06ee12c7e68c\",\"doc\":null,\"tags\":[]}},{\"id\":\"0e95a6a2-8d86-410c-c12b-7da8a7372f42\",\"type\":\"BasicTickFormatter\",\"attributes\":{\"id\":\"0e95a6a2-8d86-410c-c12b-7da8a7372f42\",\"tags\":[],\"doc\":null}},{\"id\":\"646beeb2-f4a7-41fc-c111-cf6af0eff6d8\",\"type\":\"BasicTicker\",\"attributes\":{\"num_minor_ticks\":5,\"id\":\"646beeb2-f4a7-41fc-c111-cf6af0eff6d8\",\"tags\":[],\"doc\":null}},{\"id\":\"4f4d10f5-e388-4b9b-cbf9-c9449d93716f\",\"type\":\"LinearAxis\",\"attributes\":{\"formatter\":{\"type\":\"BasicTickFormatter\",\"id\":\"0e95a6a2-8d86-410c-c12b-7da8a7372f42\"},\"ticker\":{\"type\":\"BasicTicker\",\"id\":\"646beeb2-f4a7-41fc-c111-cf6af0eff6d8\"},\"plot\":{\"id\":\"49639db4-a51b-49a2-c935-bff03b70d736\",\"type\":\"Plot\",\"subtype\":\"Figure\"},\"axis_label\":null,\"id\":\"4f4d10f5-e388-4b9b-cbf9-c9449d93716f\",\"doc\":null,\"tags\":[]}},{\"id\":\"640a6289-e4fe-4237-c22a-04d575afa26a\",\"type\":\"Grid\",\"attributes\":{\"dimension\":1,\"plot\":{\"id\":\"49639db4-a51b-49a2-c935-bff03b70d736\",\"type\":\"Plot\",\"subtype\":\"Figure\"},\"ticker\":{\"type\":\"BasicTicker\",\"id\":\"646beeb2-f4a7-41fc-c111-cf6af0eff6d8\"},\"id\":\"640a6289-e4fe-4237-c22a-04d575afa26a\",\"doc\":null,\"tags\":[]}},{\"id\":\"23a6007e-c94b-4abe-ca14-4511e4e7105c\",\"type\":\"PanTool\",\"attributes\":{\"plot\":{\"id\":\"49639db4-a51b-49a2-c935-bff03b70d736\",\"type\":\"Plot\",\"subtype\":\"Figure\"},\"dimensions\":[\"width\",\"height\"],\"id\":\"23a6007e-c94b-4abe-ca14-4511e4e7105c\",\"doc\":null,\"tags\":[]}},{\"id\":\"6df259df-00d6-4c1d-cc95-9a45b54cc3c1\",\"type\":\"WheelZoomTool\",\"attributes\":{\"plot\":{\"id\":\"49639db4-a51b-49a2-c935-bff03b70d736\",\"type\":\"Plot\",\"subtype\":\"Figure\"},\"dimensions\":[\"width\",\"height\"],\"id\":\"6df259df-00d6-4c1d-cc95-9a45b54cc3c1\",\"doc\":null,\"tags\":[]}},{\"id\":\"859ec279-368f-4bd5-cbfe-edc6559df4c5\",\"type\":\"BoxZoomTool\",\"attributes\":{\"plot\":{\"id\":\"49639db4-a51b-49a2-c935-bff03b70d736\",\"type\":\"Plot\",\"subtype\":\"Figure\"},\"id\":\"859ec279-368f-4bd5-cbfe-edc6559df4c5\",\"tags\":[],\"doc\":null}},{\"id\":\"3efc495f-e3c2-448d-c46e-43fafc3c538e\",\"type\":\"PreviewSaveTool\",\"attributes\":{\"plot\":{\"id\":\"49639db4-a51b-49a2-c935-bff03b70d736\",\"type\":\"Plot\",\"subtype\":\"Figure\"},\"id\":\"3efc495f-e3c2-448d-c46e-43fafc3c538e\",\"tags\":[],\"doc\":null}},{\"id\":\"a2845367-8bc9-4a0d-cab4-c2a59b2b0972\",\"type\":\"ResizeTool\",\"attributes\":{\"plot\":{\"id\":\"49639db4-a51b-49a2-c935-bff03b70d736\",\"type\":\"Plot\",\"subtype\":\"Figure\"},\"id\":\"a2845367-8bc9-4a0d-cab4-c2a59b2b0972\",\"tags\":[],\"doc\":null}},{\"id\":\"a04ed1b4-3c62-4b65-cbb4-c3d180329b66\",\"type\":\"ResetTool\",\"attributes\":{\"plot\":{\"id\":\"49639db4-a51b-49a2-c935-bff03b70d736\",\"type\":\"Plot\",\"subtype\":\"Figure\"},\"id\":\"a04ed1b4-3c62-4b65-cbb4-c3d180329b66\",\"tags\":[],\"doc\":null}},{\"id\":\"49639db4-a51b-49a2-c935-bff03b70d736\",\"type\":\"Plot\",\"attributes\":{\"x_range\":{\"type\":\"DataRange1d\",\"id\":\"b3fb7d0d-10e3-4e01-ce5f-102b01eb5a09\"},\"tool_events\":{\"type\":\"ToolEvents\",\"id\":\"4687fd86-8de1-480a-c815-083767da76ca\"},\"below\":[{\"type\":\"LinearAxis\",\"id\":\"aa79834e-62fe-4931-c97a-215505fb245f\"}],\"renderers\":[{\"type\":\"GlyphRenderer\",\"id\":\"238a02b3-e1bd-462f-c61c-130de7b273f2\"},{\"type\":\"GlyphRenderer\",\"id\":\"726d9651-26a7-4dbc-cde2-0196622ddb44\"},{\"type\":\"GlyphRenderer\",\"id\":\"26b910f7-7142-4da8-cdf7-b9d847846dc8\"},{\"type\":\"GlyphRenderer\",\"id\":\"d0d4b845-1e1d-4bba-cbfe-d0a02a0f6a0b\"},{\"type\":\"LinearAxis\",\"id\":\"aa79834e-62fe-4931-c97a-215505fb245f\"},{\"type\":\"Grid\",\"id\":\"305b746c-3634-4deb-cd6a-06ee12c7e68c\"},{\"type\":\"LinearAxis\",\"id\":\"4f4d10f5-e388-4b9b-cbf9-c9449d93716f\"},{\"type\":\"Grid\",\"id\":\"640a6289-e4fe-4237-c22a-04d575afa26a\"}],\"above\":[],\"tools\":[{\"type\":\"PanTool\",\"id\":\"23a6007e-c94b-4abe-ca14-4511e4e7105c\"},{\"type\":\"WheelZoomTool\",\"id\":\"6df259df-00d6-4c1d-cc95-9a45b54cc3c1\"},{\"type\":\"BoxZoomTool\",\"id\":\"859ec279-368f-4bd5-cbfe-edc6559df4c5\"},{\"type\":\"PreviewSaveTool\",\"id\":\"3efc495f-e3c2-448d-c46e-43fafc3c538e\"},{\"type\":\"ResizeTool\",\"id\":\"a2845367-8bc9-4a0d-cab4-c2a59b2b0972\"},{\"type\":\"ResetTool\",\"id\":\"a04ed1b4-3c62-4b65-cbb4-c3d180329b66\"}],\"doc\":null,\"right\":[],\"title\":\"gan training loss plot\",\"extra_x_ranges\":{},\"left\":[{\"type\":\"LinearAxis\",\"id\":\"4f4d10f5-e388-4b9b-cbf9-c9449d93716f\"}],\"y_range\":{\"type\":\"DataRange1d\",\"id\":\"170864b3-51c1-48bb-c8b5-822ee5016f7f\"},\"id\":\"49639db4-a51b-49a2-c935-bff03b70d736\",\"extra_y_ranges\":{},\"tags\":[]}}];\n",
       "      Bokeh.load_models(all_models);\n",
       "      var model = Bokeh.Collections(modeltype).get(modelid);\n",
       "      $(\"#77eec186-0054-431c-c372-a14b085461d5\").html(''); // clear any previous plot in window_id\n",
       "      var view = new model.default_view({model: model, el: \"#77eec186-0054-431c-c372-a14b085461d5\"});\n",
       "  });\n",
       "    }\n",
       "});\n",
       "</script>\n",
       "<div class=\"plotdiv\" id=\"77eec186-0054-431c-c372-a14b085461d5\"></div>\n"
      ]
     },
     "metadata": {},
     "output_type": "display_data"
    }
   ],
   "source": [
    "plot = Plot():line(counter_tb, D_loss_tb, \"blue\", \"D loss\")\n",
    "plot:line(counter_tb, D_fake_loss_tb, \"green\", \"D fake loss\")\n",
    "plot:line(counter_tb, D_real_loss_tb, \"black\", \"D real loss\")\n",
    "plot:line(counter_tb, G_loss_tb, \"orange\", \"G loss\")\n",
    "plot:title(\"gan training loss plot\")\n",
    "plot:draw()\n",
    "plot:save(\"gan_training_loss_plot.html\")"
   ]
  },
  {
   "cell_type": "markdown",
   "metadata": {
    "deletable": true,
    "editable": true
   },
   "source": [
    "## debug part"
   ]
  },
  {
   "cell_type": "code",
   "execution_count": 14,
   "metadata": {
    "collapsed": false,
    "deletable": true,
    "editable": true
   },
   "outputs": [
    {
     "data": {
      "text/plain": [
       " 1  0  0  0  0  0  0  0  0  0\n",
       " 0  1  0  0  0  0  0  0  0  0\n",
       " 0  0  1  0  0  0  0  0  0  0\n",
       " 0  0  0  1  0  0  0  0  0  0\n",
       " 0  0  0  0  1  0  0  0  0  0\n",
       " 0  0  0  0  0  1  0  0  0  0\n",
       " 0  0  0  0  0  0  1  0  0  0\n",
       " 0  0  0  0  0  0  0  1  0  0\n",
       " 0  0  0  0  0  0  0  0  1  0\n",
       " 0  0  0  0  0  0  0  0  0  1\n",
       "[torch.CudaTensor of size 10x10]\n",
       "\n"
      ]
     },
     "execution_count": 14,
     "metadata": {},
     "output_type": "execute_result"
    },
    {
     "data": {
      "image/png": "[encoded data removed]",
      "text/plain": [
       "Console does not support images"
      ]
     },
     "metadata": {
      "image/png": {
       "height": 32,
       "width": 32
      }
     },
     "output_type": "display_data"
    },
    {
     "data": {
      "image/png": "[encoded data removed]",
      "text/plain": [
       "Console does not support images"
      ]
     },
     "metadata": {
      "image/png": {
       "height": 32,
       "width": 32
      }
     },
     "output_type": "display_data"
    },
    {
     "data": {
      "image/png": "[encoded data removed]",
      "text/plain": [
       "Console does not support images"
      ]
     },
     "metadata": {
      "image/png": {
       "height": 32,
       "width": 32
      }
     },
     "output_type": "display_data"
    },
    {
     "data": {
      "text/plain": [
       "\n"
      ]
     },
     "execution_count": 14,
     "metadata": {},
     "output_type": "execute_result"
    },
    {
     "data": {
      "image/png": "[encoded data removed]",
      "text/plain": [
       "Console does not support images"
      ]
     },
     "metadata": {
      "image/png": {
       "height": 68,
       "width": 204
      }
     },
     "output_type": "display_data"
    }
   ],
   "source": [
    "labelVector = torch.zeros(10, 10):cuda()\n",
    "            \n",
    "for m=1, 10 do\n",
    "    labelVector[{m, m}] = 1\n",
    "end\n",
    "print(labelVector)\n",
    "noise = torch.randn(10, 100):cuda()\n",
    "\n",
    "local res = G:forward({noise, labelVector}) + 0.5\n",
    "itorch.image(res[1])\n",
    "itorch.image(res[2])\n",
    "print(itorch.image(res[1] - res[2]))\n",
    "itorch.image(res)"
   ]
  },
  {
   "cell_type": "code",
   "execution_count": null,
   "metadata": {
    "collapsed": true,
    "deletable": true,
    "editable": true
   },
   "outputs": [],
   "source": []
  },
  {
   "cell_type": "code",
   "execution_count": null,
   "metadata": {
    "collapsed": true,
    "deletable": true,
    "editable": true
   },
   "outputs": [],
   "source": []
  }
 ],
 "metadata": {
  "kernelspec": {
   "display_name": "iTorch",
   "language": "lua",
   "name": "itorch"
  },
  "language_info": {
   "name": "lua",
   "version": "5.1"
  }
 },
 "nbformat": 4,
 "nbformat_minor": 2
}
