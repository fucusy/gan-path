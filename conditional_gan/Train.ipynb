{
 "cells": [
  {
   "cell_type": "code",
   "execution_count": 31,
   "metadata": {
    "collapsed": false,
    "deletable": true,
    "editable": true
   },
   "outputs": [],
   "source": [
    "require 'cutorch'\n",
    "require 'cunn'\n",
    "require 'nn';\n",
    "require 'model';\n",
    "require 'mnist_loader';\n",
    "Plot = require 'itorch.Plot';"
   ]
  },
  {
   "cell_type": "code",
   "execution_count": 32,
   "metadata": {
    "collapsed": true,
    "deletable": true,
    "editable": true
   },
   "outputs": [],
   "source": [
    "use_gpu = true\n",
    "\n",
    "cutorch.setDevice(2)\n",
    "\n",
    "if use_cuda then\n",
    "  Tensor = torch.CudaTensor\n",
    "else\n",
    "  Tensor = torch.Tensor\n",
    "end\n",
    "\n",
    "G, D = get_model()\n",
    "if use_gpu then\n",
    "    G = G:cuda()\n",
    "    D = D:cuda()\n",
    "end\n",
    "\n",
    "criterion = nn.ClassNLLCriterion()\n",
    "if use_gpu then\n",
    "    criterion = criterion:cuda()\n",
    "end"
   ]
  },
  {
   "cell_type": "code",
   "execution_count": 33,
   "metadata": {
    "collapsed": false,
    "deletable": true,
    "editable": true
   },
   "outputs": [
    {
     "data": {
      "text/plain": [
       "<mnist> done\t\n"
      ]
     },
     "execution_count": 33,
     "metadata": {},
     "output_type": "execute_result"
    }
   ],
   "source": [
    "train_set = mnist.loadTrainSet()"
   ]
  },
  {
   "cell_type": "code",
   "execution_count": 42,
   "metadata": {
    "collapsed": false,
    "deletable": true,
    "editable": true
   },
   "outputs": [
    {
     "data": {
      "image/png": "[encoded data removed]",
      "text/plain": [
       "Console does not support images"
      ]
     },
     "metadata": {
      "image/png": {
       "height": 32,
       "width": 32
      }
     },
     "output_type": "display_data"
    },
    {
     "data": {
      "text/plain": [
       "0\t\n"
      ]
     },
     "execution_count": 42,
     "metadata": {},
     "output_type": "execute_result"
    }
   ],
   "source": [
    "displayData = train_set[1][1]\n",
    "itorch.image(displayData)\n",
    "print(train_set[1][2][9])"
   ]
  },
  {
   "cell_type": "code",
   "execution_count": 35,
   "metadata": {
    "collapsed": false,
    "deletable": true,
    "editable": true
   },
   "outputs": [],
   "source": [
    "counter_tb = {}\n",
    "D_fake_loss_tb = {}\n",
    "D_real_loss_tb = {}\n",
    "G_loss_tb = {}"
   ]
  },
  {
   "cell_type": "code",
   "execution_count": 36,
   "metadata": {
    "collapsed": false,
    "deletable": true,
    "editable": true
   },
   "outputs": [],
   "source": [
    "fixed_noise = torch.randn(100)\n",
    "if use_gpu then\n",
    "    fixed_noise = fixed_noise:cuda()\n",
    "end"
   ]
  },
  {
   "cell_type": "code",
   "execution_count": 37,
   "metadata": {
    "collapsed": true,
    "deletable": true,
    "editable": true
   },
   "outputs": [],
   "source": [
    "counter = 0\n",
    "batchsize = 1\n",
    "epochsize = 1\n",
    "learningrate = 1e-1\n",
    "\n",
    "_, G_gradParameters = G:getParameters()\n",
    "_, D_gradParameters = D:getParameters()\n",
    "\n",
    "gradclip = 5"
   ]
  },
  {
   "cell_type": "code",
   "execution_count": 38,
   "metadata": {
    "collapsed": false,
    "deletable": true,
    "editable": true
   },
   "outputs": [
    {
     "data": {
      "image/png": "[encoded data removed]",
      "text/plain": [
       "Console does not support images"
      ]
     },
     "metadata": {
      "image/png": {
       "height": 68,
       "width": 204
      }
     },
     "output_type": "display_data"
    },
    {
     "data": {
      "image/png": "[encoded data removed]",
      "text/plain": [
       "Console does not support images"
      ]
     },
     "metadata": {
      "image/png": {
       "height": 68,
       "width": 204
      }
     },
     "output_type": "display_data"
    },
    {
     "data": {
      "image/png": "[encoded data removed]",
      "text/plain": [
       "Console does not support images"
      ]
     },
     "metadata": {
      "image/png": {
       "height": 68,
       "width": 204
      }
     },
     "output_type": "display_data"
    },
    {
     "data": {
      "image/png": "[encoded data removed]",
      "text/plain": [
       "Console does not support images"
      ]
     },
     "metadata": {
      "image/png": {
       "height": 68,
       "width": 204
      }
     },
     "output_type": "display_data"
    },
    {
     "data": {
      "image/png": "[encoded data removed]",
      "text/plain": [
       "Console does not support images"
      ]
     },
     "metadata": {
      "image/png": {
       "height": 68,
       "width": 204
      }
     },
     "output_type": "display_data"
    },
    {
     "data": {
      "image/png": "[encoded data removed]",
      "text/plain": [
       "Console does not support images"
      ]
     },
     "metadata": {
      "image/png": {
       "height": 68,
       "width": 204
      }
     },
     "output_type": "display_data"
    },
    {
     "data": {
      "image/png": "[encoded data removed]",
      "text/plain": [
       "Console does not support images"
      ]
     },
     "metadata": {
      "image/png": {
       "height": 68,
       "width": 204
      }
     },
     "output_type": "display_data"
    },
    {
     "data": {
      "image/png": "[encoded data removed]",
      "text/plain": [
       "Console does not support images"
      ]
     },
     "metadata": {
      "image/png": {
       "height": 68,
       "width": 204
      }
     },
     "output_type": "display_data"
    },
    {
     "data": {
      "image/png": "[encoded data removed]",
      "text/plain": [
       "Console does not support images"
      ]
     },
     "metadata": {
      "image/png": {
       "height": 68,
       "width": 204
      }
     },
     "output_type": "display_data"
    },
    {
     "data": {
      "image/png": "[encoded data removed]",
      "text/plain": [
       "Console does not support images"
      ]
     },
     "metadata": {
      "image/png": {
       "height": 68,
       "width": 204
      }
     },
     "output_type": "display_data"
    },
    {
     "data": {
      "image/png": "[encoded data removed]",
      "text/plain": [
       "Console does not support images"
      ]
     },
     "metadata": {
      "image/png": {
       "height": 68,
       "width": 204
      }
     },
     "output_type": "display_data"
    },
    {
     "data": {
      "image/png": "[encoded data removed]",
      "text/plain": [
       "Console does not support images"
      ]
     },
     "metadata": {
      "image/png": {
       "height": 68,
       "width": 204
      }
     },
     "output_type": "display_data"
    }
   ],
   "source": [
    "for epoch=1, epochsize do\n",
    "train_set:shuffle()\n",
    "for batch_count = 1, train_set:size() / batchsize do        \n",
    "    for batch_count_idx = 1, batchsize do\n",
    "        i = (batch_count - 1) * batchsize + batch_count_idx\n",
    "        inputImgInput = train_set[i][1]:view(32, 32):cuda()\n",
    "        inputVectorInput = train_set[i][2]:cuda()\n",
    "\n",
    "        -- update D\n",
    "\n",
    "        real_pred = D:forward({inputImgInput, inputVectorInput})\n",
    "        real_target = 1\n",
    "        local D_real_loss = criterion:forward(real_pred, real_target)\n",
    "\n",
    "        D:zeroGradParameters()\n",
    "        local t = criterion:backward(real_pred, real_target)\n",
    "        D:backward({inputImgInput, inputVectorInput}, t)\n",
    "        \n",
    "        D_gradParameters:clamp(-gradclip, gradclip)\n",
    "        D:updateParameters(learningrate)\n",
    "\n",
    "\n",
    "        -- fake image        \n",
    "        noise = torch.randn(100):cuda()\n",
    "        fake_img = G:forward({noise, inputVectorInput})\n",
    "        fake_pred = D:forward({fake_img, inputVectorInput})\n",
    "        fake_target = 2\n",
    "        local D_fake_loss = criterion:forward(fake_pred, fake_target)\n",
    "\n",
    "        D:zeroGradParameters()\n",
    "\n",
    "        local t = criterion:backward(fake_pred, fake_target)\n",
    "        local fake_img_prime = D:backward({fake_img, inputVectorInput}, t)\n",
    "            \n",
    "        D_gradParameters:clamp(-gradclip, gradclip)\n",
    "        D:updateParameters(learningrate)\n",
    "\n",
    "\n",
    "        -- for generator\n",
    "        G:zeroGradParameters()\n",
    "        G:backward({noise, inputVectorInput}, fake_img_prime[1])\n",
    "\n",
    "        -- add gradParameters\n",
    "        G_gradParameters:clamp(-gradclip, gradclip)\n",
    "        G:updateParameters(-1 * learningrate)\n",
    "\n",
    "        new_fake_img = G:forward({noise, inputVectorInput})\n",
    "        new_fake_pred = D:forward({new_fake_img, inputVectorInput})\n",
    "        local G_loss = criterion:forward(new_fake_pred, fake_target)\n",
    "\n",
    "        counter = counter + 1        \n",
    "        if counter % 5000 == 0 then\n",
    "            table.insert(counter_tb, counter)\n",
    "            table.insert(D_fake_loss_tb, D_fake_loss)\n",
    "            table.insert(D_real_loss_tb, D_real_loss)\n",
    "            table.insert(G_loss_tb, G_loss)\n",
    "                \n",
    "            res = torch.zeros(10, 32, 32)\n",
    "            labelVector = torch.zeros(10)\n",
    "            if use_gpu then\n",
    "                res = res:cuda()\n",
    "                labelVector = labelVector:cuda()\n",
    "            end\n",
    "            for m=1, 10 do  \n",
    "                noise = torch.randn(100):cuda()\n",
    "                labelVector:zero()\n",
    "                labelVector[m] = 1\n",
    "                local genImg = G:forward({noise, labelVector}) + 0.5\n",
    "                res[{m, {}, {}}] = genImg\n",
    "            end\n",
    "            itorch.image(res)\n",
    "        end\n",
    "    end\n",
    "end\n",
    "end"
   ]
  },
  {
   "cell_type": "code",
   "execution_count": 39,
   "metadata": {
    "collapsed": false,
    "deletable": true,
    "editable": true
   },
   "outputs": [],
   "source": [
    "print(#counter_tb)\n",
    "print(#D_fake_loss_tb)"
   ]
  },
  {
   "cell_type": "code",
   "execution_count": 40,
   "metadata": {
    "collapsed": false,
    "deletable": true,
    "editable": true
   },
   "outputs": [
    {
     "data": {
      "text/html": [
       "<script type=\"text/javascript\">\n",
       "$(function() {\n",
       "    if (typeof (window._bokeh_onload_callbacks) === \"undefined\"){\n",
       "  window._bokeh_onload_callbacks = [];\n",
       "    }\n",
       "    function load_lib(url, callback){\n",
       "  window._bokeh_onload_callbacks.push(callback);\n",
       "  if (window._bokeh_is_loading){\n",
       "      console.log(\"Bokeh: BokehJS is being loaded, scheduling callback at\", new Date());\n",
       "      return null;\n",
       "  }\n",
       "  console.log(\"Bokeh: BokehJS not loaded, scheduling load and callback at\", new Date());\n",
       "  window._bokeh_is_loading = true;\n",
       "  var s = document.createElement('script');\n",
       "  s.src = url;\n",
       "  s.async = true;\n",
       "  s.onreadystatechange = s.onload = function(){\n",
       "      Bokeh.embed.inject_css(\"https://cdn.pydata.org/bokeh-0.7.0.min.css\");\n",
       "      window._bokeh_onload_callbacks.forEach(function(callback){callback()});\n",
       "  };\n",
       "  s.onerror = function(){\n",
       "      console.warn(\"failed to load library \" + url);\n",
       "  };\n",
       "  document.getElementsByTagName(\"head\")[0].appendChild(s);\n",
       "    }\n",
       "\n",
       "    bokehjs_url = \"https://cdn.pydata.org/bokeh-0.7.0.min.js\"\n",
       "\n",
       "    var elt = document.getElementById(\"769f8b92-aaae-4d8b-cd41-83186b96a017\");\n",
       "    if(elt==null) {\n",
       "  console.log(\"Bokeh: ERROR: autoload.js configured with elementid '769f8b92-aaae-4d8b-cd41-83186b96a017'\"\n",
       "        + \"but no matching script tag was found. \")\n",
       "  return false;\n",
       "    }\n",
       "\n",
       "    if(typeof(Bokeh) !== \"undefined\") {\n",
       "  console.log(\"Bokeh: BokehJS loaded, going straight to plotting\");\n",
       "  var modelid = \"ef5c0764-4c29-4991-c9d8-67d85ff1521a\";\n",
       "  var modeltype = \"Plot\";\n",
       "  var all_models = [{\"id\":\"ea275b2e-9909-4451-c49f-df0639687bb4\",\"type\":\"ColumnDataSource\",\"attributes\":{\"data\":{\"y\":[0.00105881690979,0.19485771656036,0.11562967300415,0.026678681373596,0.0017585754394531,0.17542386054993,0.26051437854767,0.0023107528686523,0.0088367462158203,7.4863433837891e-05,0.0004730224609375,0.00077915191650391],\"x\":[5000,10000,15000,20000,25000,30000,35000,40000,45000,50000,55000,60000]},\"column_names\":[\"y\",\"x\"],\"cont_ranges\":{},\"discrete_ranges\":{},\"selected\":[],\"id\":\"ea275b2e-9909-4451-c49f-df0639687bb4\",\"doc\":null,\"tags\":[]}},{\"id\":\"29034ddd-63e0-468a-c6cc-67697f3c468b\",\"type\":\"Line\",\"attributes\":{\"fill_alpha\":{\"units\":\"data\",\"value\":0.2},\"line_alpha\":{\"units\":\"data\",\"value\":1},\"doc\":null,\"size\":{\"units\":\"screen\",\"value\":10},\"fill_color\":{\"value\":\"red\"},\"line_color\":{\"value\":\"red\"},\"x\":{\"units\":\"data\",\"field\":\"x\"},\"id\":\"29034ddd-63e0-468a-c6cc-67697f3c468b\",\"y\":{\"units\":\"data\",\"field\":\"y\"},\"tags\":[]}},{\"id\":\"6661186a-9192-4b79-cb21-95c7830940c0\",\"type\":\"Line\",\"attributes\":{\"fill_alpha\":{\"units\":\"data\",\"value\":0.2},\"line_alpha\":{\"units\":\"data\",\"value\":1},\"doc\":null,\"size\":{\"units\":\"screen\",\"value\":10},\"fill_color\":{\"value\":\"red\"},\"line_color\":{\"value\":\"red\"},\"x\":{\"units\":\"data\",\"field\":\"x\"},\"id\":\"6661186a-9192-4b79-cb21-95c7830940c0\",\"y\":{\"units\":\"data\",\"field\":\"y\"},\"tags\":[]}},{\"id\":\"f8fe99b5-2329-423c-c2f0-278d7a2685dd\",\"type\":\"GlyphRenderer\",\"attributes\":{\"name\":null,\"nonselection_glyph\":{\"type\":\"Line\",\"id\":\"6661186a-9192-4b79-cb21-95c7830940c0\"},\"doc\":null,\"server_data_source\":null,\"data_source\":{\"type\":\"ColumnDataSource\",\"id\":\"ea275b2e-9909-4451-c49f-df0639687bb4\"},\"glyph\":{\"type\":\"Line\",\"id\":\"29034ddd-63e0-468a-c6cc-67697f3c468b\"},\"selection_glyph\":null,\"id\":\"f8fe99b5-2329-423c-c2f0-278d7a2685dd\",\"tags\":[]}},{\"id\":\"5538e7b0-4a5d-4712-c727-44d4fc05c1cf\",\"type\":\"ColumnDataSource\",\"attributes\":{\"data\":{\"y\":[-0,-0,-0,-0,-0,-0,1.64053606987,-0,-0,-0,-0,-0],\"x\":[5000,10000,15000,20000,25000,30000,35000,40000,45000,50000,55000,60000]},\"column_names\":[\"y\",\"x\"],\"cont_ranges\":{},\"discrete_ranges\":{},\"selected\":[],\"id\":\"5538e7b0-4a5d-4712-c727-44d4fc05c1cf\",\"doc\":null,\"tags\":[]}},{\"id\":\"27467e06-74aa-4360-c3b8-25c960b15e36\",\"type\":\"Line\",\"attributes\":{\"fill_alpha\":{\"units\":\"data\",\"value\":0.2},\"line_alpha\":{\"units\":\"data\",\"value\":1},\"doc\":null,\"size\":{\"units\":\"screen\",\"value\":10},\"fill_color\":{\"value\":\"pink\"},\"line_color\":{\"value\":\"pink\"},\"x\":{\"units\":\"data\",\"field\":\"x\"},\"id\":\"27467e06-74aa-4360-c3b8-25c960b15e36\",\"y\":{\"units\":\"data\",\"field\":\"y\"},\"tags\":[]}},{\"id\":\"a63e1f15-dbb8-4045-c027-d2f8cdd8ee42\",\"type\":\"Line\",\"attributes\":{\"fill_alpha\":{\"units\":\"data\",\"value\":0.2},\"line_alpha\":{\"units\":\"data\",\"value\":1},\"doc\":null,\"size\":{\"units\":\"screen\",\"value\":10},\"fill_color\":{\"value\":\"pink\"},\"line_color\":{\"value\":\"pink\"},\"x\":{\"units\":\"data\",\"field\":\"x\"},\"id\":\"a63e1f15-dbb8-4045-c027-d2f8cdd8ee42\",\"y\":{\"units\":\"data\",\"field\":\"y\"},\"tags\":[]}},{\"id\":\"d454c5ca-6f39-4b80-cbc9-58b3348bc5ba\",\"type\":\"GlyphRenderer\",\"attributes\":{\"name\":null,\"nonselection_glyph\":{\"type\":\"Line\",\"id\":\"a63e1f15-dbb8-4045-c027-d2f8cdd8ee42\"},\"doc\":null,\"server_data_source\":null,\"data_source\":{\"type\":\"ColumnDataSource\",\"id\":\"5538e7b0-4a5d-4712-c727-44d4fc05c1cf\"},\"glyph\":{\"type\":\"Line\",\"id\":\"27467e06-74aa-4360-c3b8-25c960b15e36\"},\"selection_glyph\":null,\"id\":\"d454c5ca-6f39-4b80-cbc9-58b3348bc5ba\",\"tags\":[]}},{\"id\":\"b0ff996e-c4b2-4b31-cb0b-a55adff3635e\",\"type\":\"ColumnDataSource\",\"attributes\":{\"data\":{\"y\":[0.0010535717010498,0.17879807949066,0.10407245159149,0.026216149330139,0.0017399787902832,0.16954094171524,0.24653077125549,0.0022997856140137,0.0088062286376953,7.4863433837891e-05,0.0004725456237793,0.0007779598236084],\"x\":[5000,10000,15000,20000,25000,30000,35000,40000,45000,50000,55000,60000]},\"column_names\":[\"y\",\"x\"],\"cont_ranges\":{},\"discrete_ranges\":{},\"selected\":[],\"id\":\"b0ff996e-c4b2-4b31-cb0b-a55adff3635e\",\"doc\":null,\"tags\":[]}},{\"id\":\"05ab0802-0e4d-4af4-ca0b-69b865e2ca68\",\"type\":\"Line\",\"attributes\":{\"fill_alpha\":{\"units\":\"data\",\"value\":0.2},\"line_alpha\":{\"units\":\"data\",\"value\":1},\"doc\":null,\"size\":{\"units\":\"screen\",\"value\":10},\"fill_color\":{\"value\":\"blue\"},\"line_color\":{\"value\":\"blue\"},\"x\":{\"units\":\"data\",\"field\":\"x\"},\"id\":\"05ab0802-0e4d-4af4-ca0b-69b865e2ca68\",\"y\":{\"units\":\"data\",\"field\":\"y\"},\"tags\":[]}},{\"id\":\"22a0af10-dc51-48d6-c8af-c0428286a515\",\"type\":\"Line\",\"attributes\":{\"fill_alpha\":{\"units\":\"data\",\"value\":0.2},\"line_alpha\":{\"units\":\"data\",\"value\":1},\"doc\":null,\"size\":{\"units\":\"screen\",\"value\":10},\"fill_color\":{\"value\":\"blue\"},\"line_color\":{\"value\":\"blue\"},\"x\":{\"units\":\"data\",\"field\":\"x\"},\"id\":\"22a0af10-dc51-48d6-c8af-c0428286a515\",\"y\":{\"units\":\"data\",\"field\":\"y\"},\"tags\":[]}},{\"id\":\"dbe35bdd-f4f1-453e-c5f3-387a765229e8\",\"type\":\"GlyphRenderer\",\"attributes\":{\"name\":null,\"nonselection_glyph\":{\"type\":\"Line\",\"id\":\"22a0af10-dc51-48d6-c8af-c0428286a515\"},\"doc\":null,\"server_data_source\":null,\"data_source\":{\"type\":\"ColumnDataSource\",\"id\":\"b0ff996e-c4b2-4b31-cb0b-a55adff3635e\"},\"glyph\":{\"type\":\"Line\",\"id\":\"05ab0802-0e4d-4af4-ca0b-69b865e2ca68\"},\"selection_glyph\":null,\"id\":\"dbe35bdd-f4f1-453e-c5f3-387a765229e8\",\"tags\":[]}},{\"id\":\"7bbe68dd-c0ac-4601-c690-b6a17007e869\",\"type\":\"DataRange1d\",\"attributes\":{\"sources\":[{\"columns\":[\"x\"],\"source\":{\"type\":\"ColumnDataSource\",\"id\":\"ea275b2e-9909-4451-c49f-df0639687bb4\"}},{\"columns\":[\"x\"],\"source\":{\"type\":\"ColumnDataSource\",\"id\":\"5538e7b0-4a5d-4712-c727-44d4fc05c1cf\"}},{\"columns\":[\"x\"],\"source\":{\"type\":\"ColumnDataSource\",\"id\":\"b0ff996e-c4b2-4b31-cb0b-a55adff3635e\"}}],\"id\":\"7bbe68dd-c0ac-4601-c690-b6a17007e869\",\"tags\":[],\"doc\":null}},{\"id\":\"14fa8eac-f8f7-4366-c3e5-5f7646066f34\",\"type\":\"DataRange1d\",\"attributes\":{\"sources\":[{\"columns\":[\"y\"],\"source\":{\"type\":\"ColumnDataSource\",\"id\":\"ea275b2e-9909-4451-c49f-df0639687bb4\"}},{\"columns\":[\"y\"],\"source\":{\"type\":\"ColumnDataSource\",\"id\":\"5538e7b0-4a5d-4712-c727-44d4fc05c1cf\"}},{\"columns\":[\"y\"],\"source\":{\"type\":\"ColumnDataSource\",\"id\":\"b0ff996e-c4b2-4b31-cb0b-a55adff3635e\"}}],\"id\":\"14fa8eac-f8f7-4366-c3e5-5f7646066f34\",\"tags\":[],\"doc\":null}},{\"id\":\"042700f1-5140-4818-c8ef-4a59310a917a\",\"type\":\"ToolEvents\",\"attributes\":{\"tags\":[],\"id\":\"042700f1-5140-4818-c8ef-4a59310a917a\",\"geometries\":[],\"doc\":null}},{\"id\":\"12e6d30f-f429-4fcd-cf96-5bab9578bfcc\",\"type\":\"BasicTickFormatter\",\"attributes\":{\"id\":\"12e6d30f-f429-4fcd-cf96-5bab9578bfcc\",\"tags\":[],\"doc\":null}},{\"id\":\"8d023e15-7372-48e5-c830-3a7001776575\",\"type\":\"BasicTicker\",\"attributes\":{\"num_minor_ticks\":5,\"id\":\"8d023e15-7372-48e5-c830-3a7001776575\",\"tags\":[],\"doc\":null}},{\"id\":\"42c1fb1d-76cd-4619-c6c3-be5473d9c219\",\"type\":\"LinearAxis\",\"attributes\":{\"formatter\":{\"type\":\"BasicTickFormatter\",\"id\":\"12e6d30f-f429-4fcd-cf96-5bab9578bfcc\"},\"ticker\":{\"type\":\"BasicTicker\",\"id\":\"8d023e15-7372-48e5-c830-3a7001776575\"},\"plot\":{\"id\":\"ef5c0764-4c29-4991-c9d8-67d85ff1521a\",\"type\":\"Plot\",\"subtype\":\"Figure\"},\"axis_label\":null,\"id\":\"42c1fb1d-76cd-4619-c6c3-be5473d9c219\",\"doc\":null,\"tags\":[]}},{\"id\":\"1ce97f20-55b2-42f3-c27d-d8df55e6fe33\",\"type\":\"Grid\",\"attributes\":{\"dimension\":0,\"plot\":{\"id\":\"ef5c0764-4c29-4991-c9d8-67d85ff1521a\",\"type\":\"Plot\",\"subtype\":\"Figure\"},\"ticker\":{\"type\":\"BasicTicker\",\"id\":\"8d023e15-7372-48e5-c830-3a7001776575\"},\"id\":\"1ce97f20-55b2-42f3-c27d-d8df55e6fe33\",\"doc\":null,\"tags\":[]}},{\"id\":\"14a5a30c-4dfe-4108-c11d-c4fe72f427fb\",\"type\":\"BasicTickFormatter\",\"attributes\":{\"id\":\"14a5a30c-4dfe-4108-c11d-c4fe72f427fb\",\"tags\":[],\"doc\":null}},{\"id\":\"e59ebcbd-048b-4f35-cf35-b33d0e10ba2f\",\"type\":\"BasicTicker\",\"attributes\":{\"num_minor_ticks\":5,\"id\":\"e59ebcbd-048b-4f35-cf35-b33d0e10ba2f\",\"tags\":[],\"doc\":null}},{\"id\":\"e6d74480-15da-42c7-c2e2-f977a5907f7a\",\"type\":\"LinearAxis\",\"attributes\":{\"formatter\":{\"type\":\"BasicTickFormatter\",\"id\":\"14a5a30c-4dfe-4108-c11d-c4fe72f427fb\"},\"ticker\":{\"type\":\"BasicTicker\",\"id\":\"e59ebcbd-048b-4f35-cf35-b33d0e10ba2f\"},\"plot\":{\"id\":\"ef5c0764-4c29-4991-c9d8-67d85ff1521a\",\"type\":\"Plot\",\"subtype\":\"Figure\"},\"axis_label\":null,\"id\":\"e6d74480-15da-42c7-c2e2-f977a5907f7a\",\"doc\":null,\"tags\":[]}},{\"id\":\"dc3f086d-8493-4463-c446-bfa51d91ece3\",\"type\":\"Grid\",\"attributes\":{\"dimension\":1,\"plot\":{\"id\":\"ef5c0764-4c29-4991-c9d8-67d85ff1521a\",\"type\":\"Plot\",\"subtype\":\"Figure\"},\"ticker\":{\"type\":\"BasicTicker\",\"id\":\"e59ebcbd-048b-4f35-cf35-b33d0e10ba2f\"},\"id\":\"dc3f086d-8493-4463-c446-bfa51d91ece3\",\"doc\":null,\"tags\":[]}},{\"id\":\"4efe6906-7f6e-4b7a-cbb6-c9581ae09565\",\"type\":\"PanTool\",\"attributes\":{\"plot\":{\"id\":\"ef5c0764-4c29-4991-c9d8-67d85ff1521a\",\"type\":\"Plot\",\"subtype\":\"Figure\"},\"dimensions\":[\"width\",\"height\"],\"id\":\"4efe6906-7f6e-4b7a-cbb6-c9581ae09565\",\"doc\":null,\"tags\":[]}},{\"id\":\"b31786bf-6ee1-49e7-c97e-44a5707a150b\",\"type\":\"WheelZoomTool\",\"attributes\":{\"plot\":{\"id\":\"ef5c0764-4c29-4991-c9d8-67d85ff1521a\",\"type\":\"Plot\",\"subtype\":\"Figure\"},\"dimensions\":[\"width\",\"height\"],\"id\":\"b31786bf-6ee1-49e7-c97e-44a5707a150b\",\"doc\":null,\"tags\":[]}},{\"id\":\"d98a3ad8-b633-4d21-cdd0-efbbece20df6\",\"type\":\"BoxZoomTool\",\"attributes\":{\"plot\":{\"id\":\"ef5c0764-4c29-4991-c9d8-67d85ff1521a\",\"type\":\"Plot\",\"subtype\":\"Figure\"},\"id\":\"d98a3ad8-b633-4d21-cdd0-efbbece20df6\",\"tags\":[],\"doc\":null}},{\"id\":\"6489fd83-016d-405e-c085-2bd377825077\",\"type\":\"PreviewSaveTool\",\"attributes\":{\"plot\":{\"id\":\"ef5c0764-4c29-4991-c9d8-67d85ff1521a\",\"type\":\"Plot\",\"subtype\":\"Figure\"},\"id\":\"6489fd83-016d-405e-c085-2bd377825077\",\"tags\":[],\"doc\":null}},{\"id\":\"9922e825-0443-475d-c72f-8c762696bc10\",\"type\":\"ResizeTool\",\"attributes\":{\"plot\":{\"id\":\"ef5c0764-4c29-4991-c9d8-67d85ff1521a\",\"type\":\"Plot\",\"subtype\":\"Figure\"},\"id\":\"9922e825-0443-475d-c72f-8c762696bc10\",\"tags\":[],\"doc\":null}},{\"id\":\"84a6df1f-9e7e-46d3-c6f7-ab19c296731d\",\"type\":\"ResetTool\",\"attributes\":{\"plot\":{\"id\":\"ef5c0764-4c29-4991-c9d8-67d85ff1521a\",\"type\":\"Plot\",\"subtype\":\"Figure\"},\"id\":\"84a6df1f-9e7e-46d3-c6f7-ab19c296731d\",\"tags\":[],\"doc\":null}},{\"id\":\"ef5c0764-4c29-4991-c9d8-67d85ff1521a\",\"type\":\"Plot\",\"attributes\":{\"x_range\":{\"type\":\"DataRange1d\",\"id\":\"7bbe68dd-c0ac-4601-c690-b6a17007e869\"},\"tool_events\":{\"type\":\"ToolEvents\",\"id\":\"042700f1-5140-4818-c8ef-4a59310a917a\"},\"below\":[{\"type\":\"LinearAxis\",\"id\":\"42c1fb1d-76cd-4619-c6c3-be5473d9c219\"}],\"renderers\":[{\"type\":\"GlyphRenderer\",\"id\":\"f8fe99b5-2329-423c-c2f0-278d7a2685dd\"},{\"type\":\"GlyphRenderer\",\"id\":\"d454c5ca-6f39-4b80-cbc9-58b3348bc5ba\"},{\"type\":\"GlyphRenderer\",\"id\":\"dbe35bdd-f4f1-453e-c5f3-387a765229e8\"},{\"type\":\"LinearAxis\",\"id\":\"42c1fb1d-76cd-4619-c6c3-be5473d9c219\"},{\"type\":\"Grid\",\"id\":\"1ce97f20-55b2-42f3-c27d-d8df55e6fe33\"},{\"type\":\"LinearAxis\",\"id\":\"e6d74480-15da-42c7-c2e2-f977a5907f7a\"},{\"type\":\"Grid\",\"id\":\"dc3f086d-8493-4463-c446-bfa51d91ece3\"}],\"above\":[],\"tools\":[{\"type\":\"PanTool\",\"id\":\"4efe6906-7f6e-4b7a-cbb6-c9581ae09565\"},{\"type\":\"WheelZoomTool\",\"id\":\"b31786bf-6ee1-49e7-c97e-44a5707a150b\"},{\"type\":\"BoxZoomTool\",\"id\":\"d98a3ad8-b633-4d21-cdd0-efbbece20df6\"},{\"type\":\"PreviewSaveTool\",\"id\":\"6489fd83-016d-405e-c085-2bd377825077\"},{\"type\":\"ResizeTool\",\"id\":\"9922e825-0443-475d-c72f-8c762696bc10\"},{\"type\":\"ResetTool\",\"id\":\"84a6df1f-9e7e-46d3-c6f7-ab19c296731d\"}],\"doc\":null,\"right\":[],\"title\":\"Untitled Plot\",\"extra_x_ranges\":{},\"left\":[{\"type\":\"LinearAxis\",\"id\":\"e6d74480-15da-42c7-c2e2-f977a5907f7a\"}],\"y_range\":{\"type\":\"DataRange1d\",\"id\":\"14fa8eac-f8f7-4366-c3e5-5f7646066f34\"},\"id\":\"ef5c0764-4c29-4991-c9d8-67d85ff1521a\",\"extra_y_ranges\":{},\"tags\":[]}}];\n",
       "  Bokeh.load_models(all_models);\n",
       "  var model = Bokeh.Collections(modeltype).get(modelid);\n",
       "  $(\"#769f8b92-aaae-4d8b-cd41-83186b96a017\").html(''); // clear any previous plot in window_id\n",
       "  var view = new model.default_view({model: model, el: \"#769f8b92-aaae-4d8b-cd41-83186b96a017\"});\n",
       "    } else {\n",
       "  load_lib(bokehjs_url, function() {\n",
       "      console.log(\"Bokeh: BokehJS plotting callback run at\", new Date())\n",
       "      var modelid = \"ef5c0764-4c29-4991-c9d8-67d85ff1521a\";\n",
       "      var modeltype = \"Plot\";\n",
       "      var all_models = [{\"id\":\"ea275b2e-9909-4451-c49f-df0639687bb4\",\"type\":\"ColumnDataSource\",\"attributes\":{\"data\":{\"y\":[0.00105881690979,0.19485771656036,0.11562967300415,0.026678681373596,0.0017585754394531,0.17542386054993,0.26051437854767,0.0023107528686523,0.0088367462158203,7.4863433837891e-05,0.0004730224609375,0.00077915191650391],\"x\":[5000,10000,15000,20000,25000,30000,35000,40000,45000,50000,55000,60000]},\"column_names\":[\"y\",\"x\"],\"cont_ranges\":{},\"discrete_ranges\":{},\"selected\":[],\"id\":\"ea275b2e-9909-4451-c49f-df0639687bb4\",\"doc\":null,\"tags\":[]}},{\"id\":\"29034ddd-63e0-468a-c6cc-67697f3c468b\",\"type\":\"Line\",\"attributes\":{\"fill_alpha\":{\"units\":\"data\",\"value\":0.2},\"line_alpha\":{\"units\":\"data\",\"value\":1},\"doc\":null,\"size\":{\"units\":\"screen\",\"value\":10},\"fill_color\":{\"value\":\"red\"},\"line_color\":{\"value\":\"red\"},\"x\":{\"units\":\"data\",\"field\":\"x\"},\"id\":\"29034ddd-63e0-468a-c6cc-67697f3c468b\",\"y\":{\"units\":\"data\",\"field\":\"y\"},\"tags\":[]}},{\"id\":\"6661186a-9192-4b79-cb21-95c7830940c0\",\"type\":\"Line\",\"attributes\":{\"fill_alpha\":{\"units\":\"data\",\"value\":0.2},\"line_alpha\":{\"units\":\"data\",\"value\":1},\"doc\":null,\"size\":{\"units\":\"screen\",\"value\":10},\"fill_color\":{\"value\":\"red\"},\"line_color\":{\"value\":\"red\"},\"x\":{\"units\":\"data\",\"field\":\"x\"},\"id\":\"6661186a-9192-4b79-cb21-95c7830940c0\",\"y\":{\"units\":\"data\",\"field\":\"y\"},\"tags\":[]}},{\"id\":\"f8fe99b5-2329-423c-c2f0-278d7a2685dd\",\"type\":\"GlyphRenderer\",\"attributes\":{\"name\":null,\"nonselection_glyph\":{\"type\":\"Line\",\"id\":\"6661186a-9192-4b79-cb21-95c7830940c0\"},\"doc\":null,\"server_data_source\":null,\"data_source\":{\"type\":\"ColumnDataSource\",\"id\":\"ea275b2e-9909-4451-c49f-df0639687bb4\"},\"glyph\":{\"type\":\"Line\",\"id\":\"29034ddd-63e0-468a-c6cc-67697f3c468b\"},\"selection_glyph\":null,\"id\":\"f8fe99b5-2329-423c-c2f0-278d7a2685dd\",\"tags\":[]}},{\"id\":\"5538e7b0-4a5d-4712-c727-44d4fc05c1cf\",\"type\":\"ColumnDataSource\",\"attributes\":{\"data\":{\"y\":[-0,-0,-0,-0,-0,-0,1.64053606987,-0,-0,-0,-0,-0],\"x\":[5000,10000,15000,20000,25000,30000,35000,40000,45000,50000,55000,60000]},\"column_names\":[\"y\",\"x\"],\"cont_ranges\":{},\"discrete_ranges\":{},\"selected\":[],\"id\":\"5538e7b0-4a5d-4712-c727-44d4fc05c1cf\",\"doc\":null,\"tags\":[]}},{\"id\":\"27467e06-74aa-4360-c3b8-25c960b15e36\",\"type\":\"Line\",\"attributes\":{\"fill_alpha\":{\"units\":\"data\",\"value\":0.2},\"line_alpha\":{\"units\":\"data\",\"value\":1},\"doc\":null,\"size\":{\"units\":\"screen\",\"value\":10},\"fill_color\":{\"value\":\"pink\"},\"line_color\":{\"value\":\"pink\"},\"x\":{\"units\":\"data\",\"field\":\"x\"},\"id\":\"27467e06-74aa-4360-c3b8-25c960b15e36\",\"y\":{\"units\":\"data\",\"field\":\"y\"},\"tags\":[]}},{\"id\":\"a63e1f15-dbb8-4045-c027-d2f8cdd8ee42\",\"type\":\"Line\",\"attributes\":{\"fill_alpha\":{\"units\":\"data\",\"value\":0.2},\"line_alpha\":{\"units\":\"data\",\"value\":1},\"doc\":null,\"size\":{\"units\":\"screen\",\"value\":10},\"fill_color\":{\"value\":\"pink\"},\"line_color\":{\"value\":\"pink\"},\"x\":{\"units\":\"data\",\"field\":\"x\"},\"id\":\"a63e1f15-dbb8-4045-c027-d2f8cdd8ee42\",\"y\":{\"units\":\"data\",\"field\":\"y\"},\"tags\":[]}},{\"id\":\"d454c5ca-6f39-4b80-cbc9-58b3348bc5ba\",\"type\":\"GlyphRenderer\",\"attributes\":{\"name\":null,\"nonselection_glyph\":{\"type\":\"Line\",\"id\":\"a63e1f15-dbb8-4045-c027-d2f8cdd8ee42\"},\"doc\":null,\"server_data_source\":null,\"data_source\":{\"type\":\"ColumnDataSource\",\"id\":\"5538e7b0-4a5d-4712-c727-44d4fc05c1cf\"},\"glyph\":{\"type\":\"Line\",\"id\":\"27467e06-74aa-4360-c3b8-25c960b15e36\"},\"selection_glyph\":null,\"id\":\"d454c5ca-6f39-4b80-cbc9-58b3348bc5ba\",\"tags\":[]}},{\"id\":\"b0ff996e-c4b2-4b31-cb0b-a55adff3635e\",\"type\":\"ColumnDataSource\",\"attributes\":{\"data\":{\"y\":[0.0010535717010498,0.17879807949066,0.10407245159149,0.026216149330139,0.0017399787902832,0.16954094171524,0.24653077125549,0.0022997856140137,0.0088062286376953,7.4863433837891e-05,0.0004725456237793,0.0007779598236084],\"x\":[5000,10000,15000,20000,25000,30000,35000,40000,45000,50000,55000,60000]},\"column_names\":[\"y\",\"x\"],\"cont_ranges\":{},\"discrete_ranges\":{},\"selected\":[],\"id\":\"b0ff996e-c4b2-4b31-cb0b-a55adff3635e\",\"doc\":null,\"tags\":[]}},{\"id\":\"05ab0802-0e4d-4af4-ca0b-69b865e2ca68\",\"type\":\"Line\",\"attributes\":{\"fill_alpha\":{\"units\":\"data\",\"value\":0.2},\"line_alpha\":{\"units\":\"data\",\"value\":1},\"doc\":null,\"size\":{\"units\":\"screen\",\"value\":10},\"fill_color\":{\"value\":\"blue\"},\"line_color\":{\"value\":\"blue\"},\"x\":{\"units\":\"data\",\"field\":\"x\"},\"id\":\"05ab0802-0e4d-4af4-ca0b-69b865e2ca68\",\"y\":{\"units\":\"data\",\"field\":\"y\"},\"tags\":[]}},{\"id\":\"22a0af10-dc51-48d6-c8af-c0428286a515\",\"type\":\"Line\",\"attributes\":{\"fill_alpha\":{\"units\":\"data\",\"value\":0.2},\"line_alpha\":{\"units\":\"data\",\"value\":1},\"doc\":null,\"size\":{\"units\":\"screen\",\"value\":10},\"fill_color\":{\"value\":\"blue\"},\"line_color\":{\"value\":\"blue\"},\"x\":{\"units\":\"data\",\"field\":\"x\"},\"id\":\"22a0af10-dc51-48d6-c8af-c0428286a515\",\"y\":{\"units\":\"data\",\"field\":\"y\"},\"tags\":[]}},{\"id\":\"dbe35bdd-f4f1-453e-c5f3-387a765229e8\",\"type\":\"GlyphRenderer\",\"attributes\":{\"name\":null,\"nonselection_glyph\":{\"type\":\"Line\",\"id\":\"22a0af10-dc51-48d6-c8af-c0428286a515\"},\"doc\":null,\"server_data_source\":null,\"data_source\":{\"type\":\"ColumnDataSource\",\"id\":\"b0ff996e-c4b2-4b31-cb0b-a55adff3635e\"},\"glyph\":{\"type\":\"Line\",\"id\":\"05ab0802-0e4d-4af4-ca0b-69b865e2ca68\"},\"selection_glyph\":null,\"id\":\"dbe35bdd-f4f1-453e-c5f3-387a765229e8\",\"tags\":[]}},{\"id\":\"7bbe68dd-c0ac-4601-c690-b6a17007e869\",\"type\":\"DataRange1d\",\"attributes\":{\"sources\":[{\"columns\":[\"x\"],\"source\":{\"type\":\"ColumnDataSource\",\"id\":\"ea275b2e-9909-4451-c49f-df0639687bb4\"}},{\"columns\":[\"x\"],\"source\":{\"type\":\"ColumnDataSource\",\"id\":\"5538e7b0-4a5d-4712-c727-44d4fc05c1cf\"}},{\"columns\":[\"x\"],\"source\":{\"type\":\"ColumnDataSource\",\"id\":\"b0ff996e-c4b2-4b31-cb0b-a55adff3635e\"}}],\"id\":\"7bbe68dd-c0ac-4601-c690-b6a17007e869\",\"tags\":[],\"doc\":null}},{\"id\":\"14fa8eac-f8f7-4366-c3e5-5f7646066f34\",\"type\":\"DataRange1d\",\"attributes\":{\"sources\":[{\"columns\":[\"y\"],\"source\":{\"type\":\"ColumnDataSource\",\"id\":\"ea275b2e-9909-4451-c49f-df0639687bb4\"}},{\"columns\":[\"y\"],\"source\":{\"type\":\"ColumnDataSource\",\"id\":\"5538e7b0-4a5d-4712-c727-44d4fc05c1cf\"}},{\"columns\":[\"y\"],\"source\":{\"type\":\"ColumnDataSource\",\"id\":\"b0ff996e-c4b2-4b31-cb0b-a55adff3635e\"}}],\"id\":\"14fa8eac-f8f7-4366-c3e5-5f7646066f34\",\"tags\":[],\"doc\":null}},{\"id\":\"042700f1-5140-4818-c8ef-4a59310a917a\",\"type\":\"ToolEvents\",\"attributes\":{\"tags\":[],\"id\":\"042700f1-5140-4818-c8ef-4a59310a917a\",\"geometries\":[],\"doc\":null}},{\"id\":\"12e6d30f-f429-4fcd-cf96-5bab9578bfcc\",\"type\":\"BasicTickFormatter\",\"attributes\":{\"id\":\"12e6d30f-f429-4fcd-cf96-5bab9578bfcc\",\"tags\":[],\"doc\":null}},{\"id\":\"8d023e15-7372-48e5-c830-3a7001776575\",\"type\":\"BasicTicker\",\"attributes\":{\"num_minor_ticks\":5,\"id\":\"8d023e15-7372-48e5-c830-3a7001776575\",\"tags\":[],\"doc\":null}},{\"id\":\"42c1fb1d-76cd-4619-c6c3-be5473d9c219\",\"type\":\"LinearAxis\",\"attributes\":{\"formatter\":{\"type\":\"BasicTickFormatter\",\"id\":\"12e6d30f-f429-4fcd-cf96-5bab9578bfcc\"},\"ticker\":{\"type\":\"BasicTicker\",\"id\":\"8d023e15-7372-48e5-c830-3a7001776575\"},\"plot\":{\"id\":\"ef5c0764-4c29-4991-c9d8-67d85ff1521a\",\"type\":\"Plot\",\"subtype\":\"Figure\"},\"axis_label\":null,\"id\":\"42c1fb1d-76cd-4619-c6c3-be5473d9c219\",\"doc\":null,\"tags\":[]}},{\"id\":\"1ce97f20-55b2-42f3-c27d-d8df55e6fe33\",\"type\":\"Grid\",\"attributes\":{\"dimension\":0,\"plot\":{\"id\":\"ef5c0764-4c29-4991-c9d8-67d85ff1521a\",\"type\":\"Plot\",\"subtype\":\"Figure\"},\"ticker\":{\"type\":\"BasicTicker\",\"id\":\"8d023e15-7372-48e5-c830-3a7001776575\"},\"id\":\"1ce97f20-55b2-42f3-c27d-d8df55e6fe33\",\"doc\":null,\"tags\":[]}},{\"id\":\"14a5a30c-4dfe-4108-c11d-c4fe72f427fb\",\"type\":\"BasicTickFormatter\",\"attributes\":{\"id\":\"14a5a30c-4dfe-4108-c11d-c4fe72f427fb\",\"tags\":[],\"doc\":null}},{\"id\":\"e59ebcbd-048b-4f35-cf35-b33d0e10ba2f\",\"type\":\"BasicTicker\",\"attributes\":{\"num_minor_ticks\":5,\"id\":\"e59ebcbd-048b-4f35-cf35-b33d0e10ba2f\",\"tags\":[],\"doc\":null}},{\"id\":\"e6d74480-15da-42c7-c2e2-f977a5907f7a\",\"type\":\"LinearAxis\",\"attributes\":{\"formatter\":{\"type\":\"BasicTickFormatter\",\"id\":\"14a5a30c-4dfe-4108-c11d-c4fe72f427fb\"},\"ticker\":{\"type\":\"BasicTicker\",\"id\":\"e59ebcbd-048b-4f35-cf35-b33d0e10ba2f\"},\"plot\":{\"id\":\"ef5c0764-4c29-4991-c9d8-67d85ff1521a\",\"type\":\"Plot\",\"subtype\":\"Figure\"},\"axis_label\":null,\"id\":\"e6d74480-15da-42c7-c2e2-f977a5907f7a\",\"doc\":null,\"tags\":[]}},{\"id\":\"dc3f086d-8493-4463-c446-bfa51d91ece3\",\"type\":\"Grid\",\"attributes\":{\"dimension\":1,\"plot\":{\"id\":\"ef5c0764-4c29-4991-c9d8-67d85ff1521a\",\"type\":\"Plot\",\"subtype\":\"Figure\"},\"ticker\":{\"type\":\"BasicTicker\",\"id\":\"e59ebcbd-048b-4f35-cf35-b33d0e10ba2f\"},\"id\":\"dc3f086d-8493-4463-c446-bfa51d91ece3\",\"doc\":null,\"tags\":[]}},{\"id\":\"4efe6906-7f6e-4b7a-cbb6-c9581ae09565\",\"type\":\"PanTool\",\"attributes\":{\"plot\":{\"id\":\"ef5c0764-4c29-4991-c9d8-67d85ff1521a\",\"type\":\"Plot\",\"subtype\":\"Figure\"},\"dimensions\":[\"width\",\"height\"],\"id\":\"4efe6906-7f6e-4b7a-cbb6-c9581ae09565\",\"doc\":null,\"tags\":[]}},{\"id\":\"b31786bf-6ee1-49e7-c97e-44a5707a150b\",\"type\":\"WheelZoomTool\",\"attributes\":{\"plot\":{\"id\":\"ef5c0764-4c29-4991-c9d8-67d85ff1521a\",\"type\":\"Plot\",\"subtype\":\"Figure\"},\"dimensions\":[\"width\",\"height\"],\"id\":\"b31786bf-6ee1-49e7-c97e-44a5707a150b\",\"doc\":null,\"tags\":[]}},{\"id\":\"d98a3ad8-b633-4d21-cdd0-efbbece20df6\",\"type\":\"BoxZoomTool\",\"attributes\":{\"plot\":{\"id\":\"ef5c0764-4c29-4991-c9d8-67d85ff1521a\",\"type\":\"Plot\",\"subtype\":\"Figure\"},\"id\":\"d98a3ad8-b633-4d21-cdd0-efbbece20df6\",\"tags\":[],\"doc\":null}},{\"id\":\"6489fd83-016d-405e-c085-2bd377825077\",\"type\":\"PreviewSaveTool\",\"attributes\":{\"plot\":{\"id\":\"ef5c0764-4c29-4991-c9d8-67d85ff1521a\",\"type\":\"Plot\",\"subtype\":\"Figure\"},\"id\":\"6489fd83-016d-405e-c085-2bd377825077\",\"tags\":[],\"doc\":null}},{\"id\":\"9922e825-0443-475d-c72f-8c762696bc10\",\"type\":\"ResizeTool\",\"attributes\":{\"plot\":{\"id\":\"ef5c0764-4c29-4991-c9d8-67d85ff1521a\",\"type\":\"Plot\",\"subtype\":\"Figure\"},\"id\":\"9922e825-0443-475d-c72f-8c762696bc10\",\"tags\":[],\"doc\":null}},{\"id\":\"84a6df1f-9e7e-46d3-c6f7-ab19c296731d\",\"type\":\"ResetTool\",\"attributes\":{\"plot\":{\"id\":\"ef5c0764-4c29-4991-c9d8-67d85ff1521a\",\"type\":\"Plot\",\"subtype\":\"Figure\"},\"id\":\"84a6df1f-9e7e-46d3-c6f7-ab19c296731d\",\"tags\":[],\"doc\":null}},{\"id\":\"ef5c0764-4c29-4991-c9d8-67d85ff1521a\",\"type\":\"Plot\",\"attributes\":{\"x_range\":{\"type\":\"DataRange1d\",\"id\":\"7bbe68dd-c0ac-4601-c690-b6a17007e869\"},\"tool_events\":{\"type\":\"ToolEvents\",\"id\":\"042700f1-5140-4818-c8ef-4a59310a917a\"},\"below\":[{\"type\":\"LinearAxis\",\"id\":\"42c1fb1d-76cd-4619-c6c3-be5473d9c219\"}],\"renderers\":[{\"type\":\"GlyphRenderer\",\"id\":\"f8fe99b5-2329-423c-c2f0-278d7a2685dd\"},{\"type\":\"GlyphRenderer\",\"id\":\"d454c5ca-6f39-4b80-cbc9-58b3348bc5ba\"},{\"type\":\"GlyphRenderer\",\"id\":\"dbe35bdd-f4f1-453e-c5f3-387a765229e8\"},{\"type\":\"LinearAxis\",\"id\":\"42c1fb1d-76cd-4619-c6c3-be5473d9c219\"},{\"type\":\"Grid\",\"id\":\"1ce97f20-55b2-42f3-c27d-d8df55e6fe33\"},{\"type\":\"LinearAxis\",\"id\":\"e6d74480-15da-42c7-c2e2-f977a5907f7a\"},{\"type\":\"Grid\",\"id\":\"dc3f086d-8493-4463-c446-bfa51d91ece3\"}],\"above\":[],\"tools\":[{\"type\":\"PanTool\",\"id\":\"4efe6906-7f6e-4b7a-cbb6-c9581ae09565\"},{\"type\":\"WheelZoomTool\",\"id\":\"b31786bf-6ee1-49e7-c97e-44a5707a150b\"},{\"type\":\"BoxZoomTool\",\"id\":\"d98a3ad8-b633-4d21-cdd0-efbbece20df6\"},{\"type\":\"PreviewSaveTool\",\"id\":\"6489fd83-016d-405e-c085-2bd377825077\"},{\"type\":\"ResizeTool\",\"id\":\"9922e825-0443-475d-c72f-8c762696bc10\"},{\"type\":\"ResetTool\",\"id\":\"84a6df1f-9e7e-46d3-c6f7-ab19c296731d\"}],\"doc\":null,\"right\":[],\"title\":\"Untitled Plot\",\"extra_x_ranges\":{},\"left\":[{\"type\":\"LinearAxis\",\"id\":\"e6d74480-15da-42c7-c2e2-f977a5907f7a\"}],\"y_range\":{\"type\":\"DataRange1d\",\"id\":\"14fa8eac-f8f7-4366-c3e5-5f7646066f34\"},\"id\":\"ef5c0764-4c29-4991-c9d8-67d85ff1521a\",\"extra_y_ranges\":{},\"tags\":[]}}];\n",
       "      Bokeh.load_models(all_models);\n",
       "      var model = Bokeh.Collections(modeltype).get(modelid);\n",
       "      $(\"#769f8b92-aaae-4d8b-cd41-83186b96a017\").html(''); // clear any previous plot in window_id\n",
       "      var view = new model.default_view({model: model, el: \"#769f8b92-aaae-4d8b-cd41-83186b96a017\"});\n",
       "  });\n",
       "    }\n",
       "});\n",
       "</script>\n",
       "<div class=\"plotdiv\" id=\"769f8b92-aaae-4d8b-cd41-83186b96a017\"></div>\n"
      ]
     },
     "metadata": {},
     "output_type": "display_data"
    }
   ],
   "source": [
    "plot = Plot():line(counter_tb, D_fake_loss_tb, \"red\", \"D fake loss\")\n",
    "plot:line(counter_tb, D_real_loss_tb, \"pink\", \"D real loss\")\n",
    "plot:line(counter_tb, G_loss_tb, \"blue\", \"G loss\")\n",
    "plot:draw()\n",
    "plot:save(\"gan_traning_loss_plot.html\")"
   ]
  }
 ],
 "metadata": {
  "kernelspec": {
   "display_name": "iTorch",
   "language": "lua",
   "name": "itorch"
  },
  "language_info": {
   "name": "lua",
   "version": "5.1"
  }
 },
 "nbformat": 4,
 "nbformat_minor": 2
}
