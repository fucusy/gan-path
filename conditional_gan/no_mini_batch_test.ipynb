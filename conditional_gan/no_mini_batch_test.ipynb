{
 "cells": [
  {
   "cell_type": "code",
   "execution_count": 32,
   "metadata": {
    "collapsed": true,
    "deletable": true,
    "editable": true
   },
   "outputs": [],
   "source": [
    "Plot = require 'itorch.Plot';"
   ]
  },
  {
   "cell_type": "code",
   "execution_count": 33,
   "metadata": {
    "collapsed": true,
    "deletable": true,
    "editable": true
   },
   "outputs": [],
   "source": [
    "require 'cutorch'\n",
    "require 'cunn'\n",
    "\n",
    "require 'nn';\n",
    "require 'model';\n",
    "require 'mnist_loader';\n",
    "\n",
    "cutorch.setDevice(2)\n",
    "\n",
    "\n",
    "model = nn.Sequential()\n",
    "model:add(nn.Reshape(32*32))\n",
    "model:add(nn.Linear(32*32, 100))\n",
    "model:add(nn.ReLU())\n",
    "model:add(nn.Linear(100, 10))\n",
    "model:add(nn.ReLU())\n",
    "model:add(nn.LogSoftMax())\n",
    "\n",
    "criterion = nn.ClassNLLCriterion()\n",
    "\n",
    "model:cuda()\n",
    "criterion:cuda()"
   ]
  },
  {
   "cell_type": "code",
   "execution_count": 34,
   "metadata": {
    "collapsed": false,
    "deletable": true,
    "editable": true
   },
   "outputs": [
    {
     "data": {
      "text/plain": [
       "<mnist> done\t\n"
      ]
     },
     "execution_count": 34,
     "metadata": {},
     "output_type": "execute_result"
    },
    {
     "data": {
      "text/plain": [
       "<mnist> done\t\n"
      ]
     },
     "execution_count": 34,
     "metadata": {},
     "output_type": "execute_result"
    }
   ],
   "source": [
    "train_set = mnist.loadTrainSet()\n",
    "val_set = mnist.loadTestSet()"
   ]
  },
  {
   "cell_type": "code",
   "execution_count": 35,
   "metadata": {
    "collapsed": false,
    "deletable": true,
    "editable": true
   },
   "outputs": [],
   "source": [
    "function get_label(one_hot) \n",
    "    local label = -1\n",
    "    for i=1, one_hot:size()[1] do\n",
    "        if one_hot[i] == 1 then\n",
    "            label = i\n",
    "        end\n",
    "    end\n",
    "    return label\n",
    "end\n",
    "data = train_set[1][1]:cuda()\n",
    "label = get_label(train_set[1][2])\n",
    "\n",
    "output = model:forward(data)\n",
    "print(output)\n",
    "cost = criterion:forward(output, label)\n",
    "print(cost)"
   ]
  },
  {
   "cell_type": "markdown",
   "metadata": {
    "deletable": true,
    "editable": true
   },
   "source": [
    "## no mini batch"
   ]
  },
  {
   "cell_type": "code",
   "execution_count": null,
   "metadata": {
    "collapsed": false,
    "deletable": true,
    "editable": true
   },
   "outputs": [
    {
     "data": {
      "text/plain": [
       "-2.5429 -2.5429 -2.2855 -2.5429 -2.0650 -2.2134 -1.9415 -2.2781 -2.2867 -2.5429\n",
       "[torch.CudaTensor of size 1x10]\n",
       "\n",
       "1.9414691925049\t\n"
      ]
     },
     "execution_count": 35,
     "metadata": {},
     "output_type": "execute_result"
    },
    {
     "data": {
      "text/plain": [
       "  1\n",
       " 32\n",
       " 32\n",
       "[torch.LongStorage of size 3]\n",
       "\n"
      ]
     },
     "execution_count": 36,
     "metadata": {},
     "output_type": "execute_result"
    }
   ],
   "source": [
    "learningrate = 1e-2\n",
    "batchsize = 100\n",
    "start_batchsize = 1\n",
    "\n",
    "end_batchsize = train_set:size()/batchsize\n",
    "cost_tb = {}\n",
    "validation_tb = {}\n",
    "batch_idx_tb = {}\n",
    "have_print = false\n",
    "epochsize = 5\n",
    "counter = 1\n",
    "for epoch = 1, epochsize do\n",
    "for i = 1,  end_batchsize do\n",
    "    local total_cost = 0\n",
    "    for idx = 1, batchsize do\n",
    "        data_idx = (i - 1) * batchsize + idx\n",
    "        vec = train_set[data_idx][1]:cuda()\n",
    "        label = get_label(train_set[data_idx][2])\n",
    "        \n",
    "        output = model:forward(vec)\n",
    "        cost = criterion:forward(output, label)\n",
    "        \n",
    "        c_b = criterion:backward(output, label)\n",
    "        model:zeroGradParameters()\n",
    "        model:backward(vec, c_b)\n",
    "        model:updateParameters(learningrate)\n",
    "        total_cost = total_cost + cost\n",
    "    end\n",
    "    total_cost = total_cost / batchsize\n",
    "    if not have_print then\n",
    "        par, grad_par = model:parameters()\n",
    "        print(model.gradInput:size())\n",
    "        have_print = true\n",
    "    end\n",
    "    \n",
    "    local validation_total_cost = 0\n",
    "    selective_val_count = batchsize\n",
    "    for j = 1, selective_val_count do\n",
    "        vec = val_set[j][1]:cuda()\n",
    "        label = get_label(val_set[j][2])\n",
    "        output = model:forward(vec)\n",
    "        cost = criterion:forward(output, label)\n",
    "        validation_total_cost = validation_total_cost + cost\n",
    "    end\n",
    "    validation_total_cost = validation_total_cost / selective_val_count    \n",
    "    \n",
    "    table.insert(cost_tb, total_cost)\n",
    "    table.insert(validation_tb, validation_total_cost)\n",
    "    table.insert(batch_idx_tb, counter)\n",
    "    counter = counter + 1\n",
    "end\n",
    "end"
   ]
  },
  {
   "cell_type": "code",
   "execution_count": null,
   "metadata": {
    "collapsed": false,
    "deletable": true,
    "editable": true
   },
   "outputs": [],
   "source": [
    "plot = Plot():line(batch_idx_tb, cost_tb, 'red', 'traning')\n",
    "plot:line(batch_idx_tb, validation_tb, 'blue', 'validation')\n",
    "plot:title('Scatter Plot Demo')\n",
    "plot:xaxis('x'):yaxis('y')\n",
    "plot:legend(true):draw()\n",
    "plot:save('no_mini_batch.html')"
   ]
  },
  {
   "cell_type": "code",
   "execution_count": null,
   "metadata": {
    "collapsed": true
   },
   "outputs": [],
   "source": []
  }
 ],
 "metadata": {
  "kernelspec": {
   "display_name": "iTorch",
   "language": "lua",
   "name": "itorch"
  },
  "language_info": {
   "name": "lua",
   "version": "5.1"
  }
 },
 "nbformat": 4,
 "nbformat_minor": 2
}
