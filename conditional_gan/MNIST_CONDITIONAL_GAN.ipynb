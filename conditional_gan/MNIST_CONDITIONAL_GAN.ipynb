{
 "cells": [
  {
   "cell_type": "code",
   "execution_count": 5,
   "metadata": {
    "collapsed": true,
    "deletable": true,
    "editable": true
   },
   "outputs": [],
   "source": [
    "require 'cutorch'\n",
    "require 'cunn';\n",
    "require 'nn';\n",
    "require 'image';\n",
    "require 'mnist_loader';"
   ]
  },
  {
   "cell_type": "code",
   "execution_count": 6,
   "metadata": {
    "collapsed": false,
    "deletable": true,
    "editable": true
   },
   "outputs": [],
   "source": [
    "generator = nn.Sequential()\n",
    "local p = nn.ParallelTable()\n",
    "\n",
    "local noiseBranch = nn.Sequential()\n",
    "noiseBranch:add(nn.Linear(100, 256))\n",
    "noiseBranch:add(nn.BatchNormalization(256))\n",
    "noiseBranch:add(nn.ReLU())\n",
    "\n",
    "local classBranch = nn.Sequential()\n",
    "classBranch:add(nn.Linear(10, 256))\n",
    "noiseBranch:add(nn.BatchNormalization(256))\n",
    "classBranch:add(nn.ReLU())\n",
    "\n",
    "p:add(noiseBranch)\n",
    "p:add(classBranch)\n",
    "\n",
    "generator:add(p)\n",
    "generator:add(nn.JoinTable(2))\n",
    "generator:add(nn.Linear(512, 512))\n",
    "generator:add(nn.BatchNormalization(512))\n",
    "generator:add(nn.ReLU())\n",
    "generator:add(nn.Linear(512, 1024))\n",
    "generator:add(nn.BatchNormalization(1024))\n",
    "generator:add(nn.ReLU())\n",
    "generator:add(nn.Dropout(0.5))\n",
    "generator:add(nn.Linear(1024, 32*32))\n",
    "generator:add(nn.Tanh())\n",
    "generator:add(nn.Reshape(32, 32))"
   ]
  },
  {
   "cell_type": "code",
   "execution_count": 7,
   "metadata": {
    "collapsed": false
   },
   "outputs": [
    {
     "data": {
      "text/plain": [
       "before\t\n",
       "6.2222344318386e-07\t\n",
       "0.02552632963001\t\n",
       "after\t\n",
       "7.1891921398209e-19\t\n",
       "0.02\t\n",
       "before\t\n",
       "1.1009459294502e-05\t\n"
      ]
     },
     "execution_count": 7,
     "metadata": {},
     "output_type": "execute_result"
    },
    {
     "data": {
      "text/plain": [
       "0.025527276196163\t\n"
      ]
     },
     "execution_count": 7,
     "metadata": {},
     "output_type": "execute_result"
    },
    {
     "data": {
      "text/plain": [
       "after\t\n"
      ]
     },
     "execution_count": 7,
     "metadata": {},
     "output_type": "execute_result"
    },
    {
     "data": {
      "text/plain": [
       "-1.1647737000512e-22\t\n"
      ]
     },
     "execution_count": 7,
     "metadata": {},
     "output_type": "execute_result"
    },
    {
     "data": {
      "text/plain": [
       "0.02\t\n",
       "before\t\n",
       "-3.7970726798967e-05\t\n"
      ]
     },
     "execution_count": 7,
     "metadata": {},
     "output_type": "execute_result"
    },
    {
     "data": {
      "text/plain": [
       "0.018039531450596\t\n"
      ]
     },
     "execution_count": 7,
     "metadata": {},
     "output_type": "execute_result"
    },
    {
     "data": {
      "text/plain": [
       "after\t\n"
      ]
     },
     "execution_count": 7,
     "metadata": {},
     "output_type": "execute_result"
    },
    {
     "data": {
      "text/plain": [
       "8.0856574004813e-19\t\n"
      ]
     },
     "execution_count": 7,
     "metadata": {},
     "output_type": "execute_result"
    },
    {
     "data": {
      "text/plain": [
       "0.02\t\n",
       "before\t\n",
       "0.00045112352991782\t\n",
       "0.05756007579683\t\n",
       "after\t\n",
       "5.9983485192761e-19\t\n",
       "0.02\t\n",
       "before\t\n",
       "-0.0042674754936695\t\n",
       "0.18106573153292\t\n",
       "after\t\n",
       "-1.3491540783866e-18\t\n",
       "0.02\t\n"
      ]
     },
     "execution_count": 7,
     "metadata": {},
     "output_type": "execute_result"
    }
   ],
   "source": [
    "function init(model) \n",
    "    queue = {model}\n",
    "    local idx = 1\n",
    "    while idx <= #queue do\n",
    "        local t = torch.type(queue[idx])\n",
    "        --　print(\"proprocessing \", t)\n",
    "        if t == \"nn.Sequential\" or t == \"nn.ParallelTable\" then\n",
    "            for m_idx = 1, #queue[idx].modules do\n",
    "                local m = torch.type(queue[idx].modules[m_idx])\n",
    "                -- print(\"insert modules\", m)\n",
    "                table.insert(queue, queue[idx].modules[m_idx])\n",
    "            end\n",
    "        elseif t == \"nn.Linear\" then\n",
    "            -- print(\"init weight, bias\", t)\n",
    "--             print(\"before\")\n",
    "--             print(queue[idx].weight:mean())\n",
    "--             print(queue[idx].weight:std())\n",
    "            queue[idx].weight:add(-queue[idx].weight:mean())\n",
    "            queue[idx].weight:div(queue[idx].weight:std()):mul(0.02)\n",
    "--             print(\"after\")\n",
    "--             print(queue[idx].weight:mean())\n",
    "--             print(queue[idx].weight:std())\n",
    "            queue[idx].bias:zero()\n",
    "        else\n",
    "            -- print(\"ignore module\", t)\n",
    "        end\n",
    "        idx = idx + 1\n",
    "    end\n",
    "\n",
    "end\n",
    "init(generator)"
   ]
  },
  {
   "cell_type": "code",
   "execution_count": null,
   "metadata": {
    "collapsed": false,
    "deletable": true,
    "editable": true
   },
   "outputs": [],
   "source": [
    "parameters, gradParameters = generator:getParameters()\n",
    "print(parameters:mean())\n",
    "print(parameters:std())\n",
    "init(generator)\n",
    "print(parameters:mean())\n",
    "print(parameters:std())"
   ]
  },
  {
   "cell_type": "code",
   "execution_count": null,
   "metadata": {
    "collapsed": false,
    "deletable": true,
    "editable": true
   },
   "outputs": [],
   "source": [
    "batchsize = 128\n",
    "noises = torch.randn(batchsize, 100)\n",
    "labels = torch.randn(batchsize, 10)\n",
    "imgs = generator:forward({noises, labels})\n",
    "itorch.image(imgs)"
   ]
  },
  {
   "cell_type": "code",
   "execution_count": null,
   "metadata": {
    "collapsed": true,
    "deletable": true,
    "editable": true
   },
   "outputs": [],
   "source": [
    "criterion = nn.ClassNLLCriterion()"
   ]
  },
  {
   "cell_type": "code",
   "execution_count": null,
   "metadata": {
    "collapsed": true,
    "deletable": true,
    "editable": true
   },
   "outputs": [],
   "source": []
  },
  {
   "cell_type": "code",
   "execution_count": null,
   "metadata": {
    "collapsed": true,
    "deletable": true,
    "editable": true
   },
   "outputs": [],
   "source": [
    "discriminator = nn.Sequential()\n",
    "\n",
    "local p = nn.ParallelTable()\n",
    "\n",
    "local imgBranch = nn.Sequential()\n",
    "imgBranch:add(nn.Reshape(32*32))\n",
    "\n",
    "\n",
    "imgBranch:add(nn.Linear(32*32, 1024))\n",
    "imgBranch:add(nn.LeakyReLU(0.2))\n",
    "\n",
    "local classBranch = nn.Sequential()\n",
    "classBranch:add(nn.Linear(10, 1024))\n",
    "imgBranch:add(nn.LeakyReLU(0.2))\n",
    "\n",
    "p:add(imgBranch)\n",
    "p:add(classBranch)\n",
    "\n",
    "discriminator:add(p)\n",
    "discriminator:add(nn.JoinTable(2))\n",
    "discriminator:add(nn.Linear(2048, 512))\n",
    "discriminator:add(nn.BatchNormalization(512))\n",
    "discriminator:add(nn.LeakyReLU(0.2))\n",
    "discriminator:add(nn.Linear(512, 256))\n",
    "discriminator:add(nn.BatchNormalization(256))\n",
    "discriminator:add(nn.LeakyReLU(0.2))\n",
    "discriminator:add(nn.Linear(256, 2))\n",
    "discriminator:add(nn.LogSoftMax())"
   ]
  },
  {
   "cell_type": "code",
   "execution_count": null,
   "metadata": {
    "collapsed": false,
    "deletable": true,
    "editable": true
   },
   "outputs": [],
   "source": [
    "paramters, gradParameters = discriminator:getParameters()\n",
    "print(paramters:mean())\n",
    "print(paramters:std())"
   ]
  },
  {
   "cell_type": "code",
   "execution_count": null,
   "metadata": {
    "collapsed": false,
    "deletable": true,
    "editable": true
   },
   "outputs": [],
   "source": [
    "train_set = mnist.loadTrainSet()"
   ]
  },
  {
   "cell_type": "code",
   "execution_count": null,
   "metadata": {
    "collapsed": false,
    "deletable": true,
    "editable": true
   },
   "outputs": [],
   "source": [
    "batchsize = 5\n",
    "inputImgInputBatch = torch.zeros(batchsize, 32, 32)\n",
    "inputVectorInputBatch = torch.zeros(batchsize, 10)\n",
    "batch_count = 1\n",
    "for batch_count_idx = 1, batchsize do\n",
    "    i = (batch_count - 1) * batchsize + batch_count_idx\n",
    "    inputImgInput = train_set[i][1]:view(32, 32)\n",
    "    inputVectorInput = train_set[i][2]\n",
    "    inputVectorInputBatch[batch_count_idx] = inputVectorInput\n",
    "    inputImgInputBatch[batch_count_idx] = inputImgInput\n",
    "end    "
   ]
  },
  {
   "cell_type": "code",
   "execution_count": null,
   "metadata": {
    "collapsed": false,
    "deletable": true,
    "editable": true
   },
   "outputs": [],
   "source": [
    "print(inputImgInputBatch:type())\n",
    "print(inputVectorInputBatch:type())"
   ]
  },
  {
   "cell_type": "code",
   "execution_count": null,
   "metadata": {
    "collapsed": false,
    "deletable": true,
    "editable": true
   },
   "outputs": [],
   "source": [
    "res = discriminator:forward({inputImgInputBatch, inputVectorInputBatch})\n",
    "print(res)"
   ]
  },
  {
   "cell_type": "code",
   "execution_count": null,
   "metadata": {
    "collapsed": true,
    "deletable": true,
    "editable": true
   },
   "outputs": [],
   "source": []
  }
 ],
 "metadata": {
  "kernelspec": {
   "display_name": "iTorch",
   "language": "lua",
   "name": "itorch"
  },
  "language_info": {
   "name": "lua",
   "version": "5.1"
  }
 },
 "nbformat": 4,
 "nbformat_minor": 2
}
