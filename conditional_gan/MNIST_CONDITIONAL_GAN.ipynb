{
 "cells": [
  {
   "cell_type": "code",
   "execution_count": 16,
   "metadata": {
    "collapsed": true,
    "deletable": true,
    "editable": true
   },
   "outputs": [],
   "source": [
    "require 'cutorch'\n",
    "require 'cunn';\n",
    "require 'nn';\n",
    "require 'image';\n",
    "require 'mnist_loader';"
   ]
  },
  {
   "cell_type": "code",
   "execution_count": 17,
   "metadata": {
    "collapsed": true,
    "deletable": true,
    "editable": true
   },
   "outputs": [],
   "source": [
    "generator = nn.Sequential()\n",
    "local p = nn.ParallelTable()\n",
    "\n",
    "local noiseBranch = nn.Sequential()\n",
    "noiseBranch:add(nn.Linear(100, 200))\n",
    "noiseBranch:add(nn.ReLU())\n",
    "\n",
    "local classBranch = nn.Sequential()\n",
    "classBranch:add(nn.Linear(10, 1000))\n",
    "classBranch:add(nn.ReLU())\n",
    "\n",
    "p:add(noiseBranch)\n",
    "p:add(classBranch)\n",
    "\n",
    "generator:add(p)\n",
    "generator:add(nn.JoinTable(1))\n",
    "\n",
    "generator:add(nn.Linear(1200, 32*32))\n",
    "generator:add(nn.Tanh())\n",
    "generator:add(nn.Reshape(32, 32))\n"
   ]
  },
  {
   "cell_type": "code",
   "execution_count": 18,
   "metadata": {
    "collapsed": true,
    "deletable": true,
    "editable": true
   },
   "outputs": [],
   "source": [
    "local labelvector = torch.zeros(10)\n",
    "local num = 8\n",
    "labelvector:zero()\n",
    "labelvector[9] = 1\n",
    "local input = {torch.randn(100), labelvector}\n",
    "output = generator:forward(input)"
   ]
  },
  {
   "cell_type": "code",
   "execution_count": 19,
   "metadata": {
    "collapsed": true,
    "deletable": true,
    "editable": true
   },
   "outputs": [],
   "source": [
    "-- GPU test\n",
    "local labelvector = torch.zeros(10):cuda()\n",
    "local num = 8\n",
    "labelvector:zero()\n",
    "labelvector[9] = 1\n",
    "local input = {torch.randn(100):cuda(), labelvector}\n",
    "output = generator:cuda():forward(input)"
   ]
  },
  {
   "cell_type": "code",
   "execution_count": 27,
   "metadata": {
    "collapsed": true,
    "deletable": true,
    "editable": true
   },
   "outputs": [],
   "source": [
    "criterion = nn.ClassNLLCriterion()"
   ]
  },
  {
   "cell_type": "code",
   "execution_count": null,
   "metadata": {
    "collapsed": true,
    "deletable": true,
    "editable": true
   },
   "outputs": [],
   "source": []
  },
  {
   "cell_type": "code",
   "execution_count": 20,
   "metadata": {
    "collapsed": false,
    "deletable": true,
    "editable": true
   },
   "outputs": [
    {
     "data": {
      "image/png": "[encoded data removed]",
      "text/plain": [
       "Console does not support images"
      ]
     },
     "metadata": {
      "image/png": {
       "height": 32,
       "width": 32
      }
     },
     "output_type": "display_data"
    },
    {
     "data": {
      "text/plain": [
       "\n"
      ]
     },
     "execution_count": 20,
     "metadata": {},
     "output_type": "execute_result"
    }
   ],
   "source": [
    "itorch.image(output)"
   ]
  },
  {
   "cell_type": "code",
   "execution_count": 21,
   "metadata": {
    "collapsed": true,
    "deletable": true,
    "editable": true
   },
   "outputs": [],
   "source": [
    "discriminator = nn.Sequential()\n",
    "\n",
    "\n",
    "local p = nn.ParallelTable()\n",
    "\n",
    "local imgBranch = nn.Sequential()\n",
    "imgBranch:add(nn.Reshape(32*32))\n",
    "\n",
    "\n",
    "imgBranch:add(nn.Maxout(32*32, 240, 5))\n",
    "imgBranch:add(nn.ReLU())\n",
    "imgBranch:add(nn.Maxout(240, 240, 4))\n",
    "imgBranch:add(nn.ReLU())\n",
    "\n",
    "local classBranch = nn.Sequential()\n",
    "classBranch:add(nn.Maxout(10, 50, 5))\n",
    "classBranch:add(nn.ReLU())\n",
    "classBranch:add(nn.Maxout(50, 240, 4))\n",
    "classBranch:add(nn.ReLU())\n",
    "\n",
    "p:add(imgBranch)\n",
    "p:add(classBranch)\n",
    "\n",
    "discriminator:add(p)\n",
    "discriminator:add(nn.JoinTable(1))\n",
    "discriminator:add(nn.Linear(480, 2))\n",
    "discriminator:add(nn.LogSoftMax())"
   ]
  },
  {
   "cell_type": "code",
   "execution_count": 22,
   "metadata": {
    "collapsed": false,
    "deletable": true,
    "editable": true
   },
   "outputs": [
    {
     "data": {
      "text/plain": [
       "<mnist> done\t\n"
      ]
     },
     "execution_count": 22,
     "metadata": {},
     "output_type": "execute_result"
    }
   ],
   "source": [
    "trainSet = mnist.loadTrainSet()"
   ]
  },
  {
   "cell_type": "code",
   "execution_count": 23,
   "metadata": {
    "collapsed": false,
    "deletable": true,
    "editable": true
   },
   "outputs": [
    {
     "data": {
      "image/png": "[encoded data removed]",
      "text/plain": [
       "Console does not support images"
      ]
     },
     "metadata": {
      "image/png": {
       "height": 32,
       "width": 32
      }
     },
     "output_type": "display_data"
    }
   ],
   "source": [
    "inputImg = trainSet[1][1]:view(32, 32)\n",
    "inputVector = trainSet[1][2]\n",
    "itorch.image(inputImg)"
   ]
  },
  {
   "cell_type": "code",
   "execution_count": 24,
   "metadata": {
    "collapsed": false,
    "deletable": true,
    "editable": true
   },
   "outputs": [
    {
     "data": {
      "text/plain": [
       "-0.6794\n",
       "-0.7071\n",
       "[torch.DoubleTensor of size 2]\n",
       "\n"
      ]
     },
     "execution_count": 24,
     "metadata": {},
     "output_type": "execute_result"
    }
   ],
   "source": [
    "res = discriminator:forward({inputImg, inputVector})\n",
    "print(res)"
   ]
  },
  {
   "cell_type": "code",
   "execution_count": 26,
   "metadata": {
    "collapsed": false,
    "deletable": true,
    "editable": true
   },
   "outputs": [
    {
     "data": {
      "text/plain": [
       "-0.6794\n",
       "-0.7071\n",
       "[torch.CudaTensor of size 2]\n",
       "\n"
      ]
     },
     "execution_count": 26,
     "metadata": {},
     "output_type": "execute_result"
    }
   ],
   "source": [
    "res = discriminator:cuda():forward({inputImg:cuda(), inputVector:cuda()})\n",
    "print(res)"
   ]
  },
  {
   "cell_type": "code",
   "execution_count": 39,
   "metadata": {
    "collapsed": true,
    "deletable": true,
    "editable": true
   },
   "outputs": [],
   "source": [
    "discriminator:zeroGradParameters()\n",
    "real_target = 1\n",
    "criterion = criterion:cuda()\n",
    "\n",
    "local t = criterion:backward(res, real_target)\n",
    "discriminator:backward({inputImg:cuda(), inputVector:cuda()}, t)\n",
    "learningRate = 0.0001\n",
    "discriminator:updateParameters(learningRate)\n"
   ]
  },
  {
   "cell_type": "code",
   "execution_count": null,
   "metadata": {
    "collapsed": true,
    "deletable": true,
    "editable": true
   },
   "outputs": [],
   "source": []
  }
 ],
 "metadata": {
  "kernelspec": {
   "display_name": "iTorch",
   "language": "lua",
   "name": "itorch"
  },
  "language_info": {
   "name": "lua",
   "version": "5.1"
  }
 },
 "nbformat": 4,
 "nbformat_minor": 2
}
