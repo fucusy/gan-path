{
 "cells": [
  {
   "cell_type": "code",
   "execution_count": 30,
   "metadata": {
    "collapsed": true,
    "deletable": true,
    "editable": true
   },
   "outputs": [],
   "source": [
    "require 'torch'\n",
    "require 'paths'"
   ]
  },
  {
   "cell_type": "code",
   "execution_count": 31,
   "metadata": {
    "collapsed": true,
    "deletable": true,
    "editable": true
   },
   "outputs": [],
   "source": [
    "mnist = {}\n",
    "mnist.path_remote = 'https://s3.amazonaws.com/torch7/data/mnist.t7.tgz'\n",
    "mnist.path_dataset = '../data/mnist.t7'\n",
    "mnist.path_trainset = paths.concat(mnist.path_dataset, 'train_32x32.t7')\n",
    "mnist.path_testset = paths.concat(mnist.path_dataset, 'test_32x32.t7')"
   ]
  },
  {
   "cell_type": "code",
   "execution_count": 32,
   "metadata": {
    "collapsed": true,
    "deletable": true,
    "editable": true
   },
   "outputs": [],
   "source": [
    "function mnist.download()\n",
    "   if not paths.filep(mnist.path_trainset) or not paths.filep(mnist.path_testset) then\n",
    "      local remote = mnist.path_remote\n",
    "      local tar = paths.basename(remote)\n",
    "      os.execute('wget ' .. remote .. '; ' .. 'tar xvf ' .. tar .. '; rm ' .. tar)\n",
    "   end\n",
    "end"
   ]
  },
  {
   "cell_type": "code",
   "execution_count": 33,
   "metadata": {
    "collapsed": true,
    "deletable": true,
    "editable": true
   },
   "outputs": [],
   "source": [
    "function mnist.loadDataset(fileName, maxLoad)\n",
    "    mnist.download()\n",
    "    local f = torch.load(fileName, 'ascii')\n",
    "    local data = f.data:type(torch.getdefaulttensortype())\n",
    "    local labels = f.labels\n",
    "\n",
    "    local nExample = f.data:size(1)\n",
    "    if maxLoad and maxLoad > 0 and maxLoad < nExample then\n",
    "      nExample = maxLoad\n",
    "      print('<mnist> loading only ' .. nExample .. ' examples')\n",
    "    end\n",
    "    data = data[{{1,nExample},{},{},{}}]\n",
    "    labels = labels[{{1,nExample}}]\n",
    "    print('<mnist> done')\n",
    "\n",
    "    local dataset = {}    \n",
    "    data:mul(1/data:std()*0.5)\n",
    "    data:add(-data:mean()+0.5)\n",
    "    \n",
    "    dataset.data = data\n",
    "    dataset.labels = labels\n",
    "    dataset.order = torch.randperm(nExample)\n",
    "    dataset.std = data:std()\n",
    "    dataset.mean = data:mean()\n",
    "\n",
    "    -- normalization\n",
    "    \n",
    "\n",
    "    function dataset:shuffle()\n",
    "        dataset.order = torch.randperm(nExample)        \n",
    "    end\n",
    "    \n",
    "    function dataset:recover(img)\n",
    "        img:mul(data:std())\n",
    "        img:add(dataset.mean)\n",
    "        return img\n",
    "    end\n",
    "\n",
    "    function dataset:size()\n",
    "      return nExample\n",
    "    end\n",
    "\n",
    "    local labelvector = torch.zeros(10)\n",
    "    setmetatable(dataset, {__index = \n",
    "            function(self, index)\n",
    "                index = dataset.order[index]\n",
    "                local input = self.data[index]\n",
    "                local class = self.labels[index]\n",
    "                local label = labelvector:zero()\n",
    "                label[class] = 1\n",
    "                local example = {input, label}\n",
    "                return example\n",
    "            end})\n",
    "    return dataset\n",
    "end"
   ]
  },
  {
   "cell_type": "code",
   "execution_count": 34,
   "metadata": {
    "collapsed": true,
    "deletable": true,
    "editable": true
   },
   "outputs": [],
   "source": [
    "function mnist.loadTrainSet(maxLoad)\n",
    "   return mnist.loadDataset(mnist.path_trainset, maxLoad)\n",
    "end\n",
    "\n",
    "function mnist.loadTestSet(maxLoad, geometry)\n",
    "   return mnist.loadDataset(mnist.path_testset, maxLoad)\n",
    "end"
   ]
  },
  {
   "cell_type": "code",
   "execution_count": 35,
   "metadata": {
    "collapsed": false,
    "deletable": true,
    "editable": true
   },
   "outputs": [
    {
     "data": {
      "text/plain": [
       "<mnist> done\t\n"
      ]
     },
     "execution_count": 35,
     "metadata": {},
     "output_type": "execute_result"
    }
   ],
   "source": [
    "trainSet = mnist.loadTrainSet()\n"
   ]
  },
  {
   "cell_type": "code",
   "execution_count": 36,
   "metadata": {
    "collapsed": false,
    "deletable": true,
    "editable": true
   },
   "outputs": [
    {
     "data": {
      "text/plain": [
       "0.5000000001501\t\n"
      ]
     },
     "execution_count": 36,
     "metadata": {},
     "output_type": "execute_result"
    },
    {
     "data": {
      "text/plain": [
       "0.50000000007789\t\n"
      ]
     },
     "execution_count": 36,
     "metadata": {},
     "output_type": "execute_result"
    }
   ],
   "source": [
    "print(trainSet.data:mean())\n",
    "print(trainSet.data:std())"
   ]
  },
  {
   "cell_type": "code",
   "execution_count": 37,
   "metadata": {
    "collapsed": false,
    "deletable": true,
    "editable": true
   },
   "outputs": [
    {
     "data": {
      "image/png": "[encoded data removed]",
      "text/plain": [
       "Console does not support images"
      ]
     },
     "metadata": {
      "image/png": {
       "height": 32,
       "width": 32
      }
     },
     "output_type": "display_data"
    },
    {
     "data": {
      "text/plain": [
       "\n"
      ]
     },
     "execution_count": 37,
     "metadata": {},
     "output_type": "execute_result"
    }
   ],
   "source": [
    "itorch.image(trainSet[1][1])"
   ]
  },
  {
   "cell_type": "code",
   "execution_count": 8,
   "metadata": {
    "collapsed": false,
    "deletable": true,
    "editable": true
   },
   "outputs": [
    {
     "data": {
      "image/png": "[encoded data removed]",
      "text/plain": [
       "Console does not support images"
      ]
     },
     "metadata": {
      "image/png": {
       "height": 32,
       "width": 32
      }
     },
     "output_type": "display_data"
    },
    {
     "data": {
      "image/png": "[encoded data removed]",
      "text/plain": [
       "Console does not support images"
      ]
     },
     "metadata": {
      "image/png": {
       "height": 32,
       "width": 32
      }
     },
     "output_type": "display_data"
    },
    {
     "data": {
      "image/png": "[encoded data removed]",
      "text/plain": [
       "Console does not support images"
      ]
     },
     "metadata": {
      "image/png": {
       "height": 32,
       "width": 32
      }
     },
     "output_type": "display_data"
    },
    {
     "data": {
      "image/png": "[encoded data removed]",
      "text/plain": [
       "Console does not support images"
      ]
     },
     "metadata": {
      "image/png": {
       "height": 32,
       "width": 32
      }
     },
     "output_type": "display_data"
    },
    {
     "data": {
      "image/png": "[encoded data removed]",
      "text/plain": [
       "Console does not support images"
      ]
     },
     "metadata": {
      "image/png": {
       "height": 32,
       "width": 32
      }
     },
     "output_type": "display_data"
    }
   ],
   "source": [
    "itorch.image(trainSet:recover(trainSet[1][1]))\n",
    "itorch.image(trainSet:recover(trainSet[2][1]))\n",
    "itorch.image(trainSet:recover(trainSet[3][1]))\n",
    "itorch.image(trainSet:recover(trainSet[4][1]))\n",
    "itorch.image(trainSet:recover(trainSet[5][1]))"
   ]
  },
  {
   "cell_type": "code",
   "execution_count": 26,
   "metadata": {
    "collapsed": false,
    "deletable": true,
    "editable": true
   },
   "outputs": [
    {
     "data": {
      "text/plain": [
       "\n"
      ]
     },
     "execution_count": 26,
     "metadata": {},
     "output_type": "execute_result"
    }
   ],
   "source": [
    "trainSet:shuffle()"
   ]
  },
  {
   "cell_type": "code",
   "execution_count": 27,
   "metadata": {
    "collapsed": false,
    "deletable": true,
    "editable": true
   },
   "outputs": [
    {
     "data": {
      "image/png": "[encoded data removed]",
      "text/plain": [
       "Console does not support images"
      ]
     },
     "metadata": {
      "image/png": {
       "height": 32,
       "width": 32
      }
     },
     "output_type": "display_data"
    },
    {
     "data": {
      "image/png": "[encoded data removed]",
      "text/plain": [
       "Console does not support images"
      ]
     },
     "metadata": {
      "image/png": {
       "height": 32,
       "width": 32
      }
     },
     "output_type": "display_data"
    },
    {
     "data": {
      "image/png": "[encoded data removed]",
      "text/plain": [
       "Console does not support images"
      ]
     },
     "metadata": {
      "image/png": {
       "height": 32,
       "width": 32
      }
     },
     "output_type": "display_data"
    },
    {
     "data": {
      "image/png": "[encoded data removed]",
      "text/plain": [
       "Console does not support images"
      ]
     },
     "metadata": {
      "image/png": {
       "height": 32,
       "width": 32
      }
     },
     "output_type": "display_data"
    },
    {
     "data": {
      "image/png": "[encoded data removed]",
      "text/plain": [
       "Console does not support images"
      ]
     },
     "metadata": {
      "image/png": {
       "height": 32,
       "width": 32
      }
     },
     "output_type": "display_data"
    }
   ],
   "source": [
    "itorch.image(trainSet:recover(trainSet[1][1]))\n",
    "itorch.image(trainSet:recover(trainSet[2][1]))\n",
    "itorch.image(trainSet:recover(trainSet[3][1]))\n",
    "itorch.image(trainSet:recover(trainSet[4][1]))\n",
    "itorch.image(trainSet:recover(trainSet[5][1]))"
   ]
  },
  {
   "cell_type": "code",
   "execution_count": null,
   "metadata": {
    "collapsed": true,
    "deletable": true,
    "editable": true
   },
   "outputs": [],
   "source": []
  }
 ],
 "metadata": {
  "kernelspec": {
   "display_name": "iTorch",
   "language": "lua",
   "name": "itorch"
  },
  "language_info": {
   "name": "lua",
   "version": "5.1"
  }
 },
 "nbformat": 4,
 "nbformat_minor": 2
}
